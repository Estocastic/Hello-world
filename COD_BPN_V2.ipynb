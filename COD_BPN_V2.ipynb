{
  "nbformat": 4,
  "nbformat_minor": 0,
  "metadata": {
    "colab": {
      "provenance": [],
      "collapsed_sections": [
        "WQ8AuwsijISs",
        "H8KKPgUUE1E1",
        "NjtPNV64W7_s",
        "LOz9xzcAe_Ml",
        "P-D52XVpbqg8",
        "dFbPdLMeeXxL",
        "u6_XcNxq0xB2",
        "sqxpmXMq955O",
        "tkMywgqSjM7U",
        "o9hKdnO7Pq6G",
        "_6MXgtCbTuym",
        "E4t7tcVsfjWB",
        "Teol6cLocB5p"
      ],
      "authorship_tag": "ABX9TyNlL+Ydi7zDkUUfJtZ1ulh1",
      "include_colab_link": true
    },
    "kernelspec": {
      "name": "python3",
      "display_name": "Python 3"
    },
    "language_info": {
      "name": "python"
    }
  },
  "cells": [
    {
      "cell_type": "markdown",
      "metadata": {
        "id": "view-in-github",
        "colab_type": "text"
      },
      "source": [
        "<a href=\"https://colab.research.google.com/github/Estocastic/Hello-world/blob/master/COD_BPN_V2.ipynb\" target=\"_parent\"><img src=\"https://colab.research.google.com/assets/colab-badge.svg\" alt=\"Open In Colab\"/></a>"
      ]
    },
    {
      "cell_type": "code",
      "execution_count": null,
      "metadata": {
        "id": "w9HjRWIV7qkD"
      },
      "outputs": [],
      "source": [
        "import pandas as pd\n",
        "import os"
      ]
    },
    {
      "cell_type": "code",
      "source": [
        "from google.colab import drive\n",
        "drive.mount('/content/drive')"
      ],
      "metadata": {
        "colab": {
          "base_uri": "https://localhost:8080/"
        },
        "id": "bf7JrFDy7wHm",
        "outputId": "b67d9831-5787-4a80-f398-ce284a9f25c0"
      },
      "execution_count": null,
      "outputs": [
        {
          "output_type": "stream",
          "name": "stdout",
          "text": [
            "Drive already mounted at /content/drive; to attempt to forcibly remount, call drive.mount(\"/content/drive\", force_remount=True).\n"
          ]
        }
      ]
    },
    {
      "cell_type": "code",
      "source": [
        "directorio = '/content/drive/My Drive/Datos_BPN2023'"
      ],
      "metadata": {
        "id": "U0FrS0QT7xEm"
      },
      "execution_count": null,
      "outputs": []
    },
    {
      "cell_type": "markdown",
      "source": [
        "# CAPITULO 1. PREPROCESAMIENTO NACIMIENTOS"
      ],
      "metadata": {
        "id": "WQ8AuwsijISs"
      }
    },
    {
      "cell_type": "markdown",
      "source": [
        "## 1.1. CARGA DE LOS DATOS NACIMIENTOS Y FILTROS LIMITROFES"
      ],
      "metadata": {
        "id": "H8KKPgUUE1E1"
      }
    },
    {
      "cell_type": "markdown",
      "source": [
        "### 1.1. CARGA INICIAL DE NACIMIENTOS Y MORTALIDAD EN LA CIUDAD DE CALI\n",
        "\n"
      ],
      "metadata": {
        "id": "8Pwsc7AjE_69"
      }
    },
    {
      "cell_type": "markdown",
      "source": [
        "#### CALI"
      ],
      "metadata": {
        "id": "wW6mBzJSdKOF"
      }
    },
    {
      "cell_type": "code",
      "source": [
        "# Lista para almacenar los DataFrames de Excel\n",
        "dfs = []\n",
        "\n",
        "# Cargar los data frames de nacimientos\n",
        "anyo_ini=2011\n",
        "for filename in os.listdir(directorio):\n",
        "    if filename.startswith(\"NACIM\") and filename.endswith(('xls', 'xlsx')):  # Filtrar si el archivo es de nacimiento\n",
        "\n",
        "        df = pd.read_excel(os.path.join(directorio, filename))\n",
        "        df['anyo']=anyo_ini\n",
        "        print(filename)\n",
        "        dfs.append(df)\n",
        "        anyo_ini=anyo_ini+1"
      ],
      "metadata": {
        "id": "rVW1Z-BL7yVu"
      },
      "execution_count": null,
      "outputs": []
    },
    {
      "cell_type": "code",
      "source": [
        "pd.DataFrame(list(map(lambda x: x.columns, dfs))).T # la variable fecha ultima modificacion no estan en la base 2017"
      ],
      "metadata": {
        "id": "7Di_Kykb73CN"
      },
      "execution_count": null,
      "outputs": []
    },
    {
      "cell_type": "code",
      "source": [
        "dfs=list(map(lambda x: x.drop('Fecha Última Modificación', axis=1, errors='ignore'), dfs)) # se retira la variable"
      ],
      "metadata": {
        "id": "5RSLEmV-782e"
      },
      "execution_count": null,
      "outputs": []
    },
    {
      "cell_type": "code",
      "source": [
        "df_final = pd.concat(dfs, ignore_index=True)"
      ],
      "metadata": {
        "id": "4BsSgOBh9chO"
      },
      "execution_count": null,
      "outputs": []
    },
    {
      "cell_type": "markdown",
      "source": [
        "#### VALLE"
      ],
      "metadata": {
        "id": "V2JpM6G39kXP"
      }
    },
    {
      "cell_type": "code",
      "source": [
        "nac_valle = pd.read_excel('/content/drive/My Drive/Datos_BPN2023/BD_Nv_2011_2021_HABC_v2.xlsx')"
      ],
      "metadata": {
        "id": "6ElnhZoz9iyO"
      },
      "execution_count": null,
      "outputs": []
    },
    {
      "cell_type": "markdown",
      "source": [
        "#### FILTROS LIMITROFES: SE DESCARTAN NACIMIENTOS FUERA DEL VALLE"
      ],
      "metadata": {
        "id": "6vZJPA8fuAym"
      }
    },
    {
      "cell_type": "code",
      "source": [
        "# Identificamos filtros: Nacimientos solo cuyo departamento de residencia fuese el valle.\n",
        "(df_final['Departamento Residencia'] == 'VALLE DEL CAUCA').value_counts()"
      ],
      "metadata": {
        "colab": {
          "base_uri": "https://localhost:8080/"
        },
        "id": "VIOL6v1Qw8be",
        "outputId": "07c07928-8768-4e60-a00d-32b19ab3f0bc"
      },
      "execution_count": null,
      "outputs": [
        {
          "output_type": "execute_result",
          "data": {
            "text/plain": [
              "True     377416\n",
              "False     24862\n",
              "Name: Departamento Residencia, dtype: int64"
            ]
          },
          "metadata": {},
          "execution_count": 168
        }
      ]
    },
    {
      "cell_type": "code",
      "source": [
        "# Identificamos filtros: Nacimientos solo cuyo departamento de residencia fuese el valle.\n",
        "(nac_valle['CODPTORE'] == 76).value_counts()"
      ],
      "metadata": {
        "colab": {
          "base_uri": "https://localhost:8080/"
        },
        "id": "PxgLCHSlt_Lu",
        "outputId": "e0e32f03-9b96-4b6a-9cd0-8c98b3d1e591"
      },
      "execution_count": null,
      "outputs": [
        {
          "output_type": "execute_result",
          "data": {
            "text/plain": [
              "True    265838\n",
              "Name: CODPTORE, dtype: int64"
            ]
          },
          "metadata": {},
          "execution_count": 169
        }
      ]
    },
    {
      "cell_type": "code",
      "source": [
        "f_valle_dptres = df_final['Departamento Residencia'] == 'VALLE DEL CAUCA'"
      ],
      "metadata": {
        "id": "_djw1rrkyZ1f"
      },
      "execution_count": null,
      "outputs": []
    },
    {
      "cell_type": "code",
      "source": [
        "df_final = df_final[f_valle_dptres].copy()"
      ],
      "metadata": {
        "id": "7YHhHs0vykh8"
      },
      "execution_count": null,
      "outputs": []
    },
    {
      "cell_type": "markdown",
      "source": [
        "## 1.2. APLICACIÓN DE FILTROS PARA LLEGAR A LA POBLACIÓN OBJETIVO:"
      ],
      "metadata": {
        "id": "NjtPNV64W7_s"
      }
    },
    {
      "cell_type": "markdown",
      "source": [
        "### 2.1. Construcción de los filtros\n",
        "\n"
      ],
      "metadata": {
        "id": "LOz9xzcAe_Ml"
      }
    },
    {
      "cell_type": "code",
      "source": [
        "print('Médidas iniciales del Tiempo gestación y el Peso al nacer: \\n')\n",
        "print(f'CALI \\n',df_final[['Tiempo Gestación','Peso']].describe().round())\n",
        "print(f'VALLE \\n',nac_valle[['T_GES','PESO_NAC']].describe().round())"
      ],
      "metadata": {
        "colab": {
          "base_uri": "https://localhost:8080/"
        },
        "id": "cCQTNBHQH3n1",
        "outputId": "8dace9cc-822d-4960-fa4a-ee58cc7d0869"
      },
      "execution_count": null,
      "outputs": [
        {
          "output_type": "stream",
          "name": "stdout",
          "text": [
            "Médidas iniciales del Tiempo gestación y el Peso al nacer: \n",
            "\n",
            "CALI \n",
            "        Tiempo Gestación      Peso\n",
            "count          377343.0  377412.0\n",
            "mean               38.0    3126.0\n",
            "std                 2.0     556.0\n",
            "min                18.0     220.0\n",
            "25%                38.0    2860.0\n",
            "50%                39.0    3180.0\n",
            "75%                40.0    3480.0\n",
            "max                49.0    5960.0\n",
            "VALLE \n",
            "           T_GES  PESO_NAC\n",
            "count  265838.0  265838.0\n",
            "mean       39.0    3147.0\n",
            "std         3.0     549.0\n",
            "min        15.0     208.0\n",
            "25%        38.0    2880.0\n",
            "50%        39.0    3180.0\n",
            "75%        40.0    3490.0\n",
            "max        99.0    9999.0\n"
          ]
        }
      ]
    },
    {
      "cell_type": "code",
      "source": [
        "f_bpnt_cali = ((df_final['Peso'] < 2500) & (df_final['Tiempo Gestación'] >= 37))\n",
        "conteo = f_bpnt_cali.sum()\n",
        "porcentaje = (conteo / len(df_final)) * 100\n",
        "\n",
        "print(((df_final['Peso'] < 2500 ) & (df_final['Tiempo Gestación'] >= 37)).value_counts())\n",
        "print(f'Número de nacidos vivos en Cali con BPNT: {conteo}')\n",
        "print(f'Porcentaje de nacidos vivos en el Valle con BPNT: {porcentaje:.2f}%')\n"
      ],
      "metadata": {
        "colab": {
          "base_uri": "https://localhost:8080/"
        },
        "id": "J2wpJ22qaNp9",
        "outputId": "9840d80d-d0e9-49d2-a013-3bd05b800de4"
      },
      "execution_count": null,
      "outputs": [
        {
          "output_type": "stream",
          "name": "stdout",
          "text": [
            "False    365640\n",
            "True      11776\n",
            "dtype: int64\n",
            "Número de nacidos vivos en Cali con BPNT: 11776\n",
            "Porcentaje de nacidos vivos en el Valle con BPNT: 3.12%\n"
          ]
        }
      ]
    },
    {
      "cell_type": "code",
      "source": [
        "f_bpnt_valle = ((nac_valle['PESO_NAC'] < 2500 ) & (nac_valle['T_GES'] >= 37))\n",
        "conteo = f_bpnt_valle.sum()\n",
        "porcentaje = (conteo / len(df_final)) * 100\n",
        "\n",
        "print(((nac_valle['PESO_NAC'] < 2500 ) & (nac_valle['T_GES'] >= 37)).value_counts())\n",
        "print(f'Número de nacidos vivos en Cali con BPNT: {conteo}')\n",
        "print(f'Porcentaje de nacidos vivos en el Valle con BPNT: {porcentaje:.2f}%')\n"
      ],
      "metadata": {
        "colab": {
          "base_uri": "https://localhost:8080/"
        },
        "id": "f1BOMv1wXmpd",
        "outputId": "84f653e0-b970-4caf-ce63-d4917e0826de"
      },
      "execution_count": null,
      "outputs": [
        {
          "output_type": "stream",
          "name": "stdout",
          "text": [
            "False    258117\n",
            "True       7721\n",
            "dtype: int64\n",
            "Número de nacidos vivos en Cali con BPNT: 7721\n",
            "Porcentaje de nacidos vivos en el Valle con BPNT: 2.05%\n"
          ]
        }
      ]
    },
    {
      "cell_type": "markdown",
      "source": [
        "### 2.2. Aplicación de los filtros: POBLACIÓN OBJETIVO"
      ],
      "metadata": {
        "id": "P-D52XVpbqg8"
      }
    },
    {
      "cell_type": "code",
      "source": [
        "nac_cali = df_final[f_bpnt_cali].copy()\n",
        "nac_valle = nac_valle[f_bpnt_valle].copy()\n",
        "\n",
        "print(nac_cali.shape)\n",
        "print(nac_valle.shape)"
      ],
      "metadata": {
        "colab": {
          "base_uri": "https://localhost:8080/"
        },
        "id": "ATWA8ns9bpEM",
        "outputId": "fb6e3185-3620-4453-e3d9-6d79c6120e60"
      },
      "execution_count": null,
      "outputs": [
        {
          "output_type": "stream",
          "name": "stdout",
          "text": [
            "(11776, 51)\n",
            "(7721, 45)\n"
          ]
        }
      ]
    },
    {
      "cell_type": "markdown",
      "source": [
        "#### 2.2.1. PLUS: eliminar nacimientos fuera del valle"
      ],
      "metadata": {
        "id": "PLKyNRnItLr-"
      }
    },
    {
      "cell_type": "markdown",
      "source": [
        "Conclusión: En total se tienen 11.776 + 7721 = 19.497\n",
        " registros de nacimientos con BPNT sumados en las dos fuentes de datos. Sin embargo, antes de unirlos falta corroborar y descartar de una de las bases registros con cédulas que estén contenidos en ambos y que correspondan al mismo nacimiento (fecha de nacimiento)."
      ],
      "metadata": {
        "id": "W-a6S8S_kzXs"
      }
    },
    {
      "cell_type": "markdown",
      "source": [
        "### 2.3. ADICIONAL:  Recategorización de las variables y Se lección de Columnas\n",
        "\n",
        "Se recategorizan las variables del Valle del cauca con base en los valores asociados en df_mapeo que relaciona número y nombre, según el formulario de nacimientos RUAF.\n",
        "\n",
        "Las de Cali no necesitan recategorización."
      ],
      "metadata": {
        "id": "dFbPdLMeeXxL"
      }
    },
    {
      "cell_type": "code",
      "source": [
        "df_mapeo = pd.read_excel('/content/drive/My Drive/Datos_BPN2023/variables_codificar.xlsx')"
      ],
      "metadata": {
        "id": "_ij2URApeW-c"
      },
      "execution_count": null,
      "outputs": []
    },
    {
      "cell_type": "code",
      "source": [
        "mapeo_dict = {}\n",
        "for columna in df_mapeo['name'].unique():\n",
        "    sub_df = df_mapeo[df_mapeo['name'] == columna].copy()\n",
        "    mapeo_dict[columna] = dict(zip(sub_df['numero'], sub_df['categoria']))\n",
        "for columna, mapeo in mapeo_dict.items():\n",
        "    nac_valle.loc[:,columna] = nac_valle.loc[:,columna].map(mapeo)"
      ],
      "metadata": {
        "id": "A3XZbP9ugSDc"
      },
      "execution_count": null,
      "outputs": []
    },
    {
      "cell_type": "markdown",
      "source": [
        "#### Se seleccionan ***`parcialmente`*** las variables de interés colocandoseles el mismo nombre para su posterior unión. Se mantienen los nombres de las columnas del conjunto de datos de Cali"
      ],
      "metadata": {
        "id": "IEkBUk3ag_tH"
      }
    },
    {
      "cell_type": "code",
      "source": [
        "nac_cali = nac_cali[['Municipio Nacimiento' , 'Area Nacimiento' , 'Sitio Parto' , 'IPS' , 'Sexo' , 'Peso' , 'Talla' , 'Fecha Nacimiento' , 'Parto Atendido Por' , 'Tiempo Gestación' , 'Número Consultas Prenatales' , 'Tipo Parto' , 'Multiplicidad Embarazo' , 'APGAR1' , 'APGAR5' , 'Grupo Sanguineo' , 'Factor RH' , 'Pertenencia Étnica' , 'Pueblo Indígena' , 'Tipo Documento Madre' , 'Numero Documento Madre' , 'Edad Madre' , 'Estado Conyugal Madre' , 'Último Año Estudios Madre' , 'Municipio Residencia' , 'Área Residencia' , 'Número Hijos Nacidos Vivos' , 'Fecha Nacimiento Anterior Hijo' , 'Numero Embarazos' , 'Régimen Seguridad Social' , 'EPS' , 'Edad Padre' , 'Último Año Estudios Padre']]"
      ],
      "metadata": {
        "id": "GXwMVnzHhcU1"
      },
      "execution_count": null,
      "outputs": []
    },
    {
      "cell_type": "code",
      "source": [
        "nac_valle=nac_valle[['COD_MUNIC' , 'AREANAC' , 'SIT_PARTO' , 'NOM_INST' , 'SEXO' , 'PESO_NAC' , 'TALLA_NAC' , 'FECHA_NAC' , 'ATEN_PAR' , 'T_GES' , 'NUMCONSUL' , 'TIPO_PARTO' , 'MUL_PARTO' , 'APGAR1' , 'APGAR2' , 'IDHEMOCLAS' , 'IDFACTORRH' , 'IDPERTET' , 'NOM_PUEB' , 'DOC_ID' , 'NRO_DOC' , 'EDAD_MADRE' , 'EST_CIVM' , 'NIV_EDUM' , 'CODMUNRE' , 'AREA_RES' , 'N_HIJOSV' , 'FECHA_NACM' , 'N_EMB' , 'SEG_SOCIAL' , 'NOMCLASAD' , 'EDAD_PADRE' , 'NIV_EDUP']]"
      ],
      "metadata": {
        "id": "2Lttmy89g-sU"
      },
      "execution_count": null,
      "outputs": []
    },
    {
      "cell_type": "code",
      "source": [
        "nac_valle.columns = ['Municipio Nacimiento' , 'Area Nacimiento' , 'Sitio Parto' , 'IPS' , 'Sexo' , 'Peso' , 'Talla' , 'Fecha Nacimiento' , 'Parto Atendido Por' , 'Tiempo Gestación' , 'Número Consultas Prenatales' , 'Tipo Parto' , 'Multiplicidad Embarazo' , 'APGAR1' , 'APGAR5' , 'Grupo Sanguineo' , 'Factor RH' , 'Pertenencia Étnica' , 'Pueblo Indígena' , 'Tipo Documento Madre' , 'Numero Documento Madre' , 'Edad Madre' , 'Estado Conyugal Madre' , 'Último Año Estudios Madre' , 'Municipio Residencia' , 'Área Residencia' , 'Número Hijos Nacidos Vivos' , 'Fecha Nacimiento Anterior Hijo' , 'Numero Embarazos' , 'Régimen Seguridad Social' , 'EPS' , 'Edad Padre' , 'Último Año Estudios Padre']"
      ],
      "metadata": {
        "id": "GvPJx0A8iSYm"
      },
      "execution_count": null,
      "outputs": []
    },
    {
      "cell_type": "code",
      "source": [
        "pd.DataFrame({'Col_cali': nac_cali.columns, 'Col_valle': nac_valle.columns}).T"
      ],
      "metadata": {
        "colab": {
          "base_uri": "https://localhost:8080/",
          "height": 265
        },
        "id": "-e88aksnjiol",
        "outputId": "2bdae033-eb8f-4f9a-dde4-2e5f4a1d61c4"
      },
      "execution_count": null,
      "outputs": [
        {
          "output_type": "execute_result",
          "data": {
            "text/plain": [
              "                             0                1            2    3     4   \\\n",
              "Col_cali   Municipio Nacimiento  Area Nacimiento  Sitio Parto  IPS  Sexo   \n",
              "Col_valle  Municipio Nacimiento  Area Nacimiento  Sitio Parto  IPS  Sexo   \n",
              "\n",
              "             5      6                 7                   8   \\\n",
              "Col_cali   Peso  Talla  Fecha Nacimiento  Parto Atendido Por   \n",
              "Col_valle  Peso  Talla  Fecha Nacimiento  Parto Atendido Por   \n",
              "\n",
              "                         9   ...                         23  \\\n",
              "Col_cali   Tiempo Gestación  ...  Último Año Estudios Madre   \n",
              "Col_valle  Tiempo Gestación  ...  Último Año Estudios Madre   \n",
              "\n",
              "                             24               25                          26  \\\n",
              "Col_cali   Municipio Residencia  Área Residencia  Número Hijos Nacidos Vivos   \n",
              "Col_valle  Municipio Residencia  Área Residencia  Número Hijos Nacidos Vivos   \n",
              "\n",
              "                                       27                28  \\\n",
              "Col_cali   Fecha Nacimiento Anterior Hijo  Numero Embarazos   \n",
              "Col_valle  Fecha Nacimiento Anterior Hijo  Numero Embarazos   \n",
              "\n",
              "                                 29   30          31  \\\n",
              "Col_cali   Régimen Seguridad Social  EPS  Edad Padre   \n",
              "Col_valle  Régimen Seguridad Social  EPS  Edad Padre   \n",
              "\n",
              "                                  32  \n",
              "Col_cali   Último Año Estudios Padre  \n",
              "Col_valle  Último Año Estudios Padre  \n",
              "\n",
              "[2 rows x 33 columns]"
            ],
            "text/html": [
              "\n",
              "  <div id=\"df-17cf7d60-0901-476b-ae1b-c6f51f3f2f90\" class=\"colab-df-container\">\n",
              "    <div>\n",
              "<style scoped>\n",
              "    .dataframe tbody tr th:only-of-type {\n",
              "        vertical-align: middle;\n",
              "    }\n",
              "\n",
              "    .dataframe tbody tr th {\n",
              "        vertical-align: top;\n",
              "    }\n",
              "\n",
              "    .dataframe thead th {\n",
              "        text-align: right;\n",
              "    }\n",
              "</style>\n",
              "<table border=\"1\" class=\"dataframe\">\n",
              "  <thead>\n",
              "    <tr style=\"text-align: right;\">\n",
              "      <th></th>\n",
              "      <th>0</th>\n",
              "      <th>1</th>\n",
              "      <th>2</th>\n",
              "      <th>3</th>\n",
              "      <th>4</th>\n",
              "      <th>5</th>\n",
              "      <th>6</th>\n",
              "      <th>7</th>\n",
              "      <th>8</th>\n",
              "      <th>9</th>\n",
              "      <th>...</th>\n",
              "      <th>23</th>\n",
              "      <th>24</th>\n",
              "      <th>25</th>\n",
              "      <th>26</th>\n",
              "      <th>27</th>\n",
              "      <th>28</th>\n",
              "      <th>29</th>\n",
              "      <th>30</th>\n",
              "      <th>31</th>\n",
              "      <th>32</th>\n",
              "    </tr>\n",
              "  </thead>\n",
              "  <tbody>\n",
              "    <tr>\n",
              "      <th>Col_cali</th>\n",
              "      <td>Municipio Nacimiento</td>\n",
              "      <td>Area Nacimiento</td>\n",
              "      <td>Sitio Parto</td>\n",
              "      <td>IPS</td>\n",
              "      <td>Sexo</td>\n",
              "      <td>Peso</td>\n",
              "      <td>Talla</td>\n",
              "      <td>Fecha Nacimiento</td>\n",
              "      <td>Parto Atendido Por</td>\n",
              "      <td>Tiempo Gestación</td>\n",
              "      <td>...</td>\n",
              "      <td>Último Año Estudios Madre</td>\n",
              "      <td>Municipio Residencia</td>\n",
              "      <td>Área Residencia</td>\n",
              "      <td>Número Hijos Nacidos Vivos</td>\n",
              "      <td>Fecha Nacimiento Anterior Hijo</td>\n",
              "      <td>Numero Embarazos</td>\n",
              "      <td>Régimen Seguridad Social</td>\n",
              "      <td>EPS</td>\n",
              "      <td>Edad Padre</td>\n",
              "      <td>Último Año Estudios Padre</td>\n",
              "    </tr>\n",
              "    <tr>\n",
              "      <th>Col_valle</th>\n",
              "      <td>Municipio Nacimiento</td>\n",
              "      <td>Area Nacimiento</td>\n",
              "      <td>Sitio Parto</td>\n",
              "      <td>IPS</td>\n",
              "      <td>Sexo</td>\n",
              "      <td>Peso</td>\n",
              "      <td>Talla</td>\n",
              "      <td>Fecha Nacimiento</td>\n",
              "      <td>Parto Atendido Por</td>\n",
              "      <td>Tiempo Gestación</td>\n",
              "      <td>...</td>\n",
              "      <td>Último Año Estudios Madre</td>\n",
              "      <td>Municipio Residencia</td>\n",
              "      <td>Área Residencia</td>\n",
              "      <td>Número Hijos Nacidos Vivos</td>\n",
              "      <td>Fecha Nacimiento Anterior Hijo</td>\n",
              "      <td>Numero Embarazos</td>\n",
              "      <td>Régimen Seguridad Social</td>\n",
              "      <td>EPS</td>\n",
              "      <td>Edad Padre</td>\n",
              "      <td>Último Año Estudios Padre</td>\n",
              "    </tr>\n",
              "  </tbody>\n",
              "</table>\n",
              "<p>2 rows × 33 columns</p>\n",
              "</div>\n",
              "    <div class=\"colab-df-buttons\">\n",
              "\n",
              "  <div class=\"colab-df-container\">\n",
              "    <button class=\"colab-df-convert\" onclick=\"convertToInteractive('df-17cf7d60-0901-476b-ae1b-c6f51f3f2f90')\"\n",
              "            title=\"Convert this dataframe to an interactive table.\"\n",
              "            style=\"display:none;\">\n",
              "\n",
              "  <svg xmlns=\"http://www.w3.org/2000/svg\" height=\"24px\" viewBox=\"0 -960 960 960\">\n",
              "    <path d=\"M120-120v-720h720v720H120Zm60-500h600v-160H180v160Zm220 220h160v-160H400v160Zm0 220h160v-160H400v160ZM180-400h160v-160H180v160Zm440 0h160v-160H620v160ZM180-180h160v-160H180v160Zm440 0h160v-160H620v160Z\"/>\n",
              "  </svg>\n",
              "    </button>\n",
              "\n",
              "  <style>\n",
              "    .colab-df-container {\n",
              "      display:flex;\n",
              "      gap: 12px;\n",
              "    }\n",
              "\n",
              "    .colab-df-convert {\n",
              "      background-color: #E8F0FE;\n",
              "      border: none;\n",
              "      border-radius: 50%;\n",
              "      cursor: pointer;\n",
              "      display: none;\n",
              "      fill: #1967D2;\n",
              "      height: 32px;\n",
              "      padding: 0 0 0 0;\n",
              "      width: 32px;\n",
              "    }\n",
              "\n",
              "    .colab-df-convert:hover {\n",
              "      background-color: #E2EBFA;\n",
              "      box-shadow: 0px 1px 2px rgba(60, 64, 67, 0.3), 0px 1px 3px 1px rgba(60, 64, 67, 0.15);\n",
              "      fill: #174EA6;\n",
              "    }\n",
              "\n",
              "    .colab-df-buttons div {\n",
              "      margin-bottom: 4px;\n",
              "    }\n",
              "\n",
              "    [theme=dark] .colab-df-convert {\n",
              "      background-color: #3B4455;\n",
              "      fill: #D2E3FC;\n",
              "    }\n",
              "\n",
              "    [theme=dark] .colab-df-convert:hover {\n",
              "      background-color: #434B5C;\n",
              "      box-shadow: 0px 1px 3px 1px rgba(0, 0, 0, 0.15);\n",
              "      filter: drop-shadow(0px 1px 2px rgba(0, 0, 0, 0.3));\n",
              "      fill: #FFFFFF;\n",
              "    }\n",
              "  </style>\n",
              "\n",
              "    <script>\n",
              "      const buttonEl =\n",
              "        document.querySelector('#df-17cf7d60-0901-476b-ae1b-c6f51f3f2f90 button.colab-df-convert');\n",
              "      buttonEl.style.display =\n",
              "        google.colab.kernel.accessAllowed ? 'block' : 'none';\n",
              "\n",
              "      async function convertToInteractive(key) {\n",
              "        const element = document.querySelector('#df-17cf7d60-0901-476b-ae1b-c6f51f3f2f90');\n",
              "        const dataTable =\n",
              "          await google.colab.kernel.invokeFunction('convertToInteractive',\n",
              "                                                    [key], {});\n",
              "        if (!dataTable) return;\n",
              "\n",
              "        const docLinkHtml = 'Like what you see? Visit the ' +\n",
              "          '<a target=\"_blank\" href=https://colab.research.google.com/notebooks/data_table.ipynb>data table notebook</a>'\n",
              "          + ' to learn more about interactive tables.';\n",
              "        element.innerHTML = '';\n",
              "        dataTable['output_type'] = 'display_data';\n",
              "        await google.colab.output.renderOutput(dataTable, element);\n",
              "        const docLink = document.createElement('div');\n",
              "        docLink.innerHTML = docLinkHtml;\n",
              "        element.appendChild(docLink);\n",
              "      }\n",
              "    </script>\n",
              "  </div>\n",
              "\n",
              "\n",
              "<div id=\"df-90fd1d41-25e8-4a43-85f1-399857d6fe01\">\n",
              "  <button class=\"colab-df-quickchart\" onclick=\"quickchart('df-90fd1d41-25e8-4a43-85f1-399857d6fe01')\"\n",
              "            title=\"Suggest charts\"\n",
              "            style=\"display:none;\">\n",
              "\n",
              "<svg xmlns=\"http://www.w3.org/2000/svg\" height=\"24px\"viewBox=\"0 0 24 24\"\n",
              "     width=\"24px\">\n",
              "    <g>\n",
              "        <path d=\"M19 3H5c-1.1 0-2 .9-2 2v14c0 1.1.9 2 2 2h14c1.1 0 2-.9 2-2V5c0-1.1-.9-2-2-2zM9 17H7v-7h2v7zm4 0h-2V7h2v10zm4 0h-2v-4h2v4z\"/>\n",
              "    </g>\n",
              "</svg>\n",
              "  </button>\n",
              "\n",
              "<style>\n",
              "  .colab-df-quickchart {\n",
              "      --bg-color: #E8F0FE;\n",
              "      --fill-color: #1967D2;\n",
              "      --hover-bg-color: #E2EBFA;\n",
              "      --hover-fill-color: #174EA6;\n",
              "      --disabled-fill-color: #AAA;\n",
              "      --disabled-bg-color: #DDD;\n",
              "  }\n",
              "\n",
              "  [theme=dark] .colab-df-quickchart {\n",
              "      --bg-color: #3B4455;\n",
              "      --fill-color: #D2E3FC;\n",
              "      --hover-bg-color: #434B5C;\n",
              "      --hover-fill-color: #FFFFFF;\n",
              "      --disabled-bg-color: #3B4455;\n",
              "      --disabled-fill-color: #666;\n",
              "  }\n",
              "\n",
              "  .colab-df-quickchart {\n",
              "    background-color: var(--bg-color);\n",
              "    border: none;\n",
              "    border-radius: 50%;\n",
              "    cursor: pointer;\n",
              "    display: none;\n",
              "    fill: var(--fill-color);\n",
              "    height: 32px;\n",
              "    padding: 0;\n",
              "    width: 32px;\n",
              "  }\n",
              "\n",
              "  .colab-df-quickchart:hover {\n",
              "    background-color: var(--hover-bg-color);\n",
              "    box-shadow: 0 1px 2px rgba(60, 64, 67, 0.3), 0 1px 3px 1px rgba(60, 64, 67, 0.15);\n",
              "    fill: var(--button-hover-fill-color);\n",
              "  }\n",
              "\n",
              "  .colab-df-quickchart-complete:disabled,\n",
              "  .colab-df-quickchart-complete:disabled:hover {\n",
              "    background-color: var(--disabled-bg-color);\n",
              "    fill: var(--disabled-fill-color);\n",
              "    box-shadow: none;\n",
              "  }\n",
              "\n",
              "  .colab-df-spinner {\n",
              "    border: 2px solid var(--fill-color);\n",
              "    border-color: transparent;\n",
              "    border-bottom-color: var(--fill-color);\n",
              "    animation:\n",
              "      spin 1s steps(1) infinite;\n",
              "  }\n",
              "\n",
              "  @keyframes spin {\n",
              "    0% {\n",
              "      border-color: transparent;\n",
              "      border-bottom-color: var(--fill-color);\n",
              "      border-left-color: var(--fill-color);\n",
              "    }\n",
              "    20% {\n",
              "      border-color: transparent;\n",
              "      border-left-color: var(--fill-color);\n",
              "      border-top-color: var(--fill-color);\n",
              "    }\n",
              "    30% {\n",
              "      border-color: transparent;\n",
              "      border-left-color: var(--fill-color);\n",
              "      border-top-color: var(--fill-color);\n",
              "      border-right-color: var(--fill-color);\n",
              "    }\n",
              "    40% {\n",
              "      border-color: transparent;\n",
              "      border-right-color: var(--fill-color);\n",
              "      border-top-color: var(--fill-color);\n",
              "    }\n",
              "    60% {\n",
              "      border-color: transparent;\n",
              "      border-right-color: var(--fill-color);\n",
              "    }\n",
              "    80% {\n",
              "      border-color: transparent;\n",
              "      border-right-color: var(--fill-color);\n",
              "      border-bottom-color: var(--fill-color);\n",
              "    }\n",
              "    90% {\n",
              "      border-color: transparent;\n",
              "      border-bottom-color: var(--fill-color);\n",
              "    }\n",
              "  }\n",
              "</style>\n",
              "\n",
              "  <script>\n",
              "    async function quickchart(key) {\n",
              "      const quickchartButtonEl =\n",
              "        document.querySelector('#' + key + ' button');\n",
              "      quickchartButtonEl.disabled = true;  // To prevent multiple clicks.\n",
              "      quickchartButtonEl.classList.add('colab-df-spinner');\n",
              "      try {\n",
              "        const charts = await google.colab.kernel.invokeFunction(\n",
              "            'suggestCharts', [key], {});\n",
              "      } catch (error) {\n",
              "        console.error('Error during call to suggestCharts:', error);\n",
              "      }\n",
              "      quickchartButtonEl.classList.remove('colab-df-spinner');\n",
              "      quickchartButtonEl.classList.add('colab-df-quickchart-complete');\n",
              "    }\n",
              "    (() => {\n",
              "      let quickchartButtonEl =\n",
              "        document.querySelector('#df-90fd1d41-25e8-4a43-85f1-399857d6fe01 button');\n",
              "      quickchartButtonEl.style.display =\n",
              "        google.colab.kernel.accessAllowed ? 'block' : 'none';\n",
              "    })();\n",
              "  </script>\n",
              "</div>\n",
              "    </div>\n",
              "  </div>\n"
            ]
          },
          "metadata": {},
          "execution_count": 180
        }
      ]
    },
    {
      "cell_type": "code",
      "source": [
        "nac_cali.shape"
      ],
      "metadata": {
        "colab": {
          "base_uri": "https://localhost:8080/"
        },
        "id": "OKHbzZFjI6DQ",
        "outputId": "41ed442b-3663-49d7-8af7-062e73b7e5ca"
      },
      "execution_count": null,
      "outputs": [
        {
          "output_type": "execute_result",
          "data": {
            "text/plain": [
              "(11776, 33)"
            ]
          },
          "metadata": {},
          "execution_count": 181
        }
      ]
    },
    {
      "cell_type": "markdown",
      "source": [
        "## 1.3. UNIÓN DE LOS CONJUNTOS DE DATOS VALLE Y CALI EN UNO SOLO\n",
        "\n",
        "3.4.2. APLICACIÓN DE LOS FILTROS:\n",
        "\n",
        "Antes de unir los data sets, se elabora una comparación mediante las llaves de integración (Número de documento y fecha de nacimiento).\n",
        "Para responder a la pregunta:\n",
        "\n",
        "¿Cuáles de los registros corresponden a los mismos nacimientos?. Y teniendo como base la fuente de Cali, se eliminarán aquellos encontrados como repetidos de la fuente de Valle del cauca.\n"
      ],
      "metadata": {
        "id": "uRo1bQkvUM7s"
      }
    },
    {
      "cell_type": "markdown",
      "source": [
        "### 3.1. CONSTRUCCIÓN DE LOS FILTROS 2: CÉDULAS REDUNDANTES.\n",
        "\n",
        "Se necesita unir los datos y valle en uno solo. pero antes, se corrobora que la unión no contenga datos que estén duplicados y/o que antes de hacer los filtros haya necesidad de mantener."
      ],
      "metadata": {
        "id": "FyaxL0sakNul"
      }
    },
    {
      "cell_type": "markdown",
      "source": [
        "#### Subfiltro : Quítamos registros con número de identificación faltante."
      ],
      "metadata": {
        "id": "u6_XcNxq0xB2"
      }
    },
    {
      "cell_type": "code",
      "source": [
        "((nac_cali['Numero Documento Madre'] == 99999999999)|\n",
        " (nac_cali['Numero Documento Madre'].isna())|\n",
        " (nac_cali['Numero Documento Madre'] == 0)).value_counts()"
      ],
      "metadata": {
        "colab": {
          "base_uri": "https://localhost:8080/"
        },
        "id": "-Jrp-oSnVeja",
        "outputId": "e67a1e36-2f8c-4e26-ef36-5ef4f0a2d2d4"
      },
      "execution_count": null,
      "outputs": [
        {
          "output_type": "execute_result",
          "data": {
            "text/plain": [
              "False    11725\n",
              "True        51\n",
              "Name: Numero Documento Madre, dtype: int64"
            ]
          },
          "metadata": {},
          "execution_count": 182
        }
      ]
    },
    {
      "cell_type": "code",
      "source": [
        "((nac_valle['Numero Documento Madre'] == 99999999999)|\n",
        " (nac_valle['Numero Documento Madre'].isna())|\n",
        " (nac_valle['Numero Documento Madre'] == 0)).value_counts()"
      ],
      "metadata": {
        "id": "wfXaQQ7eVxdK",
        "colab": {
          "base_uri": "https://localhost:8080/"
        },
        "outputId": "f29d023f-4f55-4715-9ded-3528f991b4b9"
      },
      "execution_count": null,
      "outputs": [
        {
          "output_type": "execute_result",
          "data": {
            "text/plain": [
              "False    7682\n",
              "True       39\n",
              "Name: Numero Documento Madre, dtype: int64"
            ]
          },
          "metadata": {},
          "execution_count": 183
        }
      ]
    },
    {
      "cell_type": "code",
      "source": [
        "f_idna_cali = ((nac_cali['Numero Documento Madre'] == 99999999999)|\n",
        " (nac_cali['Numero Documento Madre'].isna())|\n",
        " (nac_cali['Numero Documento Madre'] == 0))\n",
        "\n",
        "f_idna_valle = ((nac_valle['Numero Documento Madre'] == 99999999999)|\n",
        " (nac_valle['Numero Documento Madre'].isna())|\n",
        " (nac_valle['Numero Documento Madre'] == 0))"
      ],
      "metadata": {
        "id": "N2pxms-e0_6O"
      },
      "execution_count": null,
      "outputs": []
    },
    {
      "cell_type": "code",
      "source": [
        "nac_cali = nac_cali[~f_idna_cali].copy()\n",
        "nac_valle = nac_valle[~f_idna_valle].copy()"
      ],
      "metadata": {
        "id": "jU-GJ2JT1ReN"
      },
      "execution_count": null,
      "outputs": []
    },
    {
      "cell_type": "markdown",
      "source": [
        "#### Convertimos a formato fecha asegurandonos de que no hayan filtros con fechas vacías:"
      ],
      "metadata": {
        "id": "--saWzDO54s-"
      }
    },
    {
      "cell_type": "code",
      "source": [
        "pd.to_datetime(nac_cali['Fecha Nacimiento'], errors = 'coerce').isna().value_counts()"
      ],
      "metadata": {
        "colab": {
          "base_uri": "https://localhost:8080/"
        },
        "id": "5c8EoU2NaHPh",
        "outputId": "f6096913-47f2-47c3-d40d-9b8f16ba3ff6"
      },
      "execution_count": null,
      "outputs": [
        {
          "output_type": "execute_result",
          "data": {
            "text/plain": [
              "False    11725\n",
              "Name: Fecha Nacimiento, dtype: int64"
            ]
          },
          "metadata": {},
          "execution_count": 186
        }
      ]
    },
    {
      "cell_type": "code",
      "source": [
        "pd.to_datetime(nac_valle['Fecha Nacimiento'], errors = 'coerce').isna().value_counts()"
      ],
      "metadata": {
        "colab": {
          "base_uri": "https://localhost:8080/"
        },
        "id": "ZI3JNd92czDq",
        "outputId": "beb0b52c-ffd1-4f9a-ba64-836a10d20210"
      },
      "execution_count": null,
      "outputs": [
        {
          "output_type": "stream",
          "name": "stderr",
          "text": [
            "<ipython-input-187-bc17c2fd696c>:1: UserWarning: Parsing dates in DD/MM/YYYY format when dayfirst=False (the default) was specified. This may lead to inconsistently parsed dates! Specify a format to ensure consistent parsing.\n",
            "  pd.to_datetime(nac_valle['Fecha Nacimiento'], errors = 'coerce').isna().value_counts()\n"
          ]
        },
        {
          "output_type": "execute_result",
          "data": {
            "text/plain": [
              "False    7682\n",
              "Name: Fecha Nacimiento, dtype: int64"
            ]
          },
          "metadata": {},
          "execution_count": 187
        }
      ]
    },
    {
      "cell_type": "code",
      "source": [
        "# COMO TODAS LAS FECHAS ESTUVIERON BIEN CONVERTIDAS AHORA SE REEMPLAZAN LA MISMA FUNCIÓN EN EN CADA DATA FRAME:\n",
        "nac_cali['Fecha Nacimiento'] = pd.to_datetime(nac_cali['Fecha Nacimiento'], errors = 'coerce')\n",
        "nac_valle['Fecha Nacimiento'] = pd.to_datetime(nac_valle['Fecha Nacimiento'], errors = 'coerce')"
      ],
      "metadata": {
        "colab": {
          "base_uri": "https://localhost:8080/"
        },
        "id": "96A9x9bXfamh",
        "outputId": "884c4147-9f5a-4b05-cf31-b9305a0d717e"
      },
      "execution_count": null,
      "outputs": [
        {
          "output_type": "stream",
          "name": "stderr",
          "text": [
            "<ipython-input-188-899dbef886de>:3: UserWarning: Parsing dates in DD/MM/YYYY format when dayfirst=False (the default) was specified. This may lead to inconsistently parsed dates! Specify a format to ensure consistent parsing.\n",
            "  nac_valle['Fecha Nacimiento'] = pd.to_datetime(nac_valle['Fecha Nacimiento'], errors = 'coerce')\n"
          ]
        }
      ]
    },
    {
      "cell_type": "markdown",
      "source": [
        "#### CRUCE DE NUMERO DE IDENTIFICACIÓN - VERIFICACIÓN DE DATOS REDUNDANTES.\n",
        "\n",
        "Se localizan los índices de los registros duplicados en el conjunto de datos del Valle con respecto a Cali.\n",
        "Elimina esos registros duplicados del conjunto de datos del Valle."
      ],
      "metadata": {
        "id": "sqxpmXMq955O"
      }
    },
    {
      "cell_type": "code",
      "source": [
        "# VOLVEMOS COMPARABLES LAS ID\n",
        "nac_cali['Numero Documento Madre'] = nac_cali['Numero Documento Madre'].astype(str)\n",
        "nac_valle['Numero Documento Madre'] = nac_valle['Numero Documento Madre'].astype(int).astype(str)"
      ],
      "metadata": {
        "id": "UuOfMC7ZFCnQ"
      },
      "execution_count": null,
      "outputs": []
    },
    {
      "cell_type": "code",
      "source": [
        "nac_cali['Fecha Nacimiento']"
      ],
      "metadata": {
        "colab": {
          "base_uri": "https://localhost:8080/"
        },
        "id": "GOYWdZE8HEXQ",
        "outputId": "ec8cc623-1131-405f-98f4-1a495499e224"
      },
      "execution_count": null,
      "outputs": [
        {
          "output_type": "execute_result",
          "data": {
            "text/plain": [
              "42       2020-01-11\n",
              "53       2020-01-15\n",
              "57       2020-01-15\n",
              "79       2020-01-09\n",
              "116      2020-01-26\n",
              "            ...    \n",
              "402185   2013-02-01\n",
              "402208   2013-02-11\n",
              "402215   2013-05-13\n",
              "402228   2013-07-03\n",
              "402250   2013-09-05\n",
              "Name: Fecha Nacimiento, Length: 11725, dtype: datetime64[ns]"
            ]
          },
          "metadata": {},
          "execution_count": 190
        }
      ]
    },
    {
      "cell_type": "code",
      "source": [
        "nac_valle[['Numero Documento Madre', 'Fecha Nacimiento']].isin(nac_cali[['Numero Documento Madre', 'Fecha Nacimiento']]).all(axis=1).value_counts()"
      ],
      "metadata": {
        "colab": {
          "base_uri": "https://localhost:8080/"
        },
        "id": "o8aVLpPzAUyg",
        "outputId": "1f5c6be3-178b-409b-a83c-b9aad5e88e48"
      },
      "execution_count": null,
      "outputs": [
        {
          "output_type": "execute_result",
          "data": {
            "text/plain": [
              "False    7682\n",
              "dtype: int64"
            ]
          },
          "metadata": {},
          "execution_count": 191
        }
      ]
    },
    {
      "cell_type": "code",
      "source": [
        "nac_cali[['Numero Documento Madre', 'Fecha Nacimiento']].isin(nac_valle[['Numero Documento Madre', 'Fecha Nacimiento']]).all(axis=1).value_counts()"
      ],
      "metadata": {
        "colab": {
          "base_uri": "https://localhost:8080/"
        },
        "id": "zIga1G-jAvF-",
        "outputId": "64e80ff6-3484-44da-855b-44b2907197ea"
      },
      "execution_count": null,
      "outputs": [
        {
          "output_type": "execute_result",
          "data": {
            "text/plain": [
              "False    11725\n",
              "dtype: int64"
            ]
          },
          "metadata": {},
          "execution_count": 192
        }
      ]
    },
    {
      "cell_type": "markdown",
      "source": [
        "No se encontraron duplicados. ❗ ⚠"
      ],
      "metadata": {
        "id": "kIMvwpNXH_hl"
      }
    },
    {
      "cell_type": "code",
      "source": [
        "'''ALTERNATIVA PARA HACERLO CON LA CREACIÓN DE LLAVES: AL CORRERAR EN UNA CELDA TEMPORAL DIO EL MISMO RESULTADO.\n",
        "\n",
        "# Crear una nueva columna llamada 'llave' que concatena 'ID' y 'fecha_nacimiento' en ambos DataFrames\n",
        "nac_valle['llave'] = nac_valle['ID'].astype(str) + nac_valle['fecha_nacimiento'].astype(str)\n",
        "nac_cali['llave'] = nac_cali['ID'].astype(str) + nac_cali['fecha_nacimiento'].astype(str)\n",
        "\n",
        "# Buscar duplicados en 'llave' en nac_valle\n",
        "indices_duplicados_valle = nac_valle[nac_valle['llave'].isin(nac_cali['llave'])].index\n"
      ],
      "metadata": {
        "colab": {
          "base_uri": "https://localhost:8080/"
        },
        "id": "s7YM1K_V_YB1",
        "outputId": "cd4e1c59-52f7-4d63-ba6c-f08f772715ee"
      },
      "execution_count": null,
      "outputs": [
        {
          "output_type": "execute_result",
          "data": {
            "text/plain": [
              "Int64Index([], dtype='int64')"
            ]
          },
          "metadata": {},
          "execution_count": 110
        }
      ]
    },
    {
      "cell_type": "markdown",
      "source": [
        "NO SE ENCONTRARON NACIMIENTOS REPETIDOS. PROCEDEMOS A JUNTARLOS"
      ],
      "metadata": {
        "id": "DTOLjTj0CqYV"
      }
    },
    {
      "cell_type": "code",
      "source": [
        "nac_cali.info()"
      ],
      "metadata": {
        "colab": {
          "base_uri": "https://localhost:8080/"
        },
        "id": "inGmZy6iIi5X",
        "outputId": "8a6856d4-f025-47fc-83f3-250e7bb620fb"
      },
      "execution_count": null,
      "outputs": [
        {
          "output_type": "stream",
          "name": "stdout",
          "text": [
            "<class 'pandas.core.frame.DataFrame'>\n",
            "Int64Index: 11725 entries, 42 to 402250\n",
            "Data columns (total 33 columns):\n",
            " #   Column                          Non-Null Count  Dtype         \n",
            "---  ------                          --------------  -----         \n",
            " 0   Municipio Nacimiento            11725 non-null  object        \n",
            " 1   Area Nacimiento                 11725 non-null  object        \n",
            " 2   Sitio Parto                     11725 non-null  object        \n",
            " 3   IPS                             11721 non-null  object        \n",
            " 4   Sexo                            11725 non-null  object        \n",
            " 5   Peso                            11725 non-null  float64       \n",
            " 6   Talla                           11725 non-null  float64       \n",
            " 7   Fecha Nacimiento                11725 non-null  datetime64[ns]\n",
            " 8   Parto Atendido Por              11725 non-null  object        \n",
            " 9   Tiempo Gestación                11725 non-null  float64       \n",
            " 10  Número Consultas Prenatales     11724 non-null  float64       \n",
            " 11  Tipo Parto                      11725 non-null  object        \n",
            " 12  Multiplicidad Embarazo          11725 non-null  object        \n",
            " 13  APGAR1                          11686 non-null  float64       \n",
            " 14  APGAR5                          11686 non-null  float64       \n",
            " 15  Grupo Sanguineo                 11648 non-null  object        \n",
            " 16  Factor RH                       11648 non-null  object        \n",
            " 17  Pertenencia Étnica              11725 non-null  object        \n",
            " 18  Pueblo Indígena                 26 non-null     object        \n",
            " 19  Tipo Documento Madre            11725 non-null  object        \n",
            " 20  Numero Documento Madre          11725 non-null  object        \n",
            " 21  Edad Madre                      11725 non-null  int64         \n",
            " 22  Estado Conyugal Madre           11725 non-null  object        \n",
            " 23  Último Año Estudios Madre       11725 non-null  object        \n",
            " 24  Municipio Residencia            11725 non-null  object        \n",
            " 25  Área Residencia                 11725 non-null  object        \n",
            " 26  Número Hijos Nacidos Vivos      11725 non-null  float64       \n",
            " 27  Fecha Nacimiento Anterior Hijo  11725 non-null  object        \n",
            " 28  Numero Embarazos                11724 non-null  float64       \n",
            " 29  Régimen Seguridad Social        11725 non-null  object        \n",
            " 30  EPS                             10674 non-null  object        \n",
            " 31  Edad Padre                      11439 non-null  float64       \n",
            " 32  Último Año Estudios Padre       11724 non-null  object        \n",
            "dtypes: datetime64[ns](1), float64(9), int64(1), object(22)\n",
            "memory usage: 3.3+ MB\n"
          ]
        }
      ]
    },
    {
      "cell_type": "code",
      "source": [
        "nac_valle_total = pd.concat([nac_cali, nac_valle])"
      ],
      "metadata": {
        "id": "lD-rJPICL532"
      },
      "execution_count": null,
      "outputs": []
    },
    {
      "cell_type": "code",
      "source": [
        "nac_valle_total['Peso'].describe()"
      ],
      "metadata": {
        "colab": {
          "base_uri": "https://localhost:8080/"
        },
        "id": "S_pNuGgFs0jQ",
        "outputId": "82589908-d133-4860-eb88-a00100b11cc7"
      },
      "execution_count": null,
      "outputs": [
        {
          "output_type": "execute_result",
          "data": {
            "text/plain": [
              "count    19407.000000\n",
              "mean      2292.278199\n",
              "std        192.777577\n",
              "min        300.000000\n",
              "25%       2205.500000\n",
              "50%       2345.000000\n",
              "75%       2425.000000\n",
              "max       2499.000000\n",
              "Name: Peso, dtype: float64"
            ]
          },
          "metadata": {},
          "execution_count": 380
        }
      ]
    },
    {
      "cell_type": "code",
      "source": [
        "nac_valle_total.shape"
      ],
      "metadata": {
        "colab": {
          "base_uri": "https://localhost:8080/"
        },
        "id": "jq2ekh5aL6v3",
        "outputId": "067d8b9a-c8bc-4845-9579-c3f0b3904993"
      },
      "execution_count": null,
      "outputs": [
        {
          "output_type": "execute_result",
          "data": {
            "text/plain": [
              "(19407, 33)"
            ]
          },
          "metadata": {},
          "execution_count": 379
        }
      ]
    },
    {
      "cell_type": "code",
      "source": [
        "nac_valle_total = nac_valle_total.sort_values(by='Fecha Nacimiento')\n",
        "nac_valle_total['Año'] = nac_valle_total['Fecha Nacimiento'].dt.year\n",
        "nac_valle_total = nac_valle_total.applymap(lambda x: x.strip() if isinstance(x, str) else x)"
      ],
      "metadata": {
        "id": "gXbbkr_ZHbEl"
      },
      "execution_count": null,
      "outputs": []
    },
    {
      "cell_type": "code",
      "source": [
        "nac_valle_total.to_csv('/content/drive/My Drive/Datos_BPN2023/datos_generados_V2/nac_valle_total_V2.csv', index=False)"
      ],
      "metadata": {
        "id": "CYaLb1AlMva2"
      },
      "execution_count": null,
      "outputs": []
    },
    {
      "cell_type": "code",
      "source": [
        "nac_valle_total.shape"
      ],
      "metadata": {
        "colab": {
          "base_uri": "https://localhost:8080/"
        },
        "id": "GHwn8JEItWzi",
        "outputId": "363eb168-161b-4565-9bfe-d4399ddba181"
      },
      "execution_count": null,
      "outputs": [
        {
          "output_type": "execute_result",
          "data": {
            "text/plain": [
              "(19407, 34)"
            ]
          },
          "metadata": {},
          "execution_count": 388
        }
      ]
    },
    {
      "cell_type": "markdown",
      "source": [
        "# CAPITULO 2. PREPROCESAMIENTO PARA MORTALIDAD"
      ],
      "metadata": {
        "id": "tkMywgqSjM7U"
      }
    },
    {
      "cell_type": "markdown",
      "source": [
        "## 2.1. CARGA DE DATOS DEFUNCIONES CALI Y VALLE"
      ],
      "metadata": {
        "id": "o9hKdnO7Pq6G"
      }
    },
    {
      "cell_type": "code",
      "source": [
        "from google.colab import drive\n",
        "drive.mount('/content/drive')"
      ],
      "metadata": {
        "colab": {
          "base_uri": "https://localhost:8080/"
        },
        "id": "fXhr-E8vNOtO",
        "outputId": "64cd0549-c32c-436d-fea3-712b36675c49"
      },
      "execution_count": null,
      "outputs": [
        {
          "output_type": "stream",
          "name": "stdout",
          "text": [
            "Mounted at /content/drive\n"
          ]
        }
      ]
    },
    {
      "cell_type": "code",
      "source": [
        "directorio = '/content/drive/My Drive/Datos_BPN2023'\n",
        "import os\n",
        "import pandas as pd"
      ],
      "metadata": {
        "id": "QU8DLrTQNNYm"
      },
      "execution_count": null,
      "outputs": []
    },
    {
      "cell_type": "code",
      "source": [
        "dfs2 = []\n",
        "\n",
        "# Directorio donde se encuentran los archivos de Excel\n",
        "anyo_ini=2011\n",
        "for filename in os.listdir(directorio):\n",
        "    if filename.startswith(\"MORTAL\") and filename.endswith(('xls', 'xlsx')):  # Filtrar si el archivo es de nacimiento\n",
        "\n",
        "        df = pd.read_excel(os.path.join(directorio, filename))\n",
        "        df['anyo']=anyo_ini\n",
        "        print(filename)\n",
        "        dfs2.append(df)\n",
        "        anyo_ini=anyo_ini+1"
      ],
      "metadata": {
        "colab": {
          "base_uri": "https://localhost:8080/"
        },
        "id": "ZtU1jvQCMtKX",
        "outputId": "8dec1cba-0d4a-4312-ebda-265c0c09947a"
      },
      "execution_count": null,
      "outputs": [
        {
          "output_type": "stream",
          "name": "stdout",
          "text": [
            "MORTAL 2018.xlsx\n",
            "MORTAL 2022.xlsx\n",
            "MORTAL 2017.xlsx\n",
            "MORTAL 2019.xlsx\n",
            "MORTAL 2021.xlsx\n",
            "MORTAL 2016.xlsx\n",
            "MORTAL 2020.xlsx\n",
            "MORTAL 2014.xlsx\n",
            "MORTAL 2012.xlsx\n",
            "MORTAL 2011.xlsx\n",
            "MORTAL 2013.xlsx\n",
            "MORTAL 2015.xlsx\n"
          ]
        }
      ]
    },
    {
      "cell_type": "code",
      "source": [
        "dfs_mort=list(map(lambda x: x[['Fecha Defunción','Sexo','Tipo Edad Fallecido','Edad Fallecido','Probable Manera Muerte','Tiempo Gestación','Peso','Tipo Documento Madre','Número Documento Madre','Municipio Residencia', 'Municipio Defunción','Diagnóstico A','anyo']], dfs2))"
      ],
      "metadata": {
        "id": "2KSwDSNANJpG"
      },
      "execution_count": null,
      "outputs": []
    },
    {
      "cell_type": "code",
      "source": [
        "df_mort = pd.concat(dfs_mort, ignore_index=True)"
      ],
      "metadata": {
        "id": "_oXqZzFXNYtf"
      },
      "execution_count": null,
      "outputs": []
    },
    {
      "cell_type": "code",
      "source": [
        "mort_valle=pd.read_excel('/content/drive/My Drive/Datos_BPN2023/BD_Def_2011_2021_HABC_v2_(1).xlsx')"
      ],
      "metadata": {
        "id": "sBGw6hreM_On"
      },
      "execution_count": null,
      "outputs": []
    },
    {
      "cell_type": "code",
      "source": [
        "def_cali = df_mort[['Fecha Defunción', 'Sexo', 'Tipo Edad Fallecido', 'Edad Fallecido',\n",
        "       'Probable Manera Muerte', 'Tiempo Gestación', 'Peso',\n",
        "       'Tipo Documento Madre', 'Número Documento Madre',\n",
        "       'Municipio Residencia', 'Municipio Defunción', 'Diagnóstico A']].copy()"
      ],
      "metadata": {
        "id": "frw4NZHpN65v"
      },
      "execution_count": null,
      "outputs": []
    },
    {
      "cell_type": "code",
      "source": [
        "def_valle = mort_valle[['FECHA_DEF' , 'SEXO' , 'Tipo Edad Fallecido' , 'Edad Fallecido' ,\n",
        "                      'PMAN_MUER' , 'T_GES' , 'PESO_NAC' , 'DOC_IDM' , 'NRO_DOCM' ,'CODMUNRE','COD_MUNIC', 'N_DIR1']].copy()"
      ],
      "metadata": {
        "id": "th1cCcALN-c1"
      },
      "execution_count": null,
      "outputs": []
    },
    {
      "cell_type": "code",
      "source": [
        "df_mapeo = pd.read_excel(\"/content/drive/My Drive/Datos_BPN2023/codificacion variables mortalidad.xlsx\")"
      ],
      "metadata": {
        "id": "Zjsld3WBNnm-"
      },
      "execution_count": null,
      "outputs": []
    },
    {
      "cell_type": "code",
      "source": [
        "mapeo_dict = {}\n",
        "for columna in df_mapeo['name'].unique():\n",
        "    sub_df = df_mapeo[df_mapeo['name'] == columna].copy()\n",
        "    mapeo_dict[columna] = dict(zip(sub_df['numero'], sub_df['categoria']))\n",
        "for columna, mapeo in mapeo_dict.items():\n",
        "    def_valle.loc[:,columna] = def_valle.loc[:,columna].map(mapeo)"
      ],
      "metadata": {
        "id": "c9V9UdWLPgde",
        "colab": {
          "base_uri": "https://localhost:8080/",
          "height": 512
        },
        "outputId": "87bc47e8-9ed2-4346-d539-16117783cf1c"
      },
      "execution_count": null,
      "outputs": [
        {
          "output_type": "error",
          "ename": "KeyError",
          "evalue": "ignored",
          "traceback": [
            "\u001b[0;31m---------------------------------------------------------------------------\u001b[0m",
            "\u001b[0;31mKeyError\u001b[0m                                  Traceback (most recent call last)",
            "\u001b[0;32m/usr/local/lib/python3.10/dist-packages/pandas/core/indexes/base.py\u001b[0m in \u001b[0;36mget_loc\u001b[0;34m(self, key, method, tolerance)\u001b[0m\n\u001b[1;32m   3801\u001b[0m             \u001b[0;32mtry\u001b[0m\u001b[0;34m:\u001b[0m\u001b[0;34m\u001b[0m\u001b[0;34m\u001b[0m\u001b[0m\n\u001b[0;32m-> 3802\u001b[0;31m                 \u001b[0;32mreturn\u001b[0m \u001b[0mself\u001b[0m\u001b[0;34m.\u001b[0m\u001b[0m_engine\u001b[0m\u001b[0;34m.\u001b[0m\u001b[0mget_loc\u001b[0m\u001b[0;34m(\u001b[0m\u001b[0mcasted_key\u001b[0m\u001b[0;34m)\u001b[0m\u001b[0;34m\u001b[0m\u001b[0;34m\u001b[0m\u001b[0m\n\u001b[0m\u001b[1;32m   3803\u001b[0m             \u001b[0;32mexcept\u001b[0m \u001b[0mKeyError\u001b[0m \u001b[0;32mas\u001b[0m \u001b[0merr\u001b[0m\u001b[0;34m:\u001b[0m\u001b[0;34m\u001b[0m\u001b[0;34m\u001b[0m\u001b[0m\n",
            "\u001b[0;32m/usr/local/lib/python3.10/dist-packages/pandas/_libs/index.pyx\u001b[0m in \u001b[0;36mpandas._libs.index.IndexEngine.get_loc\u001b[0;34m()\u001b[0m\n",
            "\u001b[0;32m/usr/local/lib/python3.10/dist-packages/pandas/_libs/index.pyx\u001b[0m in \u001b[0;36mpandas._libs.index.IndexEngine.get_loc\u001b[0;34m()\u001b[0m\n",
            "\u001b[0;32mpandas/_libs/hashtable_class_helper.pxi\u001b[0m in \u001b[0;36mpandas._libs.hashtable.PyObjectHashTable.get_item\u001b[0;34m()\u001b[0m\n",
            "\u001b[0;32mpandas/_libs/hashtable_class_helper.pxi\u001b[0m in \u001b[0;36mpandas._libs.hashtable.PyObjectHashTable.get_item\u001b[0;34m()\u001b[0m\n",
            "\u001b[0;31mKeyError\u001b[0m: 'PMAN_MUER'",
            "\nThe above exception was the direct cause of the following exception:\n",
            "\u001b[0;31mKeyError\u001b[0m                                  Traceback (most recent call last)",
            "\u001b[0;32m<ipython-input-121-7da2834f9b55>\u001b[0m in \u001b[0;36m<cell line: 5>\u001b[0;34m()\u001b[0m\n\u001b[1;32m      4\u001b[0m     \u001b[0mmapeo_dict\u001b[0m\u001b[0;34m[\u001b[0m\u001b[0mcolumna\u001b[0m\u001b[0;34m]\u001b[0m \u001b[0;34m=\u001b[0m \u001b[0mdict\u001b[0m\u001b[0;34m(\u001b[0m\u001b[0mzip\u001b[0m\u001b[0;34m(\u001b[0m\u001b[0msub_df\u001b[0m\u001b[0;34m[\u001b[0m\u001b[0;34m'numero'\u001b[0m\u001b[0;34m]\u001b[0m\u001b[0;34m,\u001b[0m \u001b[0msub_df\u001b[0m\u001b[0;34m[\u001b[0m\u001b[0;34m'categoria'\u001b[0m\u001b[0;34m]\u001b[0m\u001b[0;34m)\u001b[0m\u001b[0;34m)\u001b[0m\u001b[0;34m\u001b[0m\u001b[0;34m\u001b[0m\u001b[0m\n\u001b[1;32m      5\u001b[0m \u001b[0;32mfor\u001b[0m \u001b[0mcolumna\u001b[0m\u001b[0;34m,\u001b[0m \u001b[0mmapeo\u001b[0m \u001b[0;32min\u001b[0m \u001b[0mmapeo_dict\u001b[0m\u001b[0;34m.\u001b[0m\u001b[0mitems\u001b[0m\u001b[0;34m(\u001b[0m\u001b[0;34m)\u001b[0m\u001b[0;34m:\u001b[0m\u001b[0;34m\u001b[0m\u001b[0;34m\u001b[0m\u001b[0m\n\u001b[0;32m----> 6\u001b[0;31m     \u001b[0mdef_valle\u001b[0m\u001b[0;34m.\u001b[0m\u001b[0mloc\u001b[0m\u001b[0;34m[\u001b[0m\u001b[0;34m:\u001b[0m\u001b[0;34m,\u001b[0m\u001b[0mcolumna\u001b[0m\u001b[0;34m]\u001b[0m \u001b[0;34m=\u001b[0m \u001b[0mdef_valle\u001b[0m\u001b[0;34m.\u001b[0m\u001b[0mloc\u001b[0m\u001b[0;34m[\u001b[0m\u001b[0;34m:\u001b[0m\u001b[0;34m,\u001b[0m\u001b[0mcolumna\u001b[0m\u001b[0;34m]\u001b[0m\u001b[0;34m.\u001b[0m\u001b[0mmap\u001b[0m\u001b[0;34m(\u001b[0m\u001b[0mmapeo\u001b[0m\u001b[0;34m)\u001b[0m\u001b[0;34m\u001b[0m\u001b[0;34m\u001b[0m\u001b[0m\n\u001b[0m",
            "\u001b[0;32m/usr/local/lib/python3.10/dist-packages/pandas/core/indexing.py\u001b[0m in \u001b[0;36m__getitem__\u001b[0;34m(self, key)\u001b[0m\n\u001b[1;32m   1065\u001b[0m             \u001b[0;32mif\u001b[0m \u001b[0mself\u001b[0m\u001b[0;34m.\u001b[0m\u001b[0m_is_scalar_access\u001b[0m\u001b[0;34m(\u001b[0m\u001b[0mkey\u001b[0m\u001b[0;34m)\u001b[0m\u001b[0;34m:\u001b[0m\u001b[0;34m\u001b[0m\u001b[0;34m\u001b[0m\u001b[0m\n\u001b[1;32m   1066\u001b[0m                 \u001b[0;32mreturn\u001b[0m \u001b[0mself\u001b[0m\u001b[0;34m.\u001b[0m\u001b[0mobj\u001b[0m\u001b[0;34m.\u001b[0m\u001b[0m_get_value\u001b[0m\u001b[0;34m(\u001b[0m\u001b[0;34m*\u001b[0m\u001b[0mkey\u001b[0m\u001b[0;34m,\u001b[0m \u001b[0mtakeable\u001b[0m\u001b[0;34m=\u001b[0m\u001b[0mself\u001b[0m\u001b[0;34m.\u001b[0m\u001b[0m_takeable\u001b[0m\u001b[0;34m)\u001b[0m\u001b[0;34m\u001b[0m\u001b[0;34m\u001b[0m\u001b[0m\n\u001b[0;32m-> 1067\u001b[0;31m             \u001b[0;32mreturn\u001b[0m \u001b[0mself\u001b[0m\u001b[0;34m.\u001b[0m\u001b[0m_getitem_tuple\u001b[0m\u001b[0;34m(\u001b[0m\u001b[0mkey\u001b[0m\u001b[0;34m)\u001b[0m\u001b[0;34m\u001b[0m\u001b[0;34m\u001b[0m\u001b[0m\n\u001b[0m\u001b[1;32m   1068\u001b[0m         \u001b[0;32melse\u001b[0m\u001b[0;34m:\u001b[0m\u001b[0;34m\u001b[0m\u001b[0;34m\u001b[0m\u001b[0m\n\u001b[1;32m   1069\u001b[0m             \u001b[0;31m# we by definition only have the 0th axis\u001b[0m\u001b[0;34m\u001b[0m\u001b[0;34m\u001b[0m\u001b[0m\n",
            "\u001b[0;32m/usr/local/lib/python3.10/dist-packages/pandas/core/indexing.py\u001b[0m in \u001b[0;36m_getitem_tuple\u001b[0;34m(self, tup)\u001b[0m\n\u001b[1;32m   1245\u001b[0m         \u001b[0;32mwith\u001b[0m \u001b[0msuppress\u001b[0m\u001b[0;34m(\u001b[0m\u001b[0mIndexingError\u001b[0m\u001b[0;34m)\u001b[0m\u001b[0;34m:\u001b[0m\u001b[0;34m\u001b[0m\u001b[0;34m\u001b[0m\u001b[0m\n\u001b[1;32m   1246\u001b[0m             \u001b[0mtup\u001b[0m \u001b[0;34m=\u001b[0m \u001b[0mself\u001b[0m\u001b[0;34m.\u001b[0m\u001b[0m_expand_ellipsis\u001b[0m\u001b[0;34m(\u001b[0m\u001b[0mtup\u001b[0m\u001b[0;34m)\u001b[0m\u001b[0;34m\u001b[0m\u001b[0;34m\u001b[0m\u001b[0m\n\u001b[0;32m-> 1247\u001b[0;31m             \u001b[0;32mreturn\u001b[0m \u001b[0mself\u001b[0m\u001b[0;34m.\u001b[0m\u001b[0m_getitem_lowerdim\u001b[0m\u001b[0;34m(\u001b[0m\u001b[0mtup\u001b[0m\u001b[0;34m)\u001b[0m\u001b[0;34m\u001b[0m\u001b[0;34m\u001b[0m\u001b[0m\n\u001b[0m\u001b[1;32m   1248\u001b[0m \u001b[0;34m\u001b[0m\u001b[0m\n\u001b[1;32m   1249\u001b[0m         \u001b[0;31m# no multi-index, so validate all of the indexers\u001b[0m\u001b[0;34m\u001b[0m\u001b[0;34m\u001b[0m\u001b[0m\n",
            "\u001b[0;32m/usr/local/lib/python3.10/dist-packages/pandas/core/indexing.py\u001b[0m in \u001b[0;36m_getitem_lowerdim\u001b[0;34m(self, tup)\u001b[0m\n\u001b[1;32m    965\u001b[0m                 \u001b[0;31m# We don't need to check for tuples here because those are\u001b[0m\u001b[0;34m\u001b[0m\u001b[0;34m\u001b[0m\u001b[0m\n\u001b[1;32m    966\u001b[0m                 \u001b[0;31m#  caught by the _is_nested_tuple_indexer check above.\u001b[0m\u001b[0;34m\u001b[0m\u001b[0;34m\u001b[0m\u001b[0m\n\u001b[0;32m--> 967\u001b[0;31m                 \u001b[0msection\u001b[0m \u001b[0;34m=\u001b[0m \u001b[0mself\u001b[0m\u001b[0;34m.\u001b[0m\u001b[0m_getitem_axis\u001b[0m\u001b[0;34m(\u001b[0m\u001b[0mkey\u001b[0m\u001b[0;34m,\u001b[0m \u001b[0maxis\u001b[0m\u001b[0;34m=\u001b[0m\u001b[0mi\u001b[0m\u001b[0;34m)\u001b[0m\u001b[0;34m\u001b[0m\u001b[0;34m\u001b[0m\u001b[0m\n\u001b[0m\u001b[1;32m    968\u001b[0m \u001b[0;34m\u001b[0m\u001b[0m\n\u001b[1;32m    969\u001b[0m                 \u001b[0;31m# We should never have a scalar section here, because\u001b[0m\u001b[0;34m\u001b[0m\u001b[0;34m\u001b[0m\u001b[0m\n",
            "\u001b[0;32m/usr/local/lib/python3.10/dist-packages/pandas/core/indexing.py\u001b[0m in \u001b[0;36m_getitem_axis\u001b[0;34m(self, key, axis)\u001b[0m\n\u001b[1;32m   1310\u001b[0m         \u001b[0;31m# fall thru to straight lookup\u001b[0m\u001b[0;34m\u001b[0m\u001b[0;34m\u001b[0m\u001b[0m\n\u001b[1;32m   1311\u001b[0m         \u001b[0mself\u001b[0m\u001b[0;34m.\u001b[0m\u001b[0m_validate_key\u001b[0m\u001b[0;34m(\u001b[0m\u001b[0mkey\u001b[0m\u001b[0;34m,\u001b[0m \u001b[0maxis\u001b[0m\u001b[0;34m)\u001b[0m\u001b[0;34m\u001b[0m\u001b[0;34m\u001b[0m\u001b[0m\n\u001b[0;32m-> 1312\u001b[0;31m         \u001b[0;32mreturn\u001b[0m \u001b[0mself\u001b[0m\u001b[0;34m.\u001b[0m\u001b[0m_get_label\u001b[0m\u001b[0;34m(\u001b[0m\u001b[0mkey\u001b[0m\u001b[0;34m,\u001b[0m \u001b[0maxis\u001b[0m\u001b[0;34m=\u001b[0m\u001b[0maxis\u001b[0m\u001b[0;34m)\u001b[0m\u001b[0;34m\u001b[0m\u001b[0;34m\u001b[0m\u001b[0m\n\u001b[0m\u001b[1;32m   1313\u001b[0m \u001b[0;34m\u001b[0m\u001b[0m\n\u001b[1;32m   1314\u001b[0m     \u001b[0;32mdef\u001b[0m \u001b[0m_get_slice_axis\u001b[0m\u001b[0;34m(\u001b[0m\u001b[0mself\u001b[0m\u001b[0;34m,\u001b[0m \u001b[0mslice_obj\u001b[0m\u001b[0;34m:\u001b[0m \u001b[0mslice\u001b[0m\u001b[0;34m,\u001b[0m \u001b[0maxis\u001b[0m\u001b[0;34m:\u001b[0m \u001b[0mint\u001b[0m\u001b[0;34m)\u001b[0m\u001b[0;34m:\u001b[0m\u001b[0;34m\u001b[0m\u001b[0;34m\u001b[0m\u001b[0m\n",
            "\u001b[0;32m/usr/local/lib/python3.10/dist-packages/pandas/core/indexing.py\u001b[0m in \u001b[0;36m_get_label\u001b[0;34m(self, label, axis)\u001b[0m\n\u001b[1;32m   1258\u001b[0m     \u001b[0;32mdef\u001b[0m \u001b[0m_get_label\u001b[0m\u001b[0;34m(\u001b[0m\u001b[0mself\u001b[0m\u001b[0;34m,\u001b[0m \u001b[0mlabel\u001b[0m\u001b[0;34m,\u001b[0m \u001b[0maxis\u001b[0m\u001b[0;34m:\u001b[0m \u001b[0mint\u001b[0m\u001b[0;34m)\u001b[0m\u001b[0;34m:\u001b[0m\u001b[0;34m\u001b[0m\u001b[0;34m\u001b[0m\u001b[0m\n\u001b[1;32m   1259\u001b[0m         \u001b[0;31m# GH#5567 this will fail if the label is not present in the axis.\u001b[0m\u001b[0;34m\u001b[0m\u001b[0;34m\u001b[0m\u001b[0m\n\u001b[0;32m-> 1260\u001b[0;31m         \u001b[0;32mreturn\u001b[0m \u001b[0mself\u001b[0m\u001b[0;34m.\u001b[0m\u001b[0mobj\u001b[0m\u001b[0;34m.\u001b[0m\u001b[0mxs\u001b[0m\u001b[0;34m(\u001b[0m\u001b[0mlabel\u001b[0m\u001b[0;34m,\u001b[0m \u001b[0maxis\u001b[0m\u001b[0;34m=\u001b[0m\u001b[0maxis\u001b[0m\u001b[0;34m)\u001b[0m\u001b[0;34m\u001b[0m\u001b[0;34m\u001b[0m\u001b[0m\n\u001b[0m\u001b[1;32m   1261\u001b[0m \u001b[0;34m\u001b[0m\u001b[0m\n\u001b[1;32m   1262\u001b[0m     \u001b[0;32mdef\u001b[0m \u001b[0m_handle_lowerdim_multi_index_axis0\u001b[0m\u001b[0;34m(\u001b[0m\u001b[0mself\u001b[0m\u001b[0;34m,\u001b[0m \u001b[0mtup\u001b[0m\u001b[0;34m:\u001b[0m \u001b[0mtuple\u001b[0m\u001b[0;34m)\u001b[0m\u001b[0;34m:\u001b[0m\u001b[0;34m\u001b[0m\u001b[0;34m\u001b[0m\u001b[0m\n",
            "\u001b[0;32m/usr/local/lib/python3.10/dist-packages/pandas/core/generic.py\u001b[0m in \u001b[0;36mxs\u001b[0;34m(self, key, axis, level, drop_level)\u001b[0m\n\u001b[1;32m   4039\u001b[0m         \u001b[0;32mif\u001b[0m \u001b[0maxis\u001b[0m \u001b[0;34m==\u001b[0m \u001b[0;36m1\u001b[0m\u001b[0;34m:\u001b[0m\u001b[0;34m\u001b[0m\u001b[0;34m\u001b[0m\u001b[0m\n\u001b[1;32m   4040\u001b[0m             \u001b[0;32mif\u001b[0m \u001b[0mdrop_level\u001b[0m\u001b[0;34m:\u001b[0m\u001b[0;34m\u001b[0m\u001b[0;34m\u001b[0m\u001b[0m\n\u001b[0;32m-> 4041\u001b[0;31m                 \u001b[0;32mreturn\u001b[0m \u001b[0mself\u001b[0m\u001b[0;34m[\u001b[0m\u001b[0mkey\u001b[0m\u001b[0;34m]\u001b[0m\u001b[0;34m\u001b[0m\u001b[0;34m\u001b[0m\u001b[0m\n\u001b[0m\u001b[1;32m   4042\u001b[0m             \u001b[0mindex\u001b[0m \u001b[0;34m=\u001b[0m \u001b[0mself\u001b[0m\u001b[0;34m.\u001b[0m\u001b[0mcolumns\u001b[0m\u001b[0;34m\u001b[0m\u001b[0;34m\u001b[0m\u001b[0m\n\u001b[1;32m   4043\u001b[0m         \u001b[0;32melse\u001b[0m\u001b[0;34m:\u001b[0m\u001b[0;34m\u001b[0m\u001b[0;34m\u001b[0m\u001b[0m\n",
            "\u001b[0;32m/usr/local/lib/python3.10/dist-packages/pandas/core/frame.py\u001b[0m in \u001b[0;36m__getitem__\u001b[0;34m(self, key)\u001b[0m\n\u001b[1;32m   3805\u001b[0m             \u001b[0;32mif\u001b[0m \u001b[0mself\u001b[0m\u001b[0;34m.\u001b[0m\u001b[0mcolumns\u001b[0m\u001b[0;34m.\u001b[0m\u001b[0mnlevels\u001b[0m \u001b[0;34m>\u001b[0m \u001b[0;36m1\u001b[0m\u001b[0;34m:\u001b[0m\u001b[0;34m\u001b[0m\u001b[0;34m\u001b[0m\u001b[0m\n\u001b[1;32m   3806\u001b[0m                 \u001b[0;32mreturn\u001b[0m \u001b[0mself\u001b[0m\u001b[0;34m.\u001b[0m\u001b[0m_getitem_multilevel\u001b[0m\u001b[0;34m(\u001b[0m\u001b[0mkey\u001b[0m\u001b[0;34m)\u001b[0m\u001b[0;34m\u001b[0m\u001b[0;34m\u001b[0m\u001b[0m\n\u001b[0;32m-> 3807\u001b[0;31m             \u001b[0mindexer\u001b[0m \u001b[0;34m=\u001b[0m \u001b[0mself\u001b[0m\u001b[0;34m.\u001b[0m\u001b[0mcolumns\u001b[0m\u001b[0;34m.\u001b[0m\u001b[0mget_loc\u001b[0m\u001b[0;34m(\u001b[0m\u001b[0mkey\u001b[0m\u001b[0;34m)\u001b[0m\u001b[0;34m\u001b[0m\u001b[0;34m\u001b[0m\u001b[0m\n\u001b[0m\u001b[1;32m   3808\u001b[0m             \u001b[0;32mif\u001b[0m \u001b[0mis_integer\u001b[0m\u001b[0;34m(\u001b[0m\u001b[0mindexer\u001b[0m\u001b[0;34m)\u001b[0m\u001b[0;34m:\u001b[0m\u001b[0;34m\u001b[0m\u001b[0;34m\u001b[0m\u001b[0m\n\u001b[1;32m   3809\u001b[0m                 \u001b[0mindexer\u001b[0m \u001b[0;34m=\u001b[0m \u001b[0;34m[\u001b[0m\u001b[0mindexer\u001b[0m\u001b[0;34m]\u001b[0m\u001b[0;34m\u001b[0m\u001b[0;34m\u001b[0m\u001b[0m\n",
            "\u001b[0;32m/usr/local/lib/python3.10/dist-packages/pandas/core/indexes/base.py\u001b[0m in \u001b[0;36mget_loc\u001b[0;34m(self, key, method, tolerance)\u001b[0m\n\u001b[1;32m   3802\u001b[0m                 \u001b[0;32mreturn\u001b[0m \u001b[0mself\u001b[0m\u001b[0;34m.\u001b[0m\u001b[0m_engine\u001b[0m\u001b[0;34m.\u001b[0m\u001b[0mget_loc\u001b[0m\u001b[0;34m(\u001b[0m\u001b[0mcasted_key\u001b[0m\u001b[0;34m)\u001b[0m\u001b[0;34m\u001b[0m\u001b[0;34m\u001b[0m\u001b[0m\n\u001b[1;32m   3803\u001b[0m             \u001b[0;32mexcept\u001b[0m \u001b[0mKeyError\u001b[0m \u001b[0;32mas\u001b[0m \u001b[0merr\u001b[0m\u001b[0;34m:\u001b[0m\u001b[0;34m\u001b[0m\u001b[0;34m\u001b[0m\u001b[0m\n\u001b[0;32m-> 3804\u001b[0;31m                 \u001b[0;32mraise\u001b[0m \u001b[0mKeyError\u001b[0m\u001b[0;34m(\u001b[0m\u001b[0mkey\u001b[0m\u001b[0;34m)\u001b[0m \u001b[0;32mfrom\u001b[0m \u001b[0merr\u001b[0m\u001b[0;34m\u001b[0m\u001b[0;34m\u001b[0m\u001b[0m\n\u001b[0m\u001b[1;32m   3805\u001b[0m             \u001b[0;32mexcept\u001b[0m \u001b[0mTypeError\u001b[0m\u001b[0;34m:\u001b[0m\u001b[0;34m\u001b[0m\u001b[0;34m\u001b[0m\u001b[0m\n\u001b[1;32m   3806\u001b[0m                 \u001b[0;31m# If we have a listlike key, _check_indexing_error will raise\u001b[0m\u001b[0;34m\u001b[0m\u001b[0;34m\u001b[0m\u001b[0m\n",
            "\u001b[0;31mKeyError\u001b[0m: 'PMAN_MUER'"
          ]
        }
      ]
    },
    {
      "cell_type": "code",
      "source": [
        "def_valle.columns = ['Fecha Defunción', 'Sexo', 'Tipo Edad Fallecido', 'Edad Fallecido',\n",
        "       'Probable Manera Muerte', 'Tiempo Gestación', 'Peso',\n",
        "       'Tipo Documento Madre', 'Número Documento Madre',\n",
        "       'Municipio Residencia', 'Municipio Defunción', 'Diagnóstico A']"
      ],
      "metadata": {
        "id": "tUyXKTLYOqM-"
      },
      "execution_count": null,
      "outputs": []
    },
    {
      "cell_type": "code",
      "source": [
        "print(def_valle.shape)\n",
        "print(def_cali.shape)"
      ],
      "metadata": {
        "colab": {
          "base_uri": "https://localhost:8080/"
        },
        "id": "Ol8j5HCEPomf",
        "outputId": "cda0fed6-37f2-41a2-d953-66c12da28d5a"
      },
      "execution_count": null,
      "outputs": [
        {
          "output_type": "stream",
          "name": "stdout",
          "text": [
            "(144067, 12)\n",
            "(231643, 12)\n"
          ]
        }
      ]
    },
    {
      "cell_type": "markdown",
      "source": [
        "## 2.2. FILTROS PARA LLEGAR A LAS DEFUNCIONES OBJETIVOS"
      ],
      "metadata": {
        "id": "zu2eURHLQJdQ"
      }
    },
    {
      "cell_type": "markdown",
      "source": [
        "### FILTRO PRIMERO: MUERTES INFANTILES"
      ],
      "metadata": {
        "id": "TM_PQHdbbRya"
      }
    },
    {
      "cell_type": "markdown",
      "source": [
        "FILTRO 1: APROVECHANDO LA VARIABLE TIPO EDAD MUERTE BUSCAMOS FILTRAR PRIMERO TODAS LAS MUERTES INFANTILES MENORES A UN AÑO."
      ],
      "metadata": {
        "id": "CbeHs91MTyHv"
      }
    },
    {
      "cell_type": "code",
      "source": [
        "def_valle['Tipo Edad Fallecido'].value_counts()"
      ],
      "metadata": {
        "colab": {
          "base_uri": "https://localhost:8080/"
        },
        "id": "fg72flgbQFHm",
        "outputId": "831cc9d8-a28d-4fe3-db32-a49c4e135a20"
      },
      "execution_count": null,
      "outputs": [
        {
          "output_type": "execute_result",
          "data": {
            "text/plain": [
              "DE UN AÑO O  MAS (EN AÑOS CUMPLIDOS)    141119\n",
              "MENOR DE 1 MES (EN DÍAS)                  1419\n",
              "MENOR DE 1 AÑO (EN MESES)                  906\n",
              "MENOR DE 1 DÍA (EN HORAS)                  425\n",
              "MENOR DE 1 HORA (EN MINUTOS)               181\n",
              "Name: Tipo Edad Fallecido, dtype: int64"
            ]
          },
          "metadata": {},
          "execution_count": 74
        }
      ]
    },
    {
      "cell_type": "code",
      "source": [
        "def_cali['Tipo Edad Fallecido'].value_counts()"
      ],
      "metadata": {
        "colab": {
          "base_uri": "https://localhost:8080/"
        },
        "id": "ToPl57fKUp6K",
        "outputId": "ceca3f7f-5d1e-4a54-aa4f-b8b4c61c7a9a"
      },
      "execution_count": null,
      "outputs": [
        {
          "output_type": "execute_result",
          "data": {
            "text/plain": [
              "DE UN AÑO O  MAS (EN AÑOS CUMPLIDOS)    191405\n",
              "MENOR DE 1 MES (EN DÍAS)                  2472\n",
              "MENOR DE 1 AÑO (EN MESES)                 1587\n",
              "MENOR DE 1 DÍA (EN HORAS)                  616\n",
              "MENOR DE 1 HORA (EN MINUTOS)               255\n",
              "Name: Tipo Edad Fallecido, dtype: int64"
            ]
          },
          "metadata": {},
          "execution_count": 75
        }
      ]
    },
    {
      "cell_type": "markdown",
      "source": [
        "Con la siguiente impresión corroboraremos que una vez quitados los valores de la variable Tipo de Edad Fallecido 'UN AÑO O MÁS' no se queden descartados valores de menores a un año por error. Es decir corroboramos la calidad del filtro."
      ],
      "metadata": {
        "id": "Z3FOrpYcSL72"
      }
    },
    {
      "cell_type": "code",
      "source": [
        "print(def_valle[def_valle['Tipo Edad Fallecido'] == 'DE UN AÑO O  MAS (EN AÑOS CUMPLIDOS)']['Tiempo Gestación'].isna().value_counts())\n",
        "print(def_valle[def_valle['Tipo Edad Fallecido'] == 'DE UN AÑO O  MAS (EN AÑOS CUMPLIDOS)']['Peso'].isna().value_counts())\n",
        "print(def_valle[def_valle['Tipo Edad Fallecido'] == 'DE UN AÑO O  MAS (EN AÑOS CUMPLIDOS)']['Tipo Documento Madre'].isna().value_counts())"
      ],
      "metadata": {
        "colab": {
          "base_uri": "https://localhost:8080/"
        },
        "id": "l49TyDeMQ7hd",
        "outputId": "7672495b-3a8c-47c5-d365-8c6bc583351b"
      },
      "execution_count": null,
      "outputs": [
        {
          "output_type": "stream",
          "name": "stdout",
          "text": [
            "True    141119\n",
            "Name: Tiempo Gestación, dtype: int64\n",
            "False    93234\n",
            "True     47885\n",
            "Name: Peso, dtype: int64\n",
            "True     141109\n",
            "False        10\n",
            "Name: Tipo Documento Madre, dtype: int64\n"
          ]
        }
      ]
    },
    {
      "cell_type": "code",
      "source": [
        "print(def_cali[def_cali['Tipo Edad Fallecido'] == 'DE UN AÑO O  MAS (EN AÑOS CUMPLIDOS)']['Tiempo Gestación'].isna().value_counts())\n",
        "print(def_cali[def_cali['Tipo Edad Fallecido'] == 'DE UN AÑO O  MAS (EN AÑOS CUMPLIDOS)']['Peso'].isna().value_counts())\n",
        "print(def_cali[def_cali['Tipo Edad Fallecido'] == 'DE UN AÑO O  MAS (EN AÑOS CUMPLIDOS)']['Tipo Documento Madre'].isna().value_counts())"
      ],
      "metadata": {
        "colab": {
          "base_uri": "https://localhost:8080/"
        },
        "id": "db73mbT0S34W",
        "outputId": "c012d729-6cf2-4c19-f796-f0a2ffaf29a4"
      },
      "execution_count": null,
      "outputs": [
        {
          "output_type": "stream",
          "name": "stdout",
          "text": [
            "True    191405\n",
            "Name: Tiempo Gestación, dtype: int64\n",
            "True    191405\n",
            "Name: Peso, dtype: int64\n",
            "True    191405\n",
            "Name: Tipo Documento Madre, dtype: int64\n"
          ]
        }
      ]
    },
    {
      "cell_type": "markdown",
      "source": [
        "Todos deberían dar true porque se cuentan valores vacios. como vimos que en valle, el peso hay gran cantidad de no vacios. imprimimos un `\".describe\"`: Para darnos cuenta que aunque no son vacíos siguen siendo 0.0. En conclusión, hacer dicho filtro para llegar a los menores a un año es correcto."
      ],
      "metadata": {
        "id": "0M-AmzU1SfvF"
      }
    },
    {
      "cell_type": "code",
      "source": [
        "f_menoraño_cali = def_cali['Tipo Edad Fallecido'] != 'DE UN AÑO O  MAS (EN AÑOS CUMPLIDOS)'\n",
        "f_menoraño_valle = def_valle['Tipo Edad Fallecido'] != 'DE UN AÑO O  MAS (EN AÑOS CUMPLIDOS)'"
      ],
      "metadata": {
        "id": "o6elU7xsTHwZ"
      },
      "execution_count": null,
      "outputs": []
    },
    {
      "cell_type": "code",
      "source": [
        "(def_valle['Tipo Edad Fallecido'] != 'DE UN AÑO O  MAS (EN AÑOS CUMPLIDOS)').value_counts()"
      ],
      "metadata": {
        "colab": {
          "base_uri": "https://localhost:8080/"
        },
        "id": "jyemC1ezVOXe",
        "outputId": "e18d684d-7c83-4327-cfa2-ad915288f775"
      },
      "execution_count": null,
      "outputs": [
        {
          "output_type": "execute_result",
          "data": {
            "text/plain": [
              "False    141119\n",
              "True       2948\n",
              "Name: Tipo Edad Fallecido, dtype: int64"
            ]
          },
          "metadata": {},
          "execution_count": 79
        }
      ]
    },
    {
      "cell_type": "code",
      "source": [
        "print(f'Las defunciones de menores a un año en Cali son:',f_menoraño_cali.sum())\n",
        "print(f'Las defunciones de menores a un año en Valle son:',f_menoraño_valle.sum())"
      ],
      "metadata": {
        "colab": {
          "base_uri": "https://localhost:8080/"
        },
        "id": "5tL-b9d0TSL_",
        "outputId": "c8e980ab-3561-46f3-ede6-4ffff2c1c179"
      },
      "execution_count": null,
      "outputs": [
        {
          "output_type": "stream",
          "name": "stdout",
          "text": [
            "Las defunciones de menores a un año en Cali son: 40238\n",
            "Las defunciones de menores a un año en Valle son: 2948\n"
          ]
        }
      ]
    },
    {
      "cell_type": "markdown",
      "source": [
        "Es posible que en el valle del cauca exista un subregistro debido a que la comparación con Cali, aunque debería ser menor, es extremadamente diferente. ❗"
      ],
      "metadata": {
        "id": "I82bqJrHf5cm"
      }
    },
    {
      "cell_type": "markdown",
      "source": [
        "#### APLICACIÓN DE FILTRO MI"
      ],
      "metadata": {
        "id": "_6MXgtCbTuym"
      }
    },
    {
      "cell_type": "code",
      "source": [
        "def_inf_cali = def_cali[f_menoraño_cali].copy()\n",
        "def_inf_valle = def_valle[f_menoraño_valle].copy()"
      ],
      "metadata": {
        "id": "hfVnhhq_Sekn"
      },
      "execution_count": null,
      "outputs": []
    },
    {
      "cell_type": "code",
      "source": [
        "print(def_inf_cali.shape)\n",
        "print(def_inf_valle.shape)"
      ],
      "metadata": {
        "colab": {
          "base_uri": "https://localhost:8080/"
        },
        "id": "w0DszWvyRhGo",
        "outputId": "51a749fb-dff3-44d0-bbbd-efae0473f46e"
      },
      "execution_count": null,
      "outputs": [
        {
          "output_type": "stream",
          "name": "stdout",
          "text": [
            "(40238, 12)\n",
            "(2948, 12)\n"
          ]
        }
      ]
    },
    {
      "cell_type": "code",
      "source": [],
      "metadata": {
        "id": "pFZDP9guVKiJ"
      },
      "execution_count": null,
      "outputs": []
    },
    {
      "cell_type": "markdown",
      "source": [
        " #### IGNORAR:"
      ],
      "metadata": {
        "id": "E4t7tcVsfjWB"
      }
    },
    {
      "cell_type": "code",
      "source": [
        "print(f'Médidas de tendencia del tiempo de gestación y el peso en cali: \\n ', def_inf_cali[['Tiempo Gestación', 'Peso']].describe())\n",
        "print(f'Médidas de tendencia del tiempo de gestación y el peso en valle: \\n ', def_inf_valle[['Tiempo Gestación', 'Peso']].describe())"
      ],
      "metadata": {
        "colab": {
          "base_uri": "https://localhost:8080/"
        },
        "id": "_c3Rt5O5W7B2",
        "outputId": "e5ab21cd-c983-44c1-a1a3-1a777119279b"
      },
      "execution_count": null,
      "outputs": [
        {
          "output_type": "stream",
          "name": "stdout",
          "text": [
            "Médidas de tendencia del tiempo de gestación y el peso en cali: \n",
            "         Tiempo Gestación          Peso\n",
            "count      30869.000000  30757.000000\n",
            "mean          15.523632    524.045876\n",
            "std           10.709358    940.478206\n",
            "min            0.000000      0.000000\n",
            "25%            7.000000     12.000000\n",
            "50%           10.000000     50.000000\n",
            "75%           23.000000    530.000000\n",
            "max           42.000000   9000.000000\n",
            "Médidas de tendencia del tiempo de gestación y el peso en valle: \n",
            "         Tiempo Gestación         Peso\n",
            "count       2931.000000  2948.000000\n",
            "mean          38.920505  2546.020692\n",
            "std           21.493697  2381.200698\n",
            "min            1.000000     0.000000\n",
            "25%           27.000000   979.000000\n",
            "50%           34.000000  2040.000000\n",
            "75%           39.000000  3000.000000\n",
            "max           99.000000  9999.000000\n"
          ]
        }
      ]
    },
    {
      "cell_type": "markdown",
      "source": [
        "VEMOS LA CALIDAD DEL DATO DE LAS VARIABLES A FILTRAR: LOS ERRORES EN ESTAS VARIABLES PUEDEN SUGERIR HACER IMPUTACIÓN O QUITARLOS"
      ],
      "metadata": {
        "id": "x06m1CXfYNA-"
      }
    },
    {
      "cell_type": "code",
      "source": [
        "print(((def_inf_cali['Peso'] == 0) | (def_inf_cali['Tiempo Gestación'] == 0)).value_counts())\n",
        "print(((def_inf_valle['Peso'] == 0) | (def_inf_valle['Tiempo Gestación'] == 0)).value_counts())"
      ],
      "metadata": {
        "colab": {
          "base_uri": "https://localhost:8080/"
        },
        "id": "bep5bvH4Xs3e",
        "outputId": "cc2a946c-c2c7-46b3-a85e-f329926e39ac"
      },
      "execution_count": null,
      "outputs": [
        {
          "output_type": "stream",
          "name": "stdout",
          "text": [
            "False    40194\n",
            "True        44\n",
            "dtype: int64\n",
            "False    2931\n",
            "True       17\n",
            "dtype: int64\n"
          ]
        }
      ]
    },
    {
      "cell_type": "code",
      "source": [
        "print(((def_inf_cali['Peso'] >= 9000) | (def_inf_cali['Tiempo Gestación'] == 99)).value_counts())\n",
        "print(((def_inf_valle['Peso'] >= 9000) | (def_inf_valle['Tiempo Gestación'] == 99)).value_counts())"
      ],
      "metadata": {
        "colab": {
          "base_uri": "https://localhost:8080/"
        },
        "id": "fMdHjL4EYdMo",
        "outputId": "c8771117-e083-4340-baa1-1553bd4a726e"
      },
      "execution_count": null,
      "outputs": [
        {
          "output_type": "stream",
          "name": "stdout",
          "text": [
            "False    40235\n",
            "True         3\n",
            "dtype: int64\n",
            "False    2588\n",
            "True      360\n",
            "dtype: int64\n"
          ]
        }
      ]
    },
    {
      "cell_type": "code",
      "source": [
        "print((((def_inf_cali['Peso'] == 0) | (def_inf_cali['Peso'] >= 9000)| (def_inf_cali['Peso'].isna()) ) |\n",
        "((def_inf_cali['Tiempo Gestación'] == 0) | (def_inf_cali['Tiempo Gestación'] == 99)| (def_inf_cali['Tiempo Gestación'].isna()) )).value_counts())"
      ],
      "metadata": {
        "colab": {
          "base_uri": "https://localhost:8080/"
        },
        "id": "tdnMCoSranRf",
        "outputId": "e4a66a66-f57a-454e-cb65-945e6a03dd65"
      },
      "execution_count": null,
      "outputs": [
        {
          "output_type": "stream",
          "name": "stdout",
          "text": [
            "False    24971\n",
            "True     15267\n",
            "dtype: int64\n"
          ]
        }
      ]
    },
    {
      "cell_type": "code",
      "source": [
        "print((((def_inf_valle['Peso'] == 0) | (def_inf_valle['Peso'] >= 9000)| (def_inf_valle['Peso'].isna()) ) |\n",
        "((def_inf_valle['Tiempo Gestación'] == 0) | (def_inf_valle['Tiempo Gestación'] == 99)| (def_inf_valle['Tiempo Gestación'].isna()) )).value_counts())"
      ],
      "metadata": {
        "colab": {
          "base_uri": "https://localhost:8080/"
        },
        "id": "6KG8JpGGb81u",
        "outputId": "12a7f7af-221f-43c0-e6eb-1633460f97c0"
      },
      "execution_count": null,
      "outputs": [
        {
          "output_type": "stream",
          "name": "stdout",
          "text": [
            "False    2571\n",
            "True      377\n",
            "dtype: int64\n"
          ]
        }
      ]
    },
    {
      "cell_type": "markdown",
      "source": [
        "### FILTRO SEGUNDO: PARA BPNT Y LIMPIEZA DE CÉDULAS REDUNDANTES:"
      ],
      "metadata": {
        "id": "aUmr6VtwfoB-"
      }
    },
    {
      "cell_type": "code",
      "source": [
        "f_bpnt_cali = (def_inf_cali['Peso'] < 2500) & (def_inf_cali['Tiempo Gestación'] >= 37)\n",
        "f_bpnt_valle = (def_inf_valle['Peso'] < 2500) & (def_inf_valle['Tiempo Gestación'] >= 37)"
      ],
      "metadata": {
        "id": "HykpeKWwWsYX"
      },
      "execution_count": null,
      "outputs": []
    },
    {
      "cell_type": "code",
      "source": [
        "print(f_bpnt_cali.value_counts())\n",
        "print(f_bpnt_valle.value_counts())"
      ],
      "metadata": {
        "colab": {
          "base_uri": "https://localhost:8080/"
        },
        "id": "K3i7lyF-ceG2",
        "outputId": "bd689e65-2ac7-45ff-d651-7bb8ea63df23"
      },
      "execution_count": null,
      "outputs": [
        {
          "output_type": "stream",
          "name": "stdout",
          "text": [
            "False    39781\n",
            "True       457\n",
            "dtype: int64\n",
            "False    2742\n",
            "True      206\n",
            "dtype: int64\n"
          ]
        }
      ]
    },
    {
      "cell_type": "code",
      "source": [
        "def_bpnt_cali = def_inf_cali[f_bpnt_cali].copy()\n",
        "def_bpnt_valle = def_inf_valle[f_bpnt_valle].copy()"
      ],
      "metadata": {
        "id": "9Rbr9oBLdUHH"
      },
      "execution_count": null,
      "outputs": []
    },
    {
      "cell_type": "code",
      "source": [
        "print(def_bpnt_cali.shape)\n",
        "print(def_bpnt_valle.shape)"
      ],
      "metadata": {
        "colab": {
          "base_uri": "https://localhost:8080/"
        },
        "id": "DsurwwmadlXu",
        "outputId": "3b06b858-0019-4f8a-963b-48a36973748c"
      },
      "execution_count": null,
      "outputs": [
        {
          "output_type": "stream",
          "name": "stdout",
          "text": [
            "(457, 12)\n",
            "(206, 12)\n"
          ]
        }
      ]
    },
    {
      "cell_type": "markdown",
      "source": [
        "#### COMPARACIÓN CÉDULAS DUPLICADAS DE CALI EN EL VALLE"
      ],
      "metadata": {
        "id": "tk0cX7fFXSzJ"
      }
    },
    {
      "cell_type": "code",
      "source": [
        "def_bpnt_cali['Número Documento Madre'].isin(def_bpnt_valle['Número Documento Madre']).value_counts()"
      ],
      "metadata": {
        "colab": {
          "base_uri": "https://localhost:8080/"
        },
        "id": "qB11RA9BVRSZ",
        "outputId": "432a9a2c-622b-4ba7-caf5-5a2a2c36219a"
      },
      "execution_count": null,
      "outputs": [
        {
          "output_type": "execute_result",
          "data": {
            "text/plain": [
              "False    365\n",
              "True      92\n",
              "Name: Número Documento Madre, dtype: int64"
            ]
          },
          "metadata": {},
          "execution_count": 114
        }
      ]
    },
    {
      "cell_type": "code",
      "source": [
        "indices_repetidos = def_bpnt_cali[def_bpnt_cali['Número Documento Madre'].isin(def_bpnt_valle['Número Documento Madre'])].index.tolist()"
      ],
      "metadata": {
        "id": "4PGyk4KcV_LR"
      },
      "execution_count": null,
      "outputs": []
    },
    {
      "cell_type": "code",
      "source": [
        "def_bpnt_cali.loc[indices_repetidos,'Número Documento Madre'].astype(int)"
      ],
      "metadata": {
        "colab": {
          "base_uri": "https://localhost:8080/"
        },
        "id": "-1WvrjjUWBrL",
        "outputId": "9f46d9ec-3607-44d8-9ae3-284591c1fc47"
      },
      "execution_count": null,
      "outputs": [
        {
          "output_type": "execute_result",
          "data": {
            "text/plain": [
              "2151      1107077012\n",
              "2813      1007685167\n",
              "4649      1112474782\n",
              "7189      1060878026\n",
              "10961       66859929\n",
              "             ...    \n",
              "211474      66966493\n",
              "212142      38468764\n",
              "216900    1111778796\n",
              "227411      38566743\n",
              "229390    1112098110\n",
              "Name: Número Documento Madre, Length: 92, dtype: int64"
            ]
          },
          "metadata": {},
          "execution_count": 118
        }
      ]
    },
    {
      "cell_type": "code",
      "source": [
        "def_bpnt_cali[def_bpnt_cali['Número Documento Madre'] == 1107077012]"
      ],
      "metadata": {
        "colab": {
          "base_uri": "https://localhost:8080/",
          "height": 150
        },
        "id": "RH4MOVM7WXok",
        "outputId": "e1107435-85dd-4b1a-89c6-62dcd966e8ca"
      },
      "execution_count": null,
      "outputs": [
        {
          "output_type": "execute_result",
          "data": {
            "text/plain": [
              "     Fecha Defunción      Sexo       Tipo Edad Fallecido Edad Fallecido  \\\n",
              "2151      2018-11-28  FEMENINO  MENOR DE 1 MES (EN DÍAS)            9.0   \n",
              "\n",
              "     Probable Manera Muerte  Tiempo Gestación    Peso  Tipo Documento Madre  \\\n",
              "2151                NATURAL              39.0  2430.0  CÉDULA DE CIUDADANÍA   \n",
              "\n",
              "     Número Documento Madre Municipio Residencia Municipio Defunción  \\\n",
              "2151             1107077012           CANDELARIA                CALI   \n",
              "\n",
              "     Diagnóstico A  \n",
              "2151     HIPOXEMIA  "
            ],
            "text/html": [
              "\n",
              "  <div id=\"df-3a034cb8-5b4d-4fec-8ab6-0db02d7ad361\" class=\"colab-df-container\">\n",
              "    <div>\n",
              "<style scoped>\n",
              "    .dataframe tbody tr th:only-of-type {\n",
              "        vertical-align: middle;\n",
              "    }\n",
              "\n",
              "    .dataframe tbody tr th {\n",
              "        vertical-align: top;\n",
              "    }\n",
              "\n",
              "    .dataframe thead th {\n",
              "        text-align: right;\n",
              "    }\n",
              "</style>\n",
              "<table border=\"1\" class=\"dataframe\">\n",
              "  <thead>\n",
              "    <tr style=\"text-align: right;\">\n",
              "      <th></th>\n",
              "      <th>Fecha Defunción</th>\n",
              "      <th>Sexo</th>\n",
              "      <th>Tipo Edad Fallecido</th>\n",
              "      <th>Edad Fallecido</th>\n",
              "      <th>Probable Manera Muerte</th>\n",
              "      <th>Tiempo Gestación</th>\n",
              "      <th>Peso</th>\n",
              "      <th>Tipo Documento Madre</th>\n",
              "      <th>Número Documento Madre</th>\n",
              "      <th>Municipio Residencia</th>\n",
              "      <th>Municipio Defunción</th>\n",
              "      <th>Diagnóstico A</th>\n",
              "    </tr>\n",
              "  </thead>\n",
              "  <tbody>\n",
              "    <tr>\n",
              "      <th>2151</th>\n",
              "      <td>2018-11-28</td>\n",
              "      <td>FEMENINO</td>\n",
              "      <td>MENOR DE 1 MES (EN DÍAS)</td>\n",
              "      <td>9.0</td>\n",
              "      <td>NATURAL</td>\n",
              "      <td>39.0</td>\n",
              "      <td>2430.0</td>\n",
              "      <td>CÉDULA DE CIUDADANÍA</td>\n",
              "      <td>1107077012</td>\n",
              "      <td>CANDELARIA</td>\n",
              "      <td>CALI</td>\n",
              "      <td>HIPOXEMIA</td>\n",
              "    </tr>\n",
              "  </tbody>\n",
              "</table>\n",
              "</div>\n",
              "    <div class=\"colab-df-buttons\">\n",
              "\n",
              "  <div class=\"colab-df-container\">\n",
              "    <button class=\"colab-df-convert\" onclick=\"convertToInteractive('df-3a034cb8-5b4d-4fec-8ab6-0db02d7ad361')\"\n",
              "            title=\"Convert this dataframe to an interactive table.\"\n",
              "            style=\"display:none;\">\n",
              "\n",
              "  <svg xmlns=\"http://www.w3.org/2000/svg\" height=\"24px\" viewBox=\"0 -960 960 960\">\n",
              "    <path d=\"M120-120v-720h720v720H120Zm60-500h600v-160H180v160Zm220 220h160v-160H400v160Zm0 220h160v-160H400v160ZM180-400h160v-160H180v160Zm440 0h160v-160H620v160ZM180-180h160v-160H180v160Zm440 0h160v-160H620v160Z\"/>\n",
              "  </svg>\n",
              "    </button>\n",
              "\n",
              "  <style>\n",
              "    .colab-df-container {\n",
              "      display:flex;\n",
              "      gap: 12px;\n",
              "    }\n",
              "\n",
              "    .colab-df-convert {\n",
              "      background-color: #E8F0FE;\n",
              "      border: none;\n",
              "      border-radius: 50%;\n",
              "      cursor: pointer;\n",
              "      display: none;\n",
              "      fill: #1967D2;\n",
              "      height: 32px;\n",
              "      padding: 0 0 0 0;\n",
              "      width: 32px;\n",
              "    }\n",
              "\n",
              "    .colab-df-convert:hover {\n",
              "      background-color: #E2EBFA;\n",
              "      box-shadow: 0px 1px 2px rgba(60, 64, 67, 0.3), 0px 1px 3px 1px rgba(60, 64, 67, 0.15);\n",
              "      fill: #174EA6;\n",
              "    }\n",
              "\n",
              "    .colab-df-buttons div {\n",
              "      margin-bottom: 4px;\n",
              "    }\n",
              "\n",
              "    [theme=dark] .colab-df-convert {\n",
              "      background-color: #3B4455;\n",
              "      fill: #D2E3FC;\n",
              "    }\n",
              "\n",
              "    [theme=dark] .colab-df-convert:hover {\n",
              "      background-color: #434B5C;\n",
              "      box-shadow: 0px 1px 3px 1px rgba(0, 0, 0, 0.15);\n",
              "      filter: drop-shadow(0px 1px 2px rgba(0, 0, 0, 0.3));\n",
              "      fill: #FFFFFF;\n",
              "    }\n",
              "  </style>\n",
              "\n",
              "    <script>\n",
              "      const buttonEl =\n",
              "        document.querySelector('#df-3a034cb8-5b4d-4fec-8ab6-0db02d7ad361 button.colab-df-convert');\n",
              "      buttonEl.style.display =\n",
              "        google.colab.kernel.accessAllowed ? 'block' : 'none';\n",
              "\n",
              "      async function convertToInteractive(key) {\n",
              "        const element = document.querySelector('#df-3a034cb8-5b4d-4fec-8ab6-0db02d7ad361');\n",
              "        const dataTable =\n",
              "          await google.colab.kernel.invokeFunction('convertToInteractive',\n",
              "                                                    [key], {});\n",
              "        if (!dataTable) return;\n",
              "\n",
              "        const docLinkHtml = 'Like what you see? Visit the ' +\n",
              "          '<a target=\"_blank\" href=https://colab.research.google.com/notebooks/data_table.ipynb>data table notebook</a>'\n",
              "          + ' to learn more about interactive tables.';\n",
              "        element.innerHTML = '';\n",
              "        dataTable['output_type'] = 'display_data';\n",
              "        await google.colab.output.renderOutput(dataTable, element);\n",
              "        const docLink = document.createElement('div');\n",
              "        docLink.innerHTML = docLinkHtml;\n",
              "        element.appendChild(docLink);\n",
              "      }\n",
              "    </script>\n",
              "  </div>\n",
              "\n",
              "    </div>\n",
              "  </div>\n"
            ]
          },
          "metadata": {},
          "execution_count": 119
        }
      ]
    },
    {
      "cell_type": "code",
      "source": [
        "def_bpnt_valle[def_bpnt_valle['Número Documento Madre'] == 1107077012]"
      ],
      "metadata": {
        "colab": {
          "base_uri": "https://localhost:8080/",
          "height": 132
        },
        "id": "Q0xZ1qCOW9La",
        "outputId": "b2c0d0c6-31d3-48d1-f7a1-c16d6e7243a8"
      },
      "execution_count": null,
      "outputs": [
        {
          "output_type": "execute_result",
          "data": {
            "text/plain": [
              "           Fecha Defunción  Sexo       Tipo Edad Fallecido  Edad Fallecido  \\\n",
              "93195  2018-11-28 00:00:00     2  MENOR DE 1 MES (EN DÍAS)               9   \n",
              "\n",
              "      Probable Manera Muerte  Tiempo Gestación    Peso Tipo Documento Madre  \\\n",
              "93195                NATURAL              39.0  2430.0                   03   \n",
              "\n",
              "       Número Documento Madre Municipio Residencia Municipio Defunción  \\\n",
              "93195            1.107077e+09          CANDELARIA                 CALI   \n",
              "\n",
              "      Diagnóstico A  \n",
              "93195     HIPOXEMIA  "
            ],
            "text/html": [
              "\n",
              "  <div id=\"df-c74c7dcf-f927-4f17-b296-6ee138ec8113\" class=\"colab-df-container\">\n",
              "    <div>\n",
              "<style scoped>\n",
              "    .dataframe tbody tr th:only-of-type {\n",
              "        vertical-align: middle;\n",
              "    }\n",
              "\n",
              "    .dataframe tbody tr th {\n",
              "        vertical-align: top;\n",
              "    }\n",
              "\n",
              "    .dataframe thead th {\n",
              "        text-align: right;\n",
              "    }\n",
              "</style>\n",
              "<table border=\"1\" class=\"dataframe\">\n",
              "  <thead>\n",
              "    <tr style=\"text-align: right;\">\n",
              "      <th></th>\n",
              "      <th>Fecha Defunción</th>\n",
              "      <th>Sexo</th>\n",
              "      <th>Tipo Edad Fallecido</th>\n",
              "      <th>Edad Fallecido</th>\n",
              "      <th>Probable Manera Muerte</th>\n",
              "      <th>Tiempo Gestación</th>\n",
              "      <th>Peso</th>\n",
              "      <th>Tipo Documento Madre</th>\n",
              "      <th>Número Documento Madre</th>\n",
              "      <th>Municipio Residencia</th>\n",
              "      <th>Municipio Defunción</th>\n",
              "      <th>Diagnóstico A</th>\n",
              "    </tr>\n",
              "  </thead>\n",
              "  <tbody>\n",
              "    <tr>\n",
              "      <th>93195</th>\n",
              "      <td>2018-11-28 00:00:00</td>\n",
              "      <td>2</td>\n",
              "      <td>MENOR DE 1 MES (EN DÍAS)</td>\n",
              "      <td>9</td>\n",
              "      <td>NATURAL</td>\n",
              "      <td>39.0</td>\n",
              "      <td>2430.0</td>\n",
              "      <td>03</td>\n",
              "      <td>1.107077e+09</td>\n",
              "      <td>CANDELARIA</td>\n",
              "      <td>CALI</td>\n",
              "      <td>HIPOXEMIA</td>\n",
              "    </tr>\n",
              "  </tbody>\n",
              "</table>\n",
              "</div>\n",
              "    <div class=\"colab-df-buttons\">\n",
              "\n",
              "  <div class=\"colab-df-container\">\n",
              "    <button class=\"colab-df-convert\" onclick=\"convertToInteractive('df-c74c7dcf-f927-4f17-b296-6ee138ec8113')\"\n",
              "            title=\"Convert this dataframe to an interactive table.\"\n",
              "            style=\"display:none;\">\n",
              "\n",
              "  <svg xmlns=\"http://www.w3.org/2000/svg\" height=\"24px\" viewBox=\"0 -960 960 960\">\n",
              "    <path d=\"M120-120v-720h720v720H120Zm60-500h600v-160H180v160Zm220 220h160v-160H400v160Zm0 220h160v-160H400v160ZM180-400h160v-160H180v160Zm440 0h160v-160H620v160ZM180-180h160v-160H180v160Zm440 0h160v-160H620v160Z\"/>\n",
              "  </svg>\n",
              "    </button>\n",
              "\n",
              "  <style>\n",
              "    .colab-df-container {\n",
              "      display:flex;\n",
              "      gap: 12px;\n",
              "    }\n",
              "\n",
              "    .colab-df-convert {\n",
              "      background-color: #E8F0FE;\n",
              "      border: none;\n",
              "      border-radius: 50%;\n",
              "      cursor: pointer;\n",
              "      display: none;\n",
              "      fill: #1967D2;\n",
              "      height: 32px;\n",
              "      padding: 0 0 0 0;\n",
              "      width: 32px;\n",
              "    }\n",
              "\n",
              "    .colab-df-convert:hover {\n",
              "      background-color: #E2EBFA;\n",
              "      box-shadow: 0px 1px 2px rgba(60, 64, 67, 0.3), 0px 1px 3px 1px rgba(60, 64, 67, 0.15);\n",
              "      fill: #174EA6;\n",
              "    }\n",
              "\n",
              "    .colab-df-buttons div {\n",
              "      margin-bottom: 4px;\n",
              "    }\n",
              "\n",
              "    [theme=dark] .colab-df-convert {\n",
              "      background-color: #3B4455;\n",
              "      fill: #D2E3FC;\n",
              "    }\n",
              "\n",
              "    [theme=dark] .colab-df-convert:hover {\n",
              "      background-color: #434B5C;\n",
              "      box-shadow: 0px 1px 3px 1px rgba(0, 0, 0, 0.15);\n",
              "      filter: drop-shadow(0px 1px 2px rgba(0, 0, 0, 0.3));\n",
              "      fill: #FFFFFF;\n",
              "    }\n",
              "  </style>\n",
              "\n",
              "    <script>\n",
              "      const buttonEl =\n",
              "        document.querySelector('#df-c74c7dcf-f927-4f17-b296-6ee138ec8113 button.colab-df-convert');\n",
              "      buttonEl.style.display =\n",
              "        google.colab.kernel.accessAllowed ? 'block' : 'none';\n",
              "\n",
              "      async function convertToInteractive(key) {\n",
              "        const element = document.querySelector('#df-c74c7dcf-f927-4f17-b296-6ee138ec8113');\n",
              "        const dataTable =\n",
              "          await google.colab.kernel.invokeFunction('convertToInteractive',\n",
              "                                                    [key], {});\n",
              "        if (!dataTable) return;\n",
              "\n",
              "        const docLinkHtml = 'Like what you see? Visit the ' +\n",
              "          '<a target=\"_blank\" href=https://colab.research.google.com/notebooks/data_table.ipynb>data table notebook</a>'\n",
              "          + ' to learn more about interactive tables.';\n",
              "        element.innerHTML = '';\n",
              "        dataTable['output_type'] = 'display_data';\n",
              "        await google.colab.output.renderOutput(dataTable, element);\n",
              "        const docLink = document.createElement('div');\n",
              "        docLink.innerHTML = docLinkHtml;\n",
              "        element.appendChild(docLink);\n",
              "      }\n",
              "    </script>\n",
              "  </div>\n",
              "\n",
              "    </div>\n",
              "  </div>\n"
            ]
          },
          "metadata": {},
          "execution_count": 120
        }
      ]
    },
    {
      "cell_type": "markdown",
      "source": [
        "Fueron 92 cédulas contenidas en la fuente de datos del valle bpnt que se encontraban en cali bpnt, por lo tanto se anulan del valle dichas cédulas y se continua a juntar los datos en unos solo."
      ],
      "metadata": {
        "id": "wCaZrIpNYId7"
      }
    },
    {
      "cell_type": "code",
      "source": [
        "def_bpnt_cali = def_bpnt_cali.drop(indices_repetidos).copy()"
      ],
      "metadata": {
        "id": "6hR9KEa6WFlB"
      },
      "execution_count": null,
      "outputs": []
    },
    {
      "cell_type": "code",
      "source": [
        "print(def_bpnt_cali.shape)\n",
        "print(def_bpnt_valle.shape)"
      ],
      "metadata": {
        "colab": {
          "base_uri": "https://localhost:8080/"
        },
        "id": "L1PH541XZ31a",
        "outputId": "be013ab8-57a9-42fc-ce37-a30d9f86d21c"
      },
      "execution_count": null,
      "outputs": [
        {
          "output_type": "stream",
          "name": "stdout",
          "text": [
            "(365, 12)\n",
            "(206, 12)\n"
          ]
        }
      ]
    },
    {
      "cell_type": "code",
      "source": [
        "((def_bpnt_cali['Número Documento Madre'] == 99999999999)|\n",
        " (def_bpnt_cali['Número Documento Madre'].isna())|\n",
        " (def_bpnt_cali['Número Documento Madre'] == 0)).value_counts()"
      ],
      "metadata": {
        "colab": {
          "base_uri": "https://localhost:8080/"
        },
        "id": "WO9-OxJweHw3",
        "outputId": "f2eda340-8655-417c-cc1d-1f2531c0dc1c"
      },
      "execution_count": null,
      "outputs": [
        {
          "output_type": "execute_result",
          "data": {
            "text/plain": [
              "False    352\n",
              "True      13\n",
              "Name: Número Documento Madre, dtype: int64"
            ]
          },
          "metadata": {},
          "execution_count": 147
        }
      ]
    },
    {
      "cell_type": "code",
      "source": [
        "((def_bpnt_valle['Número Documento Madre'] == 99999999999)|\n",
        " (def_bpnt_valle['Número Documento Madre'].isna())|\n",
        " (def_bpnt_valle['Número Documento Madre'] == 0)).value_counts()"
      ],
      "metadata": {
        "colab": {
          "base_uri": "https://localhost:8080/"
        },
        "id": "d2Fz0Skph4no",
        "outputId": "63e8a04f-edfe-4727-a1ec-55b8b5a624bb"
      },
      "execution_count": null,
      "outputs": [
        {
          "output_type": "execute_result",
          "data": {
            "text/plain": [
              "False    196\n",
              "True      10\n",
              "Name: Número Documento Madre, dtype: int64"
            ]
          },
          "metadata": {},
          "execution_count": 148
        }
      ]
    },
    {
      "cell_type": "code",
      "source": [
        "f_idna_def_cali = ((def_bpnt_cali['Número Documento Madre'] == 99999999999)|\n",
        " (def_bpnt_cali['Número Documento Madre'].isna())|\n",
        " (def_bpnt_cali['Número Documento Madre'] == 0))\n",
        "\n",
        "f_idna_def_valle = ((def_bpnt_valle['Número Documento Madre'] == 99999999999)|\n",
        " (def_bpnt_valle['Número Documento Madre'].isna())|\n",
        " (def_bpnt_valle['Número Documento Madre'] == 0))"
      ],
      "metadata": {
        "id": "oYOiESX1i78J"
      },
      "execution_count": null,
      "outputs": []
    },
    {
      "cell_type": "code",
      "source": [
        "def_bpnt_cali = def_bpnt_cali[~f_idna_def_cali].copy()\n",
        "def_bpnt_valle = def_bpnt_valle[~f_idna_def_valle].copy()"
      ],
      "metadata": {
        "id": "8eiBC3JYjLy2"
      },
      "execution_count": null,
      "outputs": []
    },
    {
      "cell_type": "code",
      "source": [
        "print(def_bpnt_cali.shape)\n",
        "print(def_bpnt_valle.shape)"
      ],
      "metadata": {
        "colab": {
          "base_uri": "https://localhost:8080/"
        },
        "id": "Zne2dNRxjZln",
        "outputId": "e4f4a55a-b69f-4f5b-d3e2-98d1cc290226"
      },
      "execution_count": null,
      "outputs": [
        {
          "output_type": "stream",
          "name": "stdout",
          "text": [
            "(352, 12)\n",
            "(196, 12)\n"
          ]
        }
      ]
    },
    {
      "cell_type": "markdown",
      "source": [
        "### UNIÓN ENTRE CONJUNTO DE DEFUNCIONES EN TODO VALLE"
      ],
      "metadata": {
        "id": "1pOlylh_a7bR"
      }
    },
    {
      "cell_type": "code",
      "source": [
        "df_final_mort = pd.concat([def_bpnt_cali, def_bpnt_valle])\n",
        "df_final_mort['Fecha Defunción'] = pd.to_datetime(df_final_mort['Fecha Defunción'])\n",
        "df_final_mort = df_final_mort.sort_values(by='Fecha Defunción')\n",
        "df_final_mort['Año'] = df_final_mort['Fecha Defunción'].dt.year\n",
        "df_final_mort = df_final_mort.applymap(lambda x: x.strip() if isinstance(x, str) else x)"
      ],
      "metadata": {
        "colab": {
          "base_uri": "https://localhost:8080/"
        },
        "id": "aV8XenW0argC",
        "outputId": "fc02ac66-3b86-4b0d-8ba4-ac0e252e7305"
      },
      "execution_count": null,
      "outputs": [
        {
          "output_type": "stream",
          "name": "stderr",
          "text": [
            "<ipython-input-156-c88409bf3274>:2: UserWarning: Parsing dates in DD/MM/YYYY format when dayfirst=False (the default) was specified. This may lead to inconsistently parsed dates! Specify a format to ensure consistent parsing.\n",
            "  df_final_mort['Fecha Defunción'] = pd.to_datetime(df_final_mort['Fecha Defunción'])\n"
          ]
        }
      ]
    },
    {
      "cell_type": "code",
      "source": [
        "df_final_mort.shape"
      ],
      "metadata": {
        "colab": {
          "base_uri": "https://localhost:8080/"
        },
        "id": "vktS3gcpb8WM",
        "outputId": "eae8f6e8-8d68-42f9-a6d2-3576e556f854"
      },
      "execution_count": null,
      "outputs": [
        {
          "output_type": "execute_result",
          "data": {
            "text/plain": [
              "(548, 13)"
            ]
          },
          "metadata": {},
          "execution_count": 157
        }
      ]
    },
    {
      "cell_type": "code",
      "source": [
        "df_final_mort.to_csv('/content/drive/My Drive/Datos_BPN2023/datos_generados_V2/def_valle_total_V2.csv', index=False)"
      ],
      "metadata": {
        "id": "uqcmM1cFcxO4"
      },
      "execution_count": null,
      "outputs": []
    },
    {
      "cell_type": "markdown",
      "source": [
        "# CAPITULO 3. CRUCE DE NACIMIENTOS VS DEFUNCIONES: CREACIÓN DE VARIABLE DE INTERÉS"
      ],
      "metadata": {
        "id": "Teol6cLocB5p"
      }
    },
    {
      "cell_type": "code",
      "source": [
        "import numpy as np"
      ],
      "metadata": {
        "id": "_o7hklJwjDci"
      },
      "execution_count": null,
      "outputs": []
    },
    {
      "cell_type": "markdown",
      "source": [
        "Cargamos los datos finales de los capitulos anteriores:"
      ],
      "metadata": {
        "id": "1pwx7MWSc8_x"
      }
    },
    {
      "cell_type": "code",
      "source": [
        "nac_totales = pd.read_csv('/content/drive/My Drive/Datos_BPN2023/datos_generados_V2/nac_valle_total_V2.csv',sep=\",\")\n",
        "def_totales = pd.read_csv('/content/drive/My Drive/Datos_BPN2023/datos_generados_V2/def_valle_total_V2.csv',sep=\",\")"
      ],
      "metadata": {
        "id": "qfRjfac7cAmq"
      },
      "execution_count": null,
      "outputs": []
    },
    {
      "cell_type": "code",
      "source": [
        "df_valle_nac = nac_totales.copy()\n",
        "df_valle_mort = def_totales.copy()"
      ],
      "metadata": {
        "id": "y27h_eunduCZ"
      },
      "execution_count": null,
      "outputs": []
    },
    {
      "cell_type": "code",
      "source": [
        "df_valle_mort1 = df_valle_mort[df_valle_mort['Probable Manera Muerte'] != 'NO NATURAL']"
      ],
      "metadata": {
        "id": "c0Dlt4-NmCU7"
      },
      "execution_count": null,
      "outputs": []
    },
    {
      "cell_type": "code",
      "source": [
        "print(df_valle_nac.shape)\n",
        "print(df_valle_mort.shape)"
      ],
      "metadata": {
        "colab": {
          "base_uri": "https://localhost:8080/"
        },
        "id": "i-V7JXnpeus5",
        "outputId": "643a72aa-d33c-46cf-91bc-6943e80d14e2"
      },
      "execution_count": null,
      "outputs": [
        {
          "output_type": "stream",
          "name": "stdout",
          "text": [
            "(19407, 34)\n",
            "(548, 13)\n"
          ]
        }
      ]
    },
    {
      "cell_type": "code",
      "source": [
        "df_valle_nac.columns"
      ],
      "metadata": {
        "colab": {
          "base_uri": "https://localhost:8080/"
        },
        "id": "CezP4-j2f93M",
        "outputId": "1b2778d8-80a0-4829-fe5e-fe02c0091392"
      },
      "execution_count": null,
      "outputs": [
        {
          "output_type": "execute_result",
          "data": {
            "text/plain": [
              "Index(['Municipio Nacimiento', 'Area Nacimiento', 'Sitio Parto', 'IPS', 'Sexo',\n",
              "       'Peso', 'Talla', 'Fecha Nacimiento', 'Parto Atendido Por',\n",
              "       'Tiempo Gestación', 'Número Consultas Prenatales', 'Tipo Parto',\n",
              "       'Multiplicidad Embarazo', 'APGAR1', 'APGAR5', 'Grupo Sanguineo',\n",
              "       'Factor RH', 'Pertenencia Étnica', 'Pueblo Indígena',\n",
              "       'Tipo Documento Madre', 'Numero Documento Madre', 'Edad Madre',\n",
              "       'Estado Conyugal Madre', 'Último Año Estudios Madre',\n",
              "       'Municipio Residencia', 'Área Residencia', 'Número Hijos Nacidos Vivos',\n",
              "       'Fecha Nacimiento Anterior Hijo', 'Numero Embarazos',\n",
              "       'Régimen Seguridad Social', 'EPS', 'Edad Padre',\n",
              "       'Último Año Estudios Padre', 'Año'],\n",
              "      dtype='object')"
            ]
          },
          "metadata": {},
          "execution_count": 9
        }
      ]
    },
    {
      "cell_type": "code",
      "source": [
        "df_valle_mort1['Fecha Defunción'] = pd.to_datetime(df_valle_mort1['Fecha Defunción'])\n",
        "df_valle_nac['Fecha Nacimiento'] = pd.to_datetime(df_valle_nac['Fecha Nacimiento'])\n",
        "\n",
        "df_valle_mort1['Número Documento Madre']=pd.to_numeric(df_valle_mort1['Número Documento Madre'], errors='coerce')\n",
        "df_valle_nac['Numero Documento Madre']=pd.to_numeric(df_valle_nac['Numero Documento Madre'], errors='coerce')"
      ],
      "metadata": {
        "colab": {
          "base_uri": "https://localhost:8080/"
        },
        "id": "uDj5UEqZdhsh",
        "outputId": "13cfc19c-0aa5-45a1-802e-b812a256975a"
      },
      "execution_count": null,
      "outputs": [
        {
          "output_type": "stream",
          "name": "stderr",
          "text": [
            "<ipython-input-245-cec3cff1764a>:1: SettingWithCopyWarning: \n",
            "A value is trying to be set on a copy of a slice from a DataFrame.\n",
            "Try using .loc[row_indexer,col_indexer] = value instead\n",
            "\n",
            "See the caveats in the documentation: https://pandas.pydata.org/pandas-docs/stable/user_guide/indexing.html#returning-a-view-versus-a-copy\n",
            "  df_valle_mort1['Fecha Defunción'] = pd.to_datetime(df_valle_mort1['Fecha Defunción'])\n",
            "<ipython-input-245-cec3cff1764a>:4: SettingWithCopyWarning: \n",
            "A value is trying to be set on a copy of a slice from a DataFrame.\n",
            "Try using .loc[row_indexer,col_indexer] = value instead\n",
            "\n",
            "See the caveats in the documentation: https://pandas.pydata.org/pandas-docs/stable/user_guide/indexing.html#returning-a-view-versus-a-copy\n",
            "  df_valle_mort1['Número Documento Madre']=pd.to_numeric(df_valle_mort1['Número Documento Madre'], errors='coerce')\n"
          ]
        }
      ]
    },
    {
      "cell_type": "code",
      "source": [
        "df_valle_nac['Numero Documento Madre'].isin(df_valle_mort1['Número Documento Madre']).value_counts()"
      ],
      "metadata": {
        "colab": {
          "base_uri": "https://localhost:8080/"
        },
        "id": "JNQ8TXI_feqB",
        "outputId": "ed741e2c-1baf-47d9-fa10-5034028efb47"
      },
      "execution_count": null,
      "outputs": [
        {
          "output_type": "execute_result",
          "data": {
            "text/plain": [
              "False    18843\n",
              "True       564\n",
              "Name: Numero Documento Madre, dtype: int64"
            ]
          },
          "metadata": {},
          "execution_count": 246
        }
      ]
    },
    {
      "cell_type": "code",
      "source": [
        "df_valle_mort1['Número Documento Madre'].isin(df_valle_nac['Numero Documento Madre']).value_counts()"
      ],
      "metadata": {
        "colab": {
          "base_uri": "https://localhost:8080/"
        },
        "id": "R8Fq7HNigt3y",
        "outputId": "5b33908a-05f3-45d2-e351-b7f11924c562"
      },
      "execution_count": null,
      "outputs": [
        {
          "output_type": "execute_result",
          "data": {
            "text/plain": [
              "False    308\n",
              "True     238\n",
              "Name: Número Documento Madre, dtype: int64"
            ]
          },
          "metadata": {},
          "execution_count": 247
        }
      ]
    },
    {
      "cell_type": "code",
      "source": [
        "#df_valle_nac2 = df_valle_nac.copy()\n",
        "df_valle_mort2 = df_valle_mort1[df_valle_mort1['Número Documento Madre'].isin(df_valle_nac['Numero Documento Madre'])].copy()"
      ],
      "metadata": {
        "id": "nUOpkqeaiLgL"
      },
      "execution_count": null,
      "outputs": []
    },
    {
      "cell_type": "code",
      "source": [
        "df_valle_nac2['Multiplicidad Embarazo'].value_counts()"
      ],
      "metadata": {
        "colab": {
          "base_uri": "https://localhost:8080/"
        },
        "id": "TpLx5tfVrBGS",
        "outputId": "b455f782-2a39-468d-86c0-0e989ebec908"
      },
      "execution_count": null,
      "outputs": [
        {
          "output_type": "execute_result",
          "data": {
            "text/plain": [
              "SIMPLE    17794\n",
              "DOBLE      1612\n",
              "TRIPLE        1\n",
              "Name: Multiplicidad Embarazo, dtype: int64"
            ]
          },
          "metadata": {},
          "execution_count": 260
        }
      ]
    },
    {
      "cell_type": "code",
      "source": [
        "cedulas_def = df_valle_nac2.index[df_valle_nac2['Numero Documento Madre'].isin(df_valle_mort2['Número Documento Madre'])]"
      ],
      "metadata": {
        "id": "VaIsK9rTfYLT"
      },
      "execution_count": null,
      "outputs": []
    },
    {
      "cell_type": "code",
      "source": [
        "cedulas_def"
      ],
      "metadata": {
        "colab": {
          "base_uri": "https://localhost:8080/"
        },
        "id": "mf0OUv9jisdU",
        "outputId": "b4647ab7-a3a3-4161-a27e-08c7a580659e"
      },
      "execution_count": null,
      "outputs": [
        {
          "output_type": "execute_result",
          "data": {
            "text/plain": [
              "Int64Index([   87,   305,   404,  1224,  1228,  1247,  1262,  1266,  1321,\n",
              "             1445,\n",
              "            ...\n",
              "            19197, 19209, 19235, 19241, 19246, 19337, 19354, 19384, 19394,\n",
              "            19395],\n",
              "           dtype='int64', length=564)"
            ]
          },
          "metadata": {},
          "execution_count": 267
        }
      ]
    },
    {
      "cell_type": "code",
      "source": [
        "pd.options.display.float_format = '{:.0f}'.format"
      ],
      "metadata": {
        "id": "34NWE4qtqJfq"
      },
      "execution_count": null,
      "outputs": []
    },
    {
      "cell_type": "code",
      "source": [
        "# Crear llave combinada en df_valle_nac y df_valle_mort1\n",
        "df_valle_nac['llave_combinada'] = df_valle_nac['Numero Documento Madre'].astype(str) + df_valle_nac['Peso'].astype(str)\n",
        "df_valle_mort1['llave_combinada'] = df_valle_mort1['Número Documento Madre'].astype(str) + df_valle_mort1['Peso'].astype(str)\n",
        "\n",
        "# Crear un set de llaves combinadas de df_valle_mort1 para una búsqueda eficiente\n",
        "llaves_mort1 = set(df_valle_mort1['llave_combinada'])\n",
        "\n",
        "# Definir una función que aplicaremos a cada fila\n",
        "def verificar_aparicion(fila):\n",
        "    if fila['Multiplicidad Embarazo'] == 'SIMPLE':\n",
        "        # Para embarazos simples, verificar si el documento está en df_valle_mort1\n",
        "        return fila['Numero Documento Madre'] in df_valle_mort1['Número Documento Madre'].values\n",
        "    else:\n",
        "        # Para otros casos, verificar la llave combinada\n",
        "        return fila['llave_combinada'] in llaves_mort1\n",
        "\n",
        "# Aplicar la función a cada fila de df_valle_nac y crear la columna 'apareció'\n",
        "df_valle_nac['apareció'] = df_valle_nac.apply(verificar_aparicion, axis=1).astype(int)\n"
      ],
      "metadata": {
        "colab": {
          "base_uri": "https://localhost:8080/"
        },
        "id": "qVYvDPu9spJ6",
        "outputId": "eee3ee37-a8db-48f2-eb37-a39d3c47abb1"
      },
      "execution_count": null,
      "outputs": [
        {
          "output_type": "stream",
          "name": "stderr",
          "text": [
            "<ipython-input-268-483b4e67f2d7>:3: SettingWithCopyWarning: \n",
            "A value is trying to be set on a copy of a slice from a DataFrame.\n",
            "Try using .loc[row_indexer,col_indexer] = value instead\n",
            "\n",
            "See the caveats in the documentation: https://pandas.pydata.org/pandas-docs/stable/user_guide/indexing.html#returning-a-view-versus-a-copy\n",
            "  df_valle_mort1['llave_combinada'] = df_valle_mort1['Número Documento Madre'].astype(str) + df_valle_mort1['Peso'].astype(str)\n"
          ]
        }
      ]
    },
    {
      "cell_type": "code",
      "source": [
        "df_valle_nac['apareció'].value_counts()"
      ],
      "metadata": {
        "colab": {
          "base_uri": "https://localhost:8080/"
        },
        "id": "wRjxR94Tswry",
        "outputId": "b0425056-c62a-430b-db5f-4fd4efef4079"
      },
      "execution_count": null,
      "outputs": [
        {
          "output_type": "execute_result",
          "data": {
            "text/plain": [
              "0    19128\n",
              "1      279\n",
              "Name: apareció, dtype: int64"
            ]
          },
          "metadata": {},
          "execution_count": 270
        }
      ]
    },
    {
      "cell_type": "code",
      "source": [
        "df_valle_nac = df_valle_nac.rename(columns={'apareció': 'def'})"
      ],
      "metadata": {
        "id": "CkmB5jTss_2M"
      },
      "execution_count": null,
      "outputs": []
    },
    {
      "cell_type": "code",
      "source": [
        "df_valle_nac.columns"
      ],
      "metadata": {
        "colab": {
          "base_uri": "https://localhost:8080/"
        },
        "id": "p5TfJeYntyUs",
        "outputId": "60d6beac-fb11-4f4e-b58e-8af31f8285b4"
      },
      "execution_count": null,
      "outputs": [
        {
          "output_type": "execute_result",
          "data": {
            "text/plain": [
              "Index(['Municipio Nacimiento', 'Area Nacimiento', 'Sitio Parto', 'IPS', 'Sexo',\n",
              "       'Peso', 'Talla', 'Fecha Nacimiento', 'Parto Atendido Por',\n",
              "       'Tiempo Gestación', 'Número Consultas Prenatales', 'Tipo Parto',\n",
              "       'Multiplicidad Embarazo', 'APGAR1', 'APGAR5', 'Grupo Sanguineo',\n",
              "       'Factor RH', 'Pertenencia Étnica', 'Pueblo Indígena',\n",
              "       'Tipo Documento Madre', 'Numero Documento Madre', 'Edad Madre',\n",
              "       'Estado Conyugal Madre', 'Último Año Estudios Madre',\n",
              "       'Municipio Residencia', 'Área Residencia', 'Número Hijos Nacidos Vivos',\n",
              "       'Fecha Nacimiento Anterior Hijo', 'Numero Embarazos',\n",
              "       'Régimen Seguridad Social', 'EPS', 'Edad Padre',\n",
              "       'Último Año Estudios Padre', 'Año', 'llave_combinada', 'def'],\n",
              "      dtype='object')"
            ]
          },
          "metadata": {},
          "execution_count": 276
        }
      ]
    },
    {
      "cell_type": "code",
      "source": [
        "# df_valle_nac.to_csv('/content/drive/My Drive/Datos_BPN2023/datos_generados_V2/df_previo_modelo.csv', index= False, sep=';')"
      ],
      "metadata": {
        "id": "m2zyWVQiuJ4b"
      },
      "execution_count": null,
      "outputs": []
    },
    {
      "cell_type": "markdown",
      "source": [
        "# CAPITULO 4. ESTADISTICAS DESCRIPTIVAS DE LA BASE DE DATOS FINAL"
      ],
      "metadata": {
        "id": "qWsSEq6t7jT1"
      }
    },
    {
      "cell_type": "markdown",
      "source": [],
      "metadata": {
        "id": "_qByJ3L6xwC5"
      }
    },
    {
      "cell_type": "code",
      "source": [
        "import pandas as pd\n",
        "import numpy as np\n",
        "from google.colab import drive\n",
        "drive.mount('/content/drive')"
      ],
      "metadata": {
        "colab": {
          "base_uri": "https://localhost:8080/"
        },
        "id": "6KaKCBW0iJn5",
        "outputId": "77e1b577-4952-4d5a-8440-6551dae6ba8d"
      },
      "execution_count": 1,
      "outputs": [
        {
          "output_type": "stream",
          "name": "stdout",
          "text": [
            "Mounted at /content/drive\n"
          ]
        }
      ]
    },
    {
      "cell_type": "code",
      "source": [
        "df_desc = pd.read_csv('/content/drive/My Drive/Datos_BPN2023/datos_generados_V2/df_previo_modelo.csv',  sep=';')"
      ],
      "metadata": {
        "id": "KARv-v4_7zaN"
      },
      "execution_count": 2,
      "outputs": []
    },
    {
      "cell_type": "code",
      "source": [
        "df_desc.info()"
      ],
      "metadata": {
        "colab": {
          "base_uri": "https://localhost:8080/"
        },
        "id": "o_m5_iXM7_DT",
        "outputId": "d992c73f-d2e6-4e9b-f036-d8cdb3e7ff6a"
      },
      "execution_count": 3,
      "outputs": [
        {
          "output_type": "stream",
          "name": "stdout",
          "text": [
            "<class 'pandas.core.frame.DataFrame'>\n",
            "RangeIndex: 19407 entries, 0 to 19406\n",
            "Data columns (total 36 columns):\n",
            " #   Column                          Non-Null Count  Dtype  \n",
            "---  ------                          --------------  -----  \n",
            " 0   Municipio Nacimiento            19397 non-null  object \n",
            " 1   Area Nacimiento                 19407 non-null  object \n",
            " 2   Sitio Parto                     19407 non-null  object \n",
            " 3   IPS                             19377 non-null  object \n",
            " 4   Sexo                            19407 non-null  object \n",
            " 5   Peso                            19407 non-null  float64\n",
            " 6   Talla                           19407 non-null  float64\n",
            " 7   Fecha Nacimiento                19407 non-null  object \n",
            " 8   Parto Atendido Por              19407 non-null  object \n",
            " 9   Tiempo Gestación                19407 non-null  float64\n",
            " 10  Número Consultas Prenatales     19406 non-null  float64\n",
            " 11  Tipo Parto                      19407 non-null  object \n",
            " 12  Multiplicidad Embarazo          19407 non-null  object \n",
            " 13  APGAR1                          19307 non-null  float64\n",
            " 14  APGAR5                          19307 non-null  float64\n",
            " 15  Grupo Sanguineo                 19245 non-null  object \n",
            " 16  Factor RH                       19244 non-null  object \n",
            " 17  Pertenencia Étnica              19407 non-null  object \n",
            " 18  Pueblo Indígena                 131 non-null    object \n",
            " 19  Tipo Documento Madre            19267 non-null  object \n",
            " 20  Numero Documento Madre          19129 non-null  float64\n",
            " 21  Edad Madre                      19407 non-null  int64  \n",
            " 22  Estado Conyugal Madre           19407 non-null  object \n",
            " 23  Último Año Estudios Madre       19407 non-null  object \n",
            " 24  Municipio Residencia            19407 non-null  object \n",
            " 25  Área Residencia                 19407 non-null  object \n",
            " 26  Número Hijos Nacidos Vivos      19407 non-null  float64\n",
            " 27  Fecha Nacimiento Anterior Hijo  10289 non-null  object \n",
            " 28  Numero Embarazos                19406 non-null  float64\n",
            " 29  Régimen Seguridad Social        19406 non-null  object \n",
            " 30  EPS                             17831 non-null  object \n",
            " 31  Edad Padre                      19121 non-null  float64\n",
            " 32  Último Año Estudios Padre       19406 non-null  object \n",
            " 33  Año                             19407 non-null  int64  \n",
            " 34  llave_combinada                 19407 non-null  object \n",
            " 35  def                             19407 non-null  int64  \n",
            "dtypes: float64(10), int64(3), object(23)\n",
            "memory usage: 5.3+ MB\n"
          ]
        }
      ]
    },
    {
      "cell_type": "markdown",
      "source": [
        "### Imputación de datos faltantes: DATOS NUMÉRICOS"
      ],
      "metadata": {
        "id": "65Z0PZhcEIrL"
      }
    },
    {
      "cell_type": "code",
      "source": [
        "df_desc = df_desc.drop(['Municipio Nacimiento','IPS','Tipo Documento Madre','EPS','Edad Padre',\n",
        "                        'Último Año Estudios Padre','llave_combinada','Pueblo Indígena',], axis=1)"
      ],
      "metadata": {
        "id": "C3A7uz8B8IbM"
      },
      "execution_count": 4,
      "outputs": []
    },
    {
      "cell_type": "code",
      "source": [
        "df_desc['def']= df_desc['def'].astype('category')\n",
        "df_desc['Año']= df_desc['Año'].astype('category')\n",
        "df_desc['Numero Documento Madre']= df_desc['Numero Documento Madre'].astype('category')"
      ],
      "metadata": {
        "id": "c7ZPs_QTB18i"
      },
      "execution_count": 5,
      "outputs": []
    },
    {
      "cell_type": "code",
      "source": [
        "# el formato de año está en pandas.core.series.Series\n",
        "pd.Categorical(df_desc['Año'], categories=range(2011, 2023), ordered=True)"
      ],
      "metadata": {
        "colab": {
          "base_uri": "https://localhost:8080/"
        },
        "id": "qnGViZfEFzTH",
        "outputId": "44ebc2b1-e2dc-4716-9342-d35311519d52"
      },
      "execution_count": 6,
      "outputs": [
        {
          "output_type": "execute_result",
          "data": {
            "text/plain": [
              "[2011, 2011, 2011, 2011, 2011, ..., 2022, 2022, 2022, 2022, 2022]\n",
              "Length: 19407\n",
              "Categories (12, int64): [2011 < 2012 < 2013 < 2014 ... 2019 < 2020 < 2021 < 2022]"
            ]
          },
          "metadata": {},
          "execution_count": 6
        }
      ]
    },
    {
      "cell_type": "code",
      "source": [
        "df_desc.info()"
      ],
      "metadata": {
        "colab": {
          "base_uri": "https://localhost:8080/"
        },
        "id": "EmPeEb-TB0nT",
        "outputId": "e3c87929-9ebc-4a84-f7ba-0f15a563d567"
      },
      "execution_count": 7,
      "outputs": [
        {
          "output_type": "stream",
          "name": "stdout",
          "text": [
            "<class 'pandas.core.frame.DataFrame'>\n",
            "RangeIndex: 19407 entries, 0 to 19406\n",
            "Data columns (total 28 columns):\n",
            " #   Column                          Non-Null Count  Dtype   \n",
            "---  ------                          --------------  -----   \n",
            " 0   Area Nacimiento                 19407 non-null  object  \n",
            " 1   Sitio Parto                     19407 non-null  object  \n",
            " 2   Sexo                            19407 non-null  object  \n",
            " 3   Peso                            19407 non-null  float64 \n",
            " 4   Talla                           19407 non-null  float64 \n",
            " 5   Fecha Nacimiento                19407 non-null  object  \n",
            " 6   Parto Atendido Por              19407 non-null  object  \n",
            " 7   Tiempo Gestación                19407 non-null  float64 \n",
            " 8   Número Consultas Prenatales     19406 non-null  float64 \n",
            " 9   Tipo Parto                      19407 non-null  object  \n",
            " 10  Multiplicidad Embarazo          19407 non-null  object  \n",
            " 11  APGAR1                          19307 non-null  float64 \n",
            " 12  APGAR5                          19307 non-null  float64 \n",
            " 13  Grupo Sanguineo                 19245 non-null  object  \n",
            " 14  Factor RH                       19244 non-null  object  \n",
            " 15  Pertenencia Étnica              19407 non-null  object  \n",
            " 16  Numero Documento Madre          19129 non-null  category\n",
            " 17  Edad Madre                      19407 non-null  int64   \n",
            " 18  Estado Conyugal Madre           19407 non-null  object  \n",
            " 19  Último Año Estudios Madre       19407 non-null  object  \n",
            " 20  Municipio Residencia            19407 non-null  object  \n",
            " 21  Área Residencia                 19407 non-null  object  \n",
            " 22  Número Hijos Nacidos Vivos      19407 non-null  float64 \n",
            " 23  Fecha Nacimiento Anterior Hijo  10289 non-null  object  \n",
            " 24  Numero Embarazos                19406 non-null  float64 \n",
            " 25  Régimen Seguridad Social        19406 non-null  object  \n",
            " 26  Año                             19407 non-null  category\n",
            " 27  def                             19407 non-null  category\n",
            "dtypes: category(3), float64(8), int64(1), object(16)\n",
            "memory usage: 4.4+ MB\n"
          ]
        }
      ]
    },
    {
      "cell_type": "code",
      "source": [
        "df_numeric = df_desc.select_dtypes(include=[float, int])"
      ],
      "metadata": {
        "id": "tfqH4lSo8riM"
      },
      "execution_count": 8,
      "outputs": []
    },
    {
      "cell_type": "code",
      "source": [
        "df_numeric.describe().round(2)"
      ],
      "metadata": {
        "colab": {
          "base_uri": "https://localhost:8080/",
          "height": 300
        },
        "id": "dK65zeRS9cXF",
        "outputId": "9b39d4ea-0bfe-4ec1-c0ee-6df66f089d75"
      },
      "execution_count": 9,
      "outputs": [
        {
          "output_type": "execute_result",
          "data": {
            "text/plain": [
              "           Peso     Talla  Tiempo Gestación  Número Consultas Prenatales  \\\n",
              "count  19407.00  19407.00          19407.00                     19406.00   \n",
              "mean    2292.28     46.76             38.00                         6.53   \n",
              "std      192.78      2.48              3.47                         4.80   \n",
              "min      300.00     21.00             37.00                         0.00   \n",
              "25%     2205.50     45.00             37.00                         5.00   \n",
              "50%     2345.00     47.00             38.00                         7.00   \n",
              "75%     2425.00     48.00             38.00                         8.00   \n",
              "max     2499.00     99.00             99.00                        99.00   \n",
              "\n",
              "         APGAR1    APGAR5  Edad Madre  Número Hijos Nacidos Vivos  \\\n",
              "count  19307.00  19307.00    19407.00                    19407.00   \n",
              "mean       8.89      9.99       25.19                        1.69   \n",
              "std        6.25      6.15        6.75                        1.06   \n",
              "min        1.00      1.00       12.00                        1.00   \n",
              "25%        8.00      9.00       20.00                        1.00   \n",
              "50%        9.00     10.00       24.00                        1.00   \n",
              "75%        9.00     10.00       30.00                        2.00   \n",
              "max       99.00     99.00       54.00                       16.00   \n",
              "\n",
              "       Numero Embarazos  \n",
              "count          19406.00  \n",
              "mean               1.84  \n",
              "std                1.41  \n",
              "min                1.00  \n",
              "25%                1.00  \n",
              "50%                1.00  \n",
              "75%                2.00  \n",
              "max               99.00  "
            ],
            "text/html": [
              "\n",
              "  <div id=\"df-3559234d-6184-4fef-8ffc-3c46f0e4902e\" class=\"colab-df-container\">\n",
              "    <div>\n",
              "<style scoped>\n",
              "    .dataframe tbody tr th:only-of-type {\n",
              "        vertical-align: middle;\n",
              "    }\n",
              "\n",
              "    .dataframe tbody tr th {\n",
              "        vertical-align: top;\n",
              "    }\n",
              "\n",
              "    .dataframe thead th {\n",
              "        text-align: right;\n",
              "    }\n",
              "</style>\n",
              "<table border=\"1\" class=\"dataframe\">\n",
              "  <thead>\n",
              "    <tr style=\"text-align: right;\">\n",
              "      <th></th>\n",
              "      <th>Peso</th>\n",
              "      <th>Talla</th>\n",
              "      <th>Tiempo Gestación</th>\n",
              "      <th>Número Consultas Prenatales</th>\n",
              "      <th>APGAR1</th>\n",
              "      <th>APGAR5</th>\n",
              "      <th>Edad Madre</th>\n",
              "      <th>Número Hijos Nacidos Vivos</th>\n",
              "      <th>Numero Embarazos</th>\n",
              "    </tr>\n",
              "  </thead>\n",
              "  <tbody>\n",
              "    <tr>\n",
              "      <th>count</th>\n",
              "      <td>19407.00</td>\n",
              "      <td>19407.00</td>\n",
              "      <td>19407.00</td>\n",
              "      <td>19406.00</td>\n",
              "      <td>19307.00</td>\n",
              "      <td>19307.00</td>\n",
              "      <td>19407.00</td>\n",
              "      <td>19407.00</td>\n",
              "      <td>19406.00</td>\n",
              "    </tr>\n",
              "    <tr>\n",
              "      <th>mean</th>\n",
              "      <td>2292.28</td>\n",
              "      <td>46.76</td>\n",
              "      <td>38.00</td>\n",
              "      <td>6.53</td>\n",
              "      <td>8.89</td>\n",
              "      <td>9.99</td>\n",
              "      <td>25.19</td>\n",
              "      <td>1.69</td>\n",
              "      <td>1.84</td>\n",
              "    </tr>\n",
              "    <tr>\n",
              "      <th>std</th>\n",
              "      <td>192.78</td>\n",
              "      <td>2.48</td>\n",
              "      <td>3.47</td>\n",
              "      <td>4.80</td>\n",
              "      <td>6.25</td>\n",
              "      <td>6.15</td>\n",
              "      <td>6.75</td>\n",
              "      <td>1.06</td>\n",
              "      <td>1.41</td>\n",
              "    </tr>\n",
              "    <tr>\n",
              "      <th>min</th>\n",
              "      <td>300.00</td>\n",
              "      <td>21.00</td>\n",
              "      <td>37.00</td>\n",
              "      <td>0.00</td>\n",
              "      <td>1.00</td>\n",
              "      <td>1.00</td>\n",
              "      <td>12.00</td>\n",
              "      <td>1.00</td>\n",
              "      <td>1.00</td>\n",
              "    </tr>\n",
              "    <tr>\n",
              "      <th>25%</th>\n",
              "      <td>2205.50</td>\n",
              "      <td>45.00</td>\n",
              "      <td>37.00</td>\n",
              "      <td>5.00</td>\n",
              "      <td>8.00</td>\n",
              "      <td>9.00</td>\n",
              "      <td>20.00</td>\n",
              "      <td>1.00</td>\n",
              "      <td>1.00</td>\n",
              "    </tr>\n",
              "    <tr>\n",
              "      <th>50%</th>\n",
              "      <td>2345.00</td>\n",
              "      <td>47.00</td>\n",
              "      <td>38.00</td>\n",
              "      <td>7.00</td>\n",
              "      <td>9.00</td>\n",
              "      <td>10.00</td>\n",
              "      <td>24.00</td>\n",
              "      <td>1.00</td>\n",
              "      <td>1.00</td>\n",
              "    </tr>\n",
              "    <tr>\n",
              "      <th>75%</th>\n",
              "      <td>2425.00</td>\n",
              "      <td>48.00</td>\n",
              "      <td>38.00</td>\n",
              "      <td>8.00</td>\n",
              "      <td>9.00</td>\n",
              "      <td>10.00</td>\n",
              "      <td>30.00</td>\n",
              "      <td>2.00</td>\n",
              "      <td>2.00</td>\n",
              "    </tr>\n",
              "    <tr>\n",
              "      <th>max</th>\n",
              "      <td>2499.00</td>\n",
              "      <td>99.00</td>\n",
              "      <td>99.00</td>\n",
              "      <td>99.00</td>\n",
              "      <td>99.00</td>\n",
              "      <td>99.00</td>\n",
              "      <td>54.00</td>\n",
              "      <td>16.00</td>\n",
              "      <td>99.00</td>\n",
              "    </tr>\n",
              "  </tbody>\n",
              "</table>\n",
              "</div>\n",
              "    <div class=\"colab-df-buttons\">\n",
              "\n",
              "  <div class=\"colab-df-container\">\n",
              "    <button class=\"colab-df-convert\" onclick=\"convertToInteractive('df-3559234d-6184-4fef-8ffc-3c46f0e4902e')\"\n",
              "            title=\"Convert this dataframe to an interactive table.\"\n",
              "            style=\"display:none;\">\n",
              "\n",
              "  <svg xmlns=\"http://www.w3.org/2000/svg\" height=\"24px\" viewBox=\"0 -960 960 960\">\n",
              "    <path d=\"M120-120v-720h720v720H120Zm60-500h600v-160H180v160Zm220 220h160v-160H400v160Zm0 220h160v-160H400v160ZM180-400h160v-160H180v160Zm440 0h160v-160H620v160ZM180-180h160v-160H180v160Zm440 0h160v-160H620v160Z\"/>\n",
              "  </svg>\n",
              "    </button>\n",
              "\n",
              "  <style>\n",
              "    .colab-df-container {\n",
              "      display:flex;\n",
              "      gap: 12px;\n",
              "    }\n",
              "\n",
              "    .colab-df-convert {\n",
              "      background-color: #E8F0FE;\n",
              "      border: none;\n",
              "      border-radius: 50%;\n",
              "      cursor: pointer;\n",
              "      display: none;\n",
              "      fill: #1967D2;\n",
              "      height: 32px;\n",
              "      padding: 0 0 0 0;\n",
              "      width: 32px;\n",
              "    }\n",
              "\n",
              "    .colab-df-convert:hover {\n",
              "      background-color: #E2EBFA;\n",
              "      box-shadow: 0px 1px 2px rgba(60, 64, 67, 0.3), 0px 1px 3px 1px rgba(60, 64, 67, 0.15);\n",
              "      fill: #174EA6;\n",
              "    }\n",
              "\n",
              "    .colab-df-buttons div {\n",
              "      margin-bottom: 4px;\n",
              "    }\n",
              "\n",
              "    [theme=dark] .colab-df-convert {\n",
              "      background-color: #3B4455;\n",
              "      fill: #D2E3FC;\n",
              "    }\n",
              "\n",
              "    [theme=dark] .colab-df-convert:hover {\n",
              "      background-color: #434B5C;\n",
              "      box-shadow: 0px 1px 3px 1px rgba(0, 0, 0, 0.15);\n",
              "      filter: drop-shadow(0px 1px 2px rgba(0, 0, 0, 0.3));\n",
              "      fill: #FFFFFF;\n",
              "    }\n",
              "  </style>\n",
              "\n",
              "    <script>\n",
              "      const buttonEl =\n",
              "        document.querySelector('#df-3559234d-6184-4fef-8ffc-3c46f0e4902e button.colab-df-convert');\n",
              "      buttonEl.style.display =\n",
              "        google.colab.kernel.accessAllowed ? 'block' : 'none';\n",
              "\n",
              "      async function convertToInteractive(key) {\n",
              "        const element = document.querySelector('#df-3559234d-6184-4fef-8ffc-3c46f0e4902e');\n",
              "        const dataTable =\n",
              "          await google.colab.kernel.invokeFunction('convertToInteractive',\n",
              "                                                    [key], {});\n",
              "        if (!dataTable) return;\n",
              "\n",
              "        const docLinkHtml = 'Like what you see? Visit the ' +\n",
              "          '<a target=\"_blank\" href=https://colab.research.google.com/notebooks/data_table.ipynb>data table notebook</a>'\n",
              "          + ' to learn more about interactive tables.';\n",
              "        element.innerHTML = '';\n",
              "        dataTable['output_type'] = 'display_data';\n",
              "        await google.colab.output.renderOutput(dataTable, element);\n",
              "        const docLink = document.createElement('div');\n",
              "        docLink.innerHTML = docLinkHtml;\n",
              "        element.appendChild(docLink);\n",
              "      }\n",
              "    </script>\n",
              "  </div>\n",
              "\n",
              "\n",
              "<div id=\"df-fc59ee6e-2f6c-46af-9893-2b42ac33b2b9\">\n",
              "  <button class=\"colab-df-quickchart\" onclick=\"quickchart('df-fc59ee6e-2f6c-46af-9893-2b42ac33b2b9')\"\n",
              "            title=\"Suggest charts\"\n",
              "            style=\"display:none;\">\n",
              "\n",
              "<svg xmlns=\"http://www.w3.org/2000/svg\" height=\"24px\"viewBox=\"0 0 24 24\"\n",
              "     width=\"24px\">\n",
              "    <g>\n",
              "        <path d=\"M19 3H5c-1.1 0-2 .9-2 2v14c0 1.1.9 2 2 2h14c1.1 0 2-.9 2-2V5c0-1.1-.9-2-2-2zM9 17H7v-7h2v7zm4 0h-2V7h2v10zm4 0h-2v-4h2v4z\"/>\n",
              "    </g>\n",
              "</svg>\n",
              "  </button>\n",
              "\n",
              "<style>\n",
              "  .colab-df-quickchart {\n",
              "      --bg-color: #E8F0FE;\n",
              "      --fill-color: #1967D2;\n",
              "      --hover-bg-color: #E2EBFA;\n",
              "      --hover-fill-color: #174EA6;\n",
              "      --disabled-fill-color: #AAA;\n",
              "      --disabled-bg-color: #DDD;\n",
              "  }\n",
              "\n",
              "  [theme=dark] .colab-df-quickchart {\n",
              "      --bg-color: #3B4455;\n",
              "      --fill-color: #D2E3FC;\n",
              "      --hover-bg-color: #434B5C;\n",
              "      --hover-fill-color: #FFFFFF;\n",
              "      --disabled-bg-color: #3B4455;\n",
              "      --disabled-fill-color: #666;\n",
              "  }\n",
              "\n",
              "  .colab-df-quickchart {\n",
              "    background-color: var(--bg-color);\n",
              "    border: none;\n",
              "    border-radius: 50%;\n",
              "    cursor: pointer;\n",
              "    display: none;\n",
              "    fill: var(--fill-color);\n",
              "    height: 32px;\n",
              "    padding: 0;\n",
              "    width: 32px;\n",
              "  }\n",
              "\n",
              "  .colab-df-quickchart:hover {\n",
              "    background-color: var(--hover-bg-color);\n",
              "    box-shadow: 0 1px 2px rgba(60, 64, 67, 0.3), 0 1px 3px 1px rgba(60, 64, 67, 0.15);\n",
              "    fill: var(--button-hover-fill-color);\n",
              "  }\n",
              "\n",
              "  .colab-df-quickchart-complete:disabled,\n",
              "  .colab-df-quickchart-complete:disabled:hover {\n",
              "    background-color: var(--disabled-bg-color);\n",
              "    fill: var(--disabled-fill-color);\n",
              "    box-shadow: none;\n",
              "  }\n",
              "\n",
              "  .colab-df-spinner {\n",
              "    border: 2px solid var(--fill-color);\n",
              "    border-color: transparent;\n",
              "    border-bottom-color: var(--fill-color);\n",
              "    animation:\n",
              "      spin 1s steps(1) infinite;\n",
              "  }\n",
              "\n",
              "  @keyframes spin {\n",
              "    0% {\n",
              "      border-color: transparent;\n",
              "      border-bottom-color: var(--fill-color);\n",
              "      border-left-color: var(--fill-color);\n",
              "    }\n",
              "    20% {\n",
              "      border-color: transparent;\n",
              "      border-left-color: var(--fill-color);\n",
              "      border-top-color: var(--fill-color);\n",
              "    }\n",
              "    30% {\n",
              "      border-color: transparent;\n",
              "      border-left-color: var(--fill-color);\n",
              "      border-top-color: var(--fill-color);\n",
              "      border-right-color: var(--fill-color);\n",
              "    }\n",
              "    40% {\n",
              "      border-color: transparent;\n",
              "      border-right-color: var(--fill-color);\n",
              "      border-top-color: var(--fill-color);\n",
              "    }\n",
              "    60% {\n",
              "      border-color: transparent;\n",
              "      border-right-color: var(--fill-color);\n",
              "    }\n",
              "    80% {\n",
              "      border-color: transparent;\n",
              "      border-right-color: var(--fill-color);\n",
              "      border-bottom-color: var(--fill-color);\n",
              "    }\n",
              "    90% {\n",
              "      border-color: transparent;\n",
              "      border-bottom-color: var(--fill-color);\n",
              "    }\n",
              "  }\n",
              "</style>\n",
              "\n",
              "  <script>\n",
              "    async function quickchart(key) {\n",
              "      const quickchartButtonEl =\n",
              "        document.querySelector('#' + key + ' button');\n",
              "      quickchartButtonEl.disabled = true;  // To prevent multiple clicks.\n",
              "      quickchartButtonEl.classList.add('colab-df-spinner');\n",
              "      try {\n",
              "        const charts = await google.colab.kernel.invokeFunction(\n",
              "            'suggestCharts', [key], {});\n",
              "      } catch (error) {\n",
              "        console.error('Error during call to suggestCharts:', error);\n",
              "      }\n",
              "      quickchartButtonEl.classList.remove('colab-df-spinner');\n",
              "      quickchartButtonEl.classList.add('colab-df-quickchart-complete');\n",
              "    }\n",
              "    (() => {\n",
              "      let quickchartButtonEl =\n",
              "        document.querySelector('#df-fc59ee6e-2f6c-46af-9893-2b42ac33b2b9 button');\n",
              "      quickchartButtonEl.style.display =\n",
              "        google.colab.kernel.accessAllowed ? 'block' : 'none';\n",
              "    })();\n",
              "  </script>\n",
              "</div>\n",
              "\n",
              "    </div>\n",
              "  </div>\n"
            ]
          },
          "metadata": {},
          "execution_count": 9
        }
      ]
    },
    {
      "cell_type": "markdown",
      "source": [
        "Talla, tiempo de gestación , Consultas prenatales, apgar y Número de embarazos tienen maximos atípicos de 99 que según la codificación del DANE son realmente datos faltantes, por lo tanto se estudia su comportamiento y propuesta de imputación."
      ],
      "metadata": {
        "id": "z1NLbvlqIBxi"
      }
    },
    {
      "cell_type": "code",
      "source": [
        "print(f'Los valores faltantes en talla suman un total de :', ((df_desc['Talla'] > 90) | (df_desc['Talla'].isna())).sum())\n",
        "print(f'Los valores faltantes en Tiempo Gestación suman un total de :',(df_desc['Tiempo Gestación'] > 90).sum())\n",
        "print(f'Los valores faltantes en No. Consultas pren. suman un total de :',(df_desc['Número Consultas Prenatales'] > 90).sum())\n",
        "print(f'Los valores faltantes en APGAR1 suman un total de :',((df_desc['APGAR1'] > 90)|(df_desc['APGAR1'].isna())).sum())\n",
        "print(f'Los valores faltantes en APGAR5 suman un total de :',((df_desc['APGAR5'] > 90)|(df_desc['APGAR5'].isna())).sum())\n",
        "print(f'Los valores faltantes en No. De Embarazos suman un total de :',(df_desc['Numero Embarazos'] > 90).sum())"
      ],
      "metadata": {
        "colab": {
          "base_uri": "https://localhost:8080/"
        },
        "id": "0qV-zIB3IjJj",
        "outputId": "7445c451-310d-4f30-a37d-e5424dc911e9"
      },
      "execution_count": 10,
      "outputs": [
        {
          "output_type": "stream",
          "name": "stdout",
          "text": [
            "Los valores faltantes en talla suman un total de : 1\n",
            "Los valores faltantes en Tiempo Gestación suman un total de : 58\n",
            "Los valores faltantes en No. Consultas pren. suman un total de : 38\n",
            "Los valores faltantes en APGAR1 suman un total de : 190\n",
            "Los valores faltantes en APGAR5 suman un total de : 190\n",
            "Los valores faltantes en No. De Embarazos suman un total de : 1\n"
          ]
        }
      ]
    },
    {
      "cell_type": "code",
      "source": [
        "atipicos = (df_desc['Talla'] > 90) | \\\n",
        "  (df_desc['Tiempo Gestación'] > 90) | \\\n",
        "  (df_desc['Número Consultas Prenatales'] > 90) | \\\n",
        "  ((df_desc['APGAR1'] > 90)|(df_desc['APGAR1'].isna())) | \\\n",
        "  ((df_desc['APGAR5'] > 90)|(df_desc['APGAR5'].isna())) | \\\n",
        "  (df_desc['Numero Embarazos'] > 90)"
      ],
      "metadata": {
        "id": "7apc4RpJLlD6"
      },
      "execution_count": 11,
      "outputs": []
    },
    {
      "cell_type": "code",
      "source": [
        "df_desc[(df_desc['def'] == 1) & (atipicos)]"
      ],
      "metadata": {
        "colab": {
          "base_uri": "https://localhost:8080/",
          "height": 593
        },
        "id": "ZRYFBNJsK5mL",
        "outputId": "e613d25e-c623-49a7-efeb-bd5400189609"
      },
      "execution_count": 12,
      "outputs": [
        {
          "output_type": "execute_result",
          "data": {
            "text/plain": [
              "          Area Nacimiento           Sitio Parto       Sexo    Peso  Talla  \\\n",
              "1262   CABECERA MUNICIPAL          EL DOMICILIO   FEMENINO  1718.0   40.0   \n",
              "2214   CABECERA MUNICIPAL  INSTITUCIÓN DE SALUD   FEMENINO  2340.0   47.0   \n",
              "8960       RURAL DISPERSO          EL DOMICILIO  MASCULINO  2347.0   52.0   \n",
              "10314      RURAL DISPERSO          EL DOMICILIO  MASCULINO  1320.0   39.0   \n",
              "13585      RURAL DISPERSO          EL DOMICILIO  MASCULINO  1970.0   40.0   \n",
              "15105  CABECERA MUNICIPAL            OTRO SITIO   FEMENINO  1806.0   41.0   \n",
              "16816      RURAL DISPERSO          EL DOMICILIO  MASCULINO  2300.0   46.0   \n",
              "\n",
              "      Fecha Nacimiento Parto Atendido Por  Tiempo Gestación  \\\n",
              "1262        2011-08-24       OTRA PERSONA              40.0   \n",
              "2214        2012-02-20             MÉDICO              38.0   \n",
              "8960        2016-01-24            PARTERA              38.0   \n",
              "10314       2016-11-25            PARTERA              37.0   \n",
              "13585       2018-12-04            PARTERA              38.0   \n",
              "15105       2020-01-03       OTRA PERSONA              37.0   \n",
              "16816       2021-01-13            PARTERA              38.0   \n",
              "\n",
              "       Número Consultas Prenatales  Tipo Parto  ...  \\\n",
              "1262                           3.0  ESPONTÁNEO  ...   \n",
              "2214                          99.0     CESÁREA  ...   \n",
              "8960                           6.0  ESPONTÁNEO  ...   \n",
              "10314                          1.0  ESPONTÁNEO  ...   \n",
              "13585                          2.0  ESPONTÁNEO  ...   \n",
              "15105                          8.0  ESPONTÁNEO  ...   \n",
              "16816                          2.0  ESPONTÁNEO  ...   \n",
              "\n",
              "                                   Estado Conyugal Madre  \\\n",
              "1262                                   ESTABA SOLTERO(A)   \n",
              "2214                                    ESTABA CASADO(A)   \n",
              "8960                                    ESTABA CASADO(A)   \n",
              "10314  NO ESTABA CASADO(A) Y LLEVABA MENOS DE DOS AÑO...   \n",
              "13585                                  ESTABA SOLTERO(A)   \n",
              "15105  NO ESTABA CASADO(A) Y LLEVABA DOS AÑOS O MÁS V...   \n",
              "16816                                   ESTABA CASADO(A)   \n",
              "\n",
              "       Último Año Estudios Madre  Municipio Residencia     Área Residencia  \\\n",
              "1262           BÁSICA SECUNDARIA               PRADERA  CABECERA MUNICIPAL   \n",
              "2214   MEDIA ACADÉMICA O CLÁSICA                 TULUA  CABECERA MUNICIPAL   \n",
              "8960             BÁSICA PRIMARIA               BOLIVAR      RURAL DISPERSO   \n",
              "10314                    NINGUNO          ANSERMANUEVO      RURAL DISPERSO   \n",
              "13585            BÁSICA PRIMARIA               BOLIVAR      RURAL DISPERSO   \n",
              "15105  MEDIA ACADÉMICA O CLÁSICA                  CALI  CABECERA MUNICIPAL   \n",
              "16816                    NINGUNO              EL DOVIO      RURAL DISPERSO   \n",
              "\n",
              "      Número Hijos Nacidos Vivos Fecha Nacimiento Anterior Hijo  \\\n",
              "1262                         2.0            2010-06-26 00:00:00   \n",
              "2214                         1.0            1900-01-01 00:00:00   \n",
              "8960                         3.0            2010-01-13 00:00:00   \n",
              "10314                        1.0                            NaN   \n",
              "13585                        1.0                            NaN   \n",
              "15105                        2.0                     2008-02-17   \n",
              "16816                        5.0                     17/07/2018   \n",
              "\n",
              "      Numero Embarazos  Régimen Seguridad Social   Año def  \n",
              "1262               2.0                SUBSIDIADO  2011   1  \n",
              "2214               1.0                 EXCEPCIÓN  2012   1  \n",
              "8960               3.0              CONTRIBUTIVO  2016   1  \n",
              "10314              1.0                SUBSIDIADO  2016   1  \n",
              "13585              4.0                SUBSIDIADO  2018   1  \n",
              "15105              3.0              CONTRIBUTIVO  2020   1  \n",
              "16816              5.0                SUBSIDIADO  2021   1  \n",
              "\n",
              "[7 rows x 28 columns]"
            ],
            "text/html": [
              "\n",
              "  <div id=\"df-9b3ebb44-c862-4a3c-a477-188cd64310cf\" class=\"colab-df-container\">\n",
              "    <div>\n",
              "<style scoped>\n",
              "    .dataframe tbody tr th:only-of-type {\n",
              "        vertical-align: middle;\n",
              "    }\n",
              "\n",
              "    .dataframe tbody tr th {\n",
              "        vertical-align: top;\n",
              "    }\n",
              "\n",
              "    .dataframe thead th {\n",
              "        text-align: right;\n",
              "    }\n",
              "</style>\n",
              "<table border=\"1\" class=\"dataframe\">\n",
              "  <thead>\n",
              "    <tr style=\"text-align: right;\">\n",
              "      <th></th>\n",
              "      <th>Area Nacimiento</th>\n",
              "      <th>Sitio Parto</th>\n",
              "      <th>Sexo</th>\n",
              "      <th>Peso</th>\n",
              "      <th>Talla</th>\n",
              "      <th>Fecha Nacimiento</th>\n",
              "      <th>Parto Atendido Por</th>\n",
              "      <th>Tiempo Gestación</th>\n",
              "      <th>Número Consultas Prenatales</th>\n",
              "      <th>Tipo Parto</th>\n",
              "      <th>...</th>\n",
              "      <th>Estado Conyugal Madre</th>\n",
              "      <th>Último Año Estudios Madre</th>\n",
              "      <th>Municipio Residencia</th>\n",
              "      <th>Área Residencia</th>\n",
              "      <th>Número Hijos Nacidos Vivos</th>\n",
              "      <th>Fecha Nacimiento Anterior Hijo</th>\n",
              "      <th>Numero Embarazos</th>\n",
              "      <th>Régimen Seguridad Social</th>\n",
              "      <th>Año</th>\n",
              "      <th>def</th>\n",
              "    </tr>\n",
              "  </thead>\n",
              "  <tbody>\n",
              "    <tr>\n",
              "      <th>1262</th>\n",
              "      <td>CABECERA MUNICIPAL</td>\n",
              "      <td>EL DOMICILIO</td>\n",
              "      <td>FEMENINO</td>\n",
              "      <td>1718.0</td>\n",
              "      <td>40.0</td>\n",
              "      <td>2011-08-24</td>\n",
              "      <td>OTRA PERSONA</td>\n",
              "      <td>40.0</td>\n",
              "      <td>3.0</td>\n",
              "      <td>ESPONTÁNEO</td>\n",
              "      <td>...</td>\n",
              "      <td>ESTABA SOLTERO(A)</td>\n",
              "      <td>BÁSICA SECUNDARIA</td>\n",
              "      <td>PRADERA</td>\n",
              "      <td>CABECERA MUNICIPAL</td>\n",
              "      <td>2.0</td>\n",
              "      <td>2010-06-26 00:00:00</td>\n",
              "      <td>2.0</td>\n",
              "      <td>SUBSIDIADO</td>\n",
              "      <td>2011</td>\n",
              "      <td>1</td>\n",
              "    </tr>\n",
              "    <tr>\n",
              "      <th>2214</th>\n",
              "      <td>CABECERA MUNICIPAL</td>\n",
              "      <td>INSTITUCIÓN DE SALUD</td>\n",
              "      <td>FEMENINO</td>\n",
              "      <td>2340.0</td>\n",
              "      <td>47.0</td>\n",
              "      <td>2012-02-20</td>\n",
              "      <td>MÉDICO</td>\n",
              "      <td>38.0</td>\n",
              "      <td>99.0</td>\n",
              "      <td>CESÁREA</td>\n",
              "      <td>...</td>\n",
              "      <td>ESTABA CASADO(A)</td>\n",
              "      <td>MEDIA ACADÉMICA O CLÁSICA</td>\n",
              "      <td>TULUA</td>\n",
              "      <td>CABECERA MUNICIPAL</td>\n",
              "      <td>1.0</td>\n",
              "      <td>1900-01-01 00:00:00</td>\n",
              "      <td>1.0</td>\n",
              "      <td>EXCEPCIÓN</td>\n",
              "      <td>2012</td>\n",
              "      <td>1</td>\n",
              "    </tr>\n",
              "    <tr>\n",
              "      <th>8960</th>\n",
              "      <td>RURAL DISPERSO</td>\n",
              "      <td>EL DOMICILIO</td>\n",
              "      <td>MASCULINO</td>\n",
              "      <td>2347.0</td>\n",
              "      <td>52.0</td>\n",
              "      <td>2016-01-24</td>\n",
              "      <td>PARTERA</td>\n",
              "      <td>38.0</td>\n",
              "      <td>6.0</td>\n",
              "      <td>ESPONTÁNEO</td>\n",
              "      <td>...</td>\n",
              "      <td>ESTABA CASADO(A)</td>\n",
              "      <td>BÁSICA PRIMARIA</td>\n",
              "      <td>BOLIVAR</td>\n",
              "      <td>RURAL DISPERSO</td>\n",
              "      <td>3.0</td>\n",
              "      <td>2010-01-13 00:00:00</td>\n",
              "      <td>3.0</td>\n",
              "      <td>CONTRIBUTIVO</td>\n",
              "      <td>2016</td>\n",
              "      <td>1</td>\n",
              "    </tr>\n",
              "    <tr>\n",
              "      <th>10314</th>\n",
              "      <td>RURAL DISPERSO</td>\n",
              "      <td>EL DOMICILIO</td>\n",
              "      <td>MASCULINO</td>\n",
              "      <td>1320.0</td>\n",
              "      <td>39.0</td>\n",
              "      <td>2016-11-25</td>\n",
              "      <td>PARTERA</td>\n",
              "      <td>37.0</td>\n",
              "      <td>1.0</td>\n",
              "      <td>ESPONTÁNEO</td>\n",
              "      <td>...</td>\n",
              "      <td>NO ESTABA CASADO(A) Y LLEVABA MENOS DE DOS AÑO...</td>\n",
              "      <td>NINGUNO</td>\n",
              "      <td>ANSERMANUEVO</td>\n",
              "      <td>RURAL DISPERSO</td>\n",
              "      <td>1.0</td>\n",
              "      <td>NaN</td>\n",
              "      <td>1.0</td>\n",
              "      <td>SUBSIDIADO</td>\n",
              "      <td>2016</td>\n",
              "      <td>1</td>\n",
              "    </tr>\n",
              "    <tr>\n",
              "      <th>13585</th>\n",
              "      <td>RURAL DISPERSO</td>\n",
              "      <td>EL DOMICILIO</td>\n",
              "      <td>MASCULINO</td>\n",
              "      <td>1970.0</td>\n",
              "      <td>40.0</td>\n",
              "      <td>2018-12-04</td>\n",
              "      <td>PARTERA</td>\n",
              "      <td>38.0</td>\n",
              "      <td>2.0</td>\n",
              "      <td>ESPONTÁNEO</td>\n",
              "      <td>...</td>\n",
              "      <td>ESTABA SOLTERO(A)</td>\n",
              "      <td>BÁSICA PRIMARIA</td>\n",
              "      <td>BOLIVAR</td>\n",
              "      <td>RURAL DISPERSO</td>\n",
              "      <td>1.0</td>\n",
              "      <td>NaN</td>\n",
              "      <td>4.0</td>\n",
              "      <td>SUBSIDIADO</td>\n",
              "      <td>2018</td>\n",
              "      <td>1</td>\n",
              "    </tr>\n",
              "    <tr>\n",
              "      <th>15105</th>\n",
              "      <td>CABECERA MUNICIPAL</td>\n",
              "      <td>OTRO SITIO</td>\n",
              "      <td>FEMENINO</td>\n",
              "      <td>1806.0</td>\n",
              "      <td>41.0</td>\n",
              "      <td>2020-01-03</td>\n",
              "      <td>OTRA PERSONA</td>\n",
              "      <td>37.0</td>\n",
              "      <td>8.0</td>\n",
              "      <td>ESPONTÁNEO</td>\n",
              "      <td>...</td>\n",
              "      <td>NO ESTABA CASADO(A) Y LLEVABA DOS AÑOS O MÁS V...</td>\n",
              "      <td>MEDIA ACADÉMICA O CLÁSICA</td>\n",
              "      <td>CALI</td>\n",
              "      <td>CABECERA MUNICIPAL</td>\n",
              "      <td>2.0</td>\n",
              "      <td>2008-02-17</td>\n",
              "      <td>3.0</td>\n",
              "      <td>CONTRIBUTIVO</td>\n",
              "      <td>2020</td>\n",
              "      <td>1</td>\n",
              "    </tr>\n",
              "    <tr>\n",
              "      <th>16816</th>\n",
              "      <td>RURAL DISPERSO</td>\n",
              "      <td>EL DOMICILIO</td>\n",
              "      <td>MASCULINO</td>\n",
              "      <td>2300.0</td>\n",
              "      <td>46.0</td>\n",
              "      <td>2021-01-13</td>\n",
              "      <td>PARTERA</td>\n",
              "      <td>38.0</td>\n",
              "      <td>2.0</td>\n",
              "      <td>ESPONTÁNEO</td>\n",
              "      <td>...</td>\n",
              "      <td>ESTABA CASADO(A)</td>\n",
              "      <td>NINGUNO</td>\n",
              "      <td>EL DOVIO</td>\n",
              "      <td>RURAL DISPERSO</td>\n",
              "      <td>5.0</td>\n",
              "      <td>17/07/2018</td>\n",
              "      <td>5.0</td>\n",
              "      <td>SUBSIDIADO</td>\n",
              "      <td>2021</td>\n",
              "      <td>1</td>\n",
              "    </tr>\n",
              "  </tbody>\n",
              "</table>\n",
              "<p>7 rows × 28 columns</p>\n",
              "</div>\n",
              "    <div class=\"colab-df-buttons\">\n",
              "\n",
              "  <div class=\"colab-df-container\">\n",
              "    <button class=\"colab-df-convert\" onclick=\"convertToInteractive('df-9b3ebb44-c862-4a3c-a477-188cd64310cf')\"\n",
              "            title=\"Convert this dataframe to an interactive table.\"\n",
              "            style=\"display:none;\">\n",
              "\n",
              "  <svg xmlns=\"http://www.w3.org/2000/svg\" height=\"24px\" viewBox=\"0 -960 960 960\">\n",
              "    <path d=\"M120-120v-720h720v720H120Zm60-500h600v-160H180v160Zm220 220h160v-160H400v160Zm0 220h160v-160H400v160ZM180-400h160v-160H180v160Zm440 0h160v-160H620v160ZM180-180h160v-160H180v160Zm440 0h160v-160H620v160Z\"/>\n",
              "  </svg>\n",
              "    </button>\n",
              "\n",
              "  <style>\n",
              "    .colab-df-container {\n",
              "      display:flex;\n",
              "      gap: 12px;\n",
              "    }\n",
              "\n",
              "    .colab-df-convert {\n",
              "      background-color: #E8F0FE;\n",
              "      border: none;\n",
              "      border-radius: 50%;\n",
              "      cursor: pointer;\n",
              "      display: none;\n",
              "      fill: #1967D2;\n",
              "      height: 32px;\n",
              "      padding: 0 0 0 0;\n",
              "      width: 32px;\n",
              "    }\n",
              "\n",
              "    .colab-df-convert:hover {\n",
              "      background-color: #E2EBFA;\n",
              "      box-shadow: 0px 1px 2px rgba(60, 64, 67, 0.3), 0px 1px 3px 1px rgba(60, 64, 67, 0.15);\n",
              "      fill: #174EA6;\n",
              "    }\n",
              "\n",
              "    .colab-df-buttons div {\n",
              "      margin-bottom: 4px;\n",
              "    }\n",
              "\n",
              "    [theme=dark] .colab-df-convert {\n",
              "      background-color: #3B4455;\n",
              "      fill: #D2E3FC;\n",
              "    }\n",
              "\n",
              "    [theme=dark] .colab-df-convert:hover {\n",
              "      background-color: #434B5C;\n",
              "      box-shadow: 0px 1px 3px 1px rgba(0, 0, 0, 0.15);\n",
              "      filter: drop-shadow(0px 1px 2px rgba(0, 0, 0, 0.3));\n",
              "      fill: #FFFFFF;\n",
              "    }\n",
              "  </style>\n",
              "\n",
              "    <script>\n",
              "      const buttonEl =\n",
              "        document.querySelector('#df-9b3ebb44-c862-4a3c-a477-188cd64310cf button.colab-df-convert');\n",
              "      buttonEl.style.display =\n",
              "        google.colab.kernel.accessAllowed ? 'block' : 'none';\n",
              "\n",
              "      async function convertToInteractive(key) {\n",
              "        const element = document.querySelector('#df-9b3ebb44-c862-4a3c-a477-188cd64310cf');\n",
              "        const dataTable =\n",
              "          await google.colab.kernel.invokeFunction('convertToInteractive',\n",
              "                                                    [key], {});\n",
              "        if (!dataTable) return;\n",
              "\n",
              "        const docLinkHtml = 'Like what you see? Visit the ' +\n",
              "          '<a target=\"_blank\" href=https://colab.research.google.com/notebooks/data_table.ipynb>data table notebook</a>'\n",
              "          + ' to learn more about interactive tables.';\n",
              "        element.innerHTML = '';\n",
              "        dataTable['output_type'] = 'display_data';\n",
              "        await google.colab.output.renderOutput(dataTable, element);\n",
              "        const docLink = document.createElement('div');\n",
              "        docLink.innerHTML = docLinkHtml;\n",
              "        element.appendChild(docLink);\n",
              "      }\n",
              "    </script>\n",
              "  </div>\n",
              "\n",
              "\n",
              "<div id=\"df-82ada035-c3ab-4264-ae77-caa9d2ca909a\">\n",
              "  <button class=\"colab-df-quickchart\" onclick=\"quickchart('df-82ada035-c3ab-4264-ae77-caa9d2ca909a')\"\n",
              "            title=\"Suggest charts\"\n",
              "            style=\"display:none;\">\n",
              "\n",
              "<svg xmlns=\"http://www.w3.org/2000/svg\" height=\"24px\"viewBox=\"0 0 24 24\"\n",
              "     width=\"24px\">\n",
              "    <g>\n",
              "        <path d=\"M19 3H5c-1.1 0-2 .9-2 2v14c0 1.1.9 2 2 2h14c1.1 0 2-.9 2-2V5c0-1.1-.9-2-2-2zM9 17H7v-7h2v7zm4 0h-2V7h2v10zm4 0h-2v-4h2v4z\"/>\n",
              "    </g>\n",
              "</svg>\n",
              "  </button>\n",
              "\n",
              "<style>\n",
              "  .colab-df-quickchart {\n",
              "      --bg-color: #E8F0FE;\n",
              "      --fill-color: #1967D2;\n",
              "      --hover-bg-color: #E2EBFA;\n",
              "      --hover-fill-color: #174EA6;\n",
              "      --disabled-fill-color: #AAA;\n",
              "      --disabled-bg-color: #DDD;\n",
              "  }\n",
              "\n",
              "  [theme=dark] .colab-df-quickchart {\n",
              "      --bg-color: #3B4455;\n",
              "      --fill-color: #D2E3FC;\n",
              "      --hover-bg-color: #434B5C;\n",
              "      --hover-fill-color: #FFFFFF;\n",
              "      --disabled-bg-color: #3B4455;\n",
              "      --disabled-fill-color: #666;\n",
              "  }\n",
              "\n",
              "  .colab-df-quickchart {\n",
              "    background-color: var(--bg-color);\n",
              "    border: none;\n",
              "    border-radius: 50%;\n",
              "    cursor: pointer;\n",
              "    display: none;\n",
              "    fill: var(--fill-color);\n",
              "    height: 32px;\n",
              "    padding: 0;\n",
              "    width: 32px;\n",
              "  }\n",
              "\n",
              "  .colab-df-quickchart:hover {\n",
              "    background-color: var(--hover-bg-color);\n",
              "    box-shadow: 0 1px 2px rgba(60, 64, 67, 0.3), 0 1px 3px 1px rgba(60, 64, 67, 0.15);\n",
              "    fill: var(--button-hover-fill-color);\n",
              "  }\n",
              "\n",
              "  .colab-df-quickchart-complete:disabled,\n",
              "  .colab-df-quickchart-complete:disabled:hover {\n",
              "    background-color: var(--disabled-bg-color);\n",
              "    fill: var(--disabled-fill-color);\n",
              "    box-shadow: none;\n",
              "  }\n",
              "\n",
              "  .colab-df-spinner {\n",
              "    border: 2px solid var(--fill-color);\n",
              "    border-color: transparent;\n",
              "    border-bottom-color: var(--fill-color);\n",
              "    animation:\n",
              "      spin 1s steps(1) infinite;\n",
              "  }\n",
              "\n",
              "  @keyframes spin {\n",
              "    0% {\n",
              "      border-color: transparent;\n",
              "      border-bottom-color: var(--fill-color);\n",
              "      border-left-color: var(--fill-color);\n",
              "    }\n",
              "    20% {\n",
              "      border-color: transparent;\n",
              "      border-left-color: var(--fill-color);\n",
              "      border-top-color: var(--fill-color);\n",
              "    }\n",
              "    30% {\n",
              "      border-color: transparent;\n",
              "      border-left-color: var(--fill-color);\n",
              "      border-top-color: var(--fill-color);\n",
              "      border-right-color: var(--fill-color);\n",
              "    }\n",
              "    40% {\n",
              "      border-color: transparent;\n",
              "      border-right-color: var(--fill-color);\n",
              "      border-top-color: var(--fill-color);\n",
              "    }\n",
              "    60% {\n",
              "      border-color: transparent;\n",
              "      border-right-color: var(--fill-color);\n",
              "    }\n",
              "    80% {\n",
              "      border-color: transparent;\n",
              "      border-right-color: var(--fill-color);\n",
              "      border-bottom-color: var(--fill-color);\n",
              "    }\n",
              "    90% {\n",
              "      border-color: transparent;\n",
              "      border-bottom-color: var(--fill-color);\n",
              "    }\n",
              "  }\n",
              "</style>\n",
              "\n",
              "  <script>\n",
              "    async function quickchart(key) {\n",
              "      const quickchartButtonEl =\n",
              "        document.querySelector('#' + key + ' button');\n",
              "      quickchartButtonEl.disabled = true;  // To prevent multiple clicks.\n",
              "      quickchartButtonEl.classList.add('colab-df-spinner');\n",
              "      try {\n",
              "        const charts = await google.colab.kernel.invokeFunction(\n",
              "            'suggestCharts', [key], {});\n",
              "      } catch (error) {\n",
              "        console.error('Error during call to suggestCharts:', error);\n",
              "      }\n",
              "      quickchartButtonEl.classList.remove('colab-df-spinner');\n",
              "      quickchartButtonEl.classList.add('colab-df-quickchart-complete');\n",
              "    }\n",
              "    (() => {\n",
              "      let quickchartButtonEl =\n",
              "        document.querySelector('#df-82ada035-c3ab-4264-ae77-caa9d2ca909a button');\n",
              "      quickchartButtonEl.style.display =\n",
              "        google.colab.kernel.accessAllowed ? 'block' : 'none';\n",
              "    })();\n",
              "  </script>\n",
              "</div>\n",
              "\n",
              "    </div>\n",
              "  </div>\n"
            ]
          },
          "metadata": {},
          "execution_count": 12
        }
      ]
    },
    {
      "cell_type": "markdown",
      "source": [
        "La tabla anterior registró los registros de nacidos vivos que murieron, y que tenían en alguna caracteristica datos atípicos encontrados. Se halla que 4 de los 5 registros tenían datos faltantes habían sido atendidos por parteras, que fueron NV con pertenencia etnica indigena y los datos faltantes eran ambas mediciones de APGAR. El registro restante pertenece a una nacida viva con pertenecencia étnica Negra y el dato que faltaba fue el número de consultas prenatales."
      ],
      "metadata": {
        "id": "cB-a4-kOMYOH"
      }
    },
    {
      "cell_type": "markdown",
      "source": [
        "Como propuesta de imputación en los datos numéricos, se generó un data set que guarda la mediana de la población que murio y que no murio, y se calculo su respectiva mediana en la variable respectiva, con base en los datos completos."
      ],
      "metadata": {
        "id": "3722dbAXwBcC"
      }
    },
    {
      "cell_type": "code",
      "source": [
        "# Columnas para las cuales quieres calcular la mediana\n",
        "columnas = ['Tiempo Gestación', 'Talla', 'Número Consultas Prenatales', 'APGAR1', 'APGAR5', 'Numero Embarazos']\n",
        "\n",
        "# Valores únicos en la columna 'def' para los cuales calcularás las medianas\n",
        "valores_def = df_desc['def'].unique()\n",
        "\n",
        "# Lista para almacenar los resultados\n",
        "resultados = []\n",
        "\n",
        "# Calcular la mediana para cada combinación de columna y valor de 'def'\n",
        "for columna in columnas:\n",
        "    for valor in valores_def:\n",
        "        mediana = df_desc.loc[df_desc['def'] == valor, columna].median()\n",
        "        resultados.append({'Columna': columna, 'Valor_def': valor, 'Mediana': mediana})\n",
        "\n",
        "# Crear un DataFrame a partir de los resultados\n",
        "df_medianas = pd.DataFrame(resultados)\n",
        "\n",
        "# Mostrar el DataFrame\n",
        "print(df_medianas)\n"
      ],
      "metadata": {
        "colab": {
          "base_uri": "https://localhost:8080/"
        },
        "id": "9oHQ86yCb5NC",
        "outputId": "a0edcad0-59a6-40cd-da0f-cf0d3a22cd44"
      },
      "execution_count": 13,
      "outputs": [
        {
          "output_type": "stream",
          "name": "stdout",
          "text": [
            "                        Columna  Valor_def  Mediana\n",
            "0              Tiempo Gestación          0     38.0\n",
            "1              Tiempo Gestación          1     38.0\n",
            "2                         Talla          0     47.0\n",
            "3                         Talla          1     46.0\n",
            "4   Número Consultas Prenatales          0      7.0\n",
            "5   Número Consultas Prenatales          1      6.0\n",
            "6                        APGAR1          0      9.0\n",
            "7                        APGAR1          1      7.0\n",
            "8                        APGAR5          0     10.0\n",
            "9                        APGAR5          1      8.0\n",
            "10             Numero Embarazos          0      1.0\n",
            "11             Numero Embarazos          1      2.0\n"
          ]
        }
      ]
    },
    {
      "cell_type": "code",
      "source": [
        "df_desc.loc[(df_desc['Tiempo Gestación'] > 90) & (df_desc['def'] == 0), 'Tiempo Gestación'] = df_medianas.iloc[0,2]\n",
        "df_desc.loc[(df_desc['Tiempo Gestación'] > 90) & (df_desc['def'] == 1), 'Tiempo Gestación'] = df_medianas.iloc[1,2]\n",
        "df_desc.loc[(df_desc['Talla'] > 90) & (df_desc['def'] == 0), 'Talla'] = df_medianas.iloc[2,2]\n",
        "df_desc.loc[(df_desc['Talla'] > 90) & (df_desc['def'] == 1), 'Talla'] = df_medianas.iloc[3,2]\n",
        "df_desc.loc[(df_desc['Número Consultas Prenatales'] > 90) & (df_desc['def'] == 0), 'Número Consultas Prenatales'] = df_medianas.iloc[4,2]\n",
        "df_desc.loc[(df_desc['Número Consultas Prenatales'] > 90) & (df_desc['def'] == 1), 'Número Consultas Prenatales'] = df_medianas.iloc[5,2]\n",
        "df_desc.loc[(df_desc['APGAR1'] > 90) & (df_desc['def'] == 0), 'APGAR1'] = df_medianas.iloc[6,2]\n",
        "df_desc.loc[((df_desc['APGAR1'] > 90)|(df_desc['APGAR1'].isna())) & (df_desc['def'] == 1), 'APGAR1' ] = df_medianas.iloc[7,2]\n",
        "df_desc.loc[(df_desc['APGAR5'] > 90) & (df_desc['def'] == 0), 'APGAR5'] = df_medianas.iloc[8,2]\n",
        "df_desc.loc[((df_desc['APGAR5'] > 90)|(df_desc['APGAR5'].isna())) & (df_desc['def'] == 1), 'APGAR5'] = df_medianas.iloc[9,2]\n",
        "df_desc.loc[(df_desc['Numero Embarazos'] > 90) & (df_desc['def'] == 0), 'Numero Embarazos'] = df_medianas.iloc[10,2]\n",
        "df_desc.loc[(df_desc['Numero Embarazos'] > 90) & (df_desc['def'] == 1), 'Numero Embarazos'] = df_medianas.iloc[11,2]\n"
      ],
      "metadata": {
        "id": "bMKG-GWjXofJ"
      },
      "execution_count": 18,
      "outputs": []
    },
    {
      "cell_type": "code",
      "source": [
        "df_desc[df_desc['def']==1].isna().sum()"
      ],
      "metadata": {
        "colab": {
          "base_uri": "https://localhost:8080/"
        },
        "id": "Nbds5ZPStq8R",
        "outputId": "60bd9f5c-9351-4044-85c2-35de34493d63"
      },
      "execution_count": 19,
      "outputs": [
        {
          "output_type": "execute_result",
          "data": {
            "text/plain": [
              "Area Nacimiento                    0\n",
              "Sitio Parto                        0\n",
              "Sexo                               0\n",
              "Peso                               0\n",
              "Talla                              0\n",
              "Fecha Nacimiento                   0\n",
              "Parto Atendido Por                 0\n",
              "Tiempo Gestación                   0\n",
              "Número Consultas Prenatales        0\n",
              "Tipo Parto                         0\n",
              "Multiplicidad Embarazo             0\n",
              "APGAR1                             0\n",
              "APGAR5                             0\n",
              "Grupo Sanguineo                   10\n",
              "Factor RH                         10\n",
              "Pertenencia Étnica                 0\n",
              "Numero Documento Madre             1\n",
              "Edad Madre                         0\n",
              "Estado Conyugal Madre              0\n",
              "Último Año Estudios Madre          0\n",
              "Municipio Residencia               0\n",
              "Área Residencia                    0\n",
              "Número Hijos Nacidos Vivos         0\n",
              "Fecha Nacimiento Anterior Hijo    98\n",
              "Numero Embarazos                   0\n",
              "Régimen Seguridad Social           0\n",
              "Año                                0\n",
              "def                                0\n",
              "dtype: int64"
            ]
          },
          "metadata": {},
          "execution_count": 19
        }
      ]
    },
    {
      "cell_type": "code",
      "source": [
        "df_numeric = df_desc.select_dtypes(include=[float, int])"
      ],
      "metadata": {
        "id": "VW-PcgD0a4pa"
      },
      "execution_count": 20,
      "outputs": []
    },
    {
      "cell_type": "code",
      "source": [
        "df_numeric.describe().round(2)"
      ],
      "metadata": {
        "colab": {
          "base_uri": "https://localhost:8080/",
          "height": 300
        },
        "id": "c8VM3LAyZZTo",
        "outputId": "07450604-0d8c-4bea-a228-6557068e69db"
      },
      "execution_count": 22,
      "outputs": [
        {
          "output_type": "execute_result",
          "data": {
            "text/plain": [
              "           Peso     Talla  Tiempo Gestación  Número Consultas Prenatales  \\\n",
              "count  19407.00  19407.00          19407.00                     19406.00   \n",
              "mean    2292.28     46.76             37.82                         6.35   \n",
              "std      192.78      2.45              0.99                         2.50   \n",
              "min      300.00     21.00             37.00                         0.00   \n",
              "25%     2205.50     45.00             37.00                         5.00   \n",
              "50%     2345.00     47.00             38.00                         7.00   \n",
              "75%     2425.00     48.00             38.00                         8.00   \n",
              "max     2499.00     58.00             43.00                        20.00   \n",
              "\n",
              "         APGAR1    APGAR5  Edad Madre  Número Hijos Nacidos Vivos  \\\n",
              "count  19309.00  19309.00    19407.00                    19407.00   \n",
              "mean       8.47      9.57       25.19                        1.69   \n",
              "std        1.04      0.81        6.75                        1.06   \n",
              "min        1.00      1.00       12.00                        1.00   \n",
              "25%        8.00      9.00       20.00                        1.00   \n",
              "50%        9.00     10.00       24.00                        1.00   \n",
              "75%        9.00     10.00       30.00                        2.00   \n",
              "max       10.00     10.00       54.00                       16.00   \n",
              "\n",
              "       Numero Embarazos  \n",
              "count          19406.00  \n",
              "mean               1.84  \n",
              "std                1.22  \n",
              "min                1.00  \n",
              "25%                1.00  \n",
              "50%                1.00  \n",
              "75%                2.00  \n",
              "max               18.00  "
            ],
            "text/html": [
              "\n",
              "  <div id=\"df-00742b66-a51d-4d99-932c-6a17dff10115\" class=\"colab-df-container\">\n",
              "    <div>\n",
              "<style scoped>\n",
              "    .dataframe tbody tr th:only-of-type {\n",
              "        vertical-align: middle;\n",
              "    }\n",
              "\n",
              "    .dataframe tbody tr th {\n",
              "        vertical-align: top;\n",
              "    }\n",
              "\n",
              "    .dataframe thead th {\n",
              "        text-align: right;\n",
              "    }\n",
              "</style>\n",
              "<table border=\"1\" class=\"dataframe\">\n",
              "  <thead>\n",
              "    <tr style=\"text-align: right;\">\n",
              "      <th></th>\n",
              "      <th>Peso</th>\n",
              "      <th>Talla</th>\n",
              "      <th>Tiempo Gestación</th>\n",
              "      <th>Número Consultas Prenatales</th>\n",
              "      <th>APGAR1</th>\n",
              "      <th>APGAR5</th>\n",
              "      <th>Edad Madre</th>\n",
              "      <th>Número Hijos Nacidos Vivos</th>\n",
              "      <th>Numero Embarazos</th>\n",
              "    </tr>\n",
              "  </thead>\n",
              "  <tbody>\n",
              "    <tr>\n",
              "      <th>count</th>\n",
              "      <td>19407.00</td>\n",
              "      <td>19407.00</td>\n",
              "      <td>19407.00</td>\n",
              "      <td>19406.00</td>\n",
              "      <td>19309.00</td>\n",
              "      <td>19309.00</td>\n",
              "      <td>19407.00</td>\n",
              "      <td>19407.00</td>\n",
              "      <td>19406.00</td>\n",
              "    </tr>\n",
              "    <tr>\n",
              "      <th>mean</th>\n",
              "      <td>2292.28</td>\n",
              "      <td>46.76</td>\n",
              "      <td>37.82</td>\n",
              "      <td>6.35</td>\n",
              "      <td>8.47</td>\n",
              "      <td>9.57</td>\n",
              "      <td>25.19</td>\n",
              "      <td>1.69</td>\n",
              "      <td>1.84</td>\n",
              "    </tr>\n",
              "    <tr>\n",
              "      <th>std</th>\n",
              "      <td>192.78</td>\n",
              "      <td>2.45</td>\n",
              "      <td>0.99</td>\n",
              "      <td>2.50</td>\n",
              "      <td>1.04</td>\n",
              "      <td>0.81</td>\n",
              "      <td>6.75</td>\n",
              "      <td>1.06</td>\n",
              "      <td>1.22</td>\n",
              "    </tr>\n",
              "    <tr>\n",
              "      <th>min</th>\n",
              "      <td>300.00</td>\n",
              "      <td>21.00</td>\n",
              "      <td>37.00</td>\n",
              "      <td>0.00</td>\n",
              "      <td>1.00</td>\n",
              "      <td>1.00</td>\n",
              "      <td>12.00</td>\n",
              "      <td>1.00</td>\n",
              "      <td>1.00</td>\n",
              "    </tr>\n",
              "    <tr>\n",
              "      <th>25%</th>\n",
              "      <td>2205.50</td>\n",
              "      <td>45.00</td>\n",
              "      <td>37.00</td>\n",
              "      <td>5.00</td>\n",
              "      <td>8.00</td>\n",
              "      <td>9.00</td>\n",
              "      <td>20.00</td>\n",
              "      <td>1.00</td>\n",
              "      <td>1.00</td>\n",
              "    </tr>\n",
              "    <tr>\n",
              "      <th>50%</th>\n",
              "      <td>2345.00</td>\n",
              "      <td>47.00</td>\n",
              "      <td>38.00</td>\n",
              "      <td>7.00</td>\n",
              "      <td>9.00</td>\n",
              "      <td>10.00</td>\n",
              "      <td>24.00</td>\n",
              "      <td>1.00</td>\n",
              "      <td>1.00</td>\n",
              "    </tr>\n",
              "    <tr>\n",
              "      <th>75%</th>\n",
              "      <td>2425.00</td>\n",
              "      <td>48.00</td>\n",
              "      <td>38.00</td>\n",
              "      <td>8.00</td>\n",
              "      <td>9.00</td>\n",
              "      <td>10.00</td>\n",
              "      <td>30.00</td>\n",
              "      <td>2.00</td>\n",
              "      <td>2.00</td>\n",
              "    </tr>\n",
              "    <tr>\n",
              "      <th>max</th>\n",
              "      <td>2499.00</td>\n",
              "      <td>58.00</td>\n",
              "      <td>43.00</td>\n",
              "      <td>20.00</td>\n",
              "      <td>10.00</td>\n",
              "      <td>10.00</td>\n",
              "      <td>54.00</td>\n",
              "      <td>16.00</td>\n",
              "      <td>18.00</td>\n",
              "    </tr>\n",
              "  </tbody>\n",
              "</table>\n",
              "</div>\n",
              "    <div class=\"colab-df-buttons\">\n",
              "\n",
              "  <div class=\"colab-df-container\">\n",
              "    <button class=\"colab-df-convert\" onclick=\"convertToInteractive('df-00742b66-a51d-4d99-932c-6a17dff10115')\"\n",
              "            title=\"Convert this dataframe to an interactive table.\"\n",
              "            style=\"display:none;\">\n",
              "\n",
              "  <svg xmlns=\"http://www.w3.org/2000/svg\" height=\"24px\" viewBox=\"0 -960 960 960\">\n",
              "    <path d=\"M120-120v-720h720v720H120Zm60-500h600v-160H180v160Zm220 220h160v-160H400v160Zm0 220h160v-160H400v160ZM180-400h160v-160H180v160Zm440 0h160v-160H620v160ZM180-180h160v-160H180v160Zm440 0h160v-160H620v160Z\"/>\n",
              "  </svg>\n",
              "    </button>\n",
              "\n",
              "  <style>\n",
              "    .colab-df-container {\n",
              "      display:flex;\n",
              "      gap: 12px;\n",
              "    }\n",
              "\n",
              "    .colab-df-convert {\n",
              "      background-color: #E8F0FE;\n",
              "      border: none;\n",
              "      border-radius: 50%;\n",
              "      cursor: pointer;\n",
              "      display: none;\n",
              "      fill: #1967D2;\n",
              "      height: 32px;\n",
              "      padding: 0 0 0 0;\n",
              "      width: 32px;\n",
              "    }\n",
              "\n",
              "    .colab-df-convert:hover {\n",
              "      background-color: #E2EBFA;\n",
              "      box-shadow: 0px 1px 2px rgba(60, 64, 67, 0.3), 0px 1px 3px 1px rgba(60, 64, 67, 0.15);\n",
              "      fill: #174EA6;\n",
              "    }\n",
              "\n",
              "    .colab-df-buttons div {\n",
              "      margin-bottom: 4px;\n",
              "    }\n",
              "\n",
              "    [theme=dark] .colab-df-convert {\n",
              "      background-color: #3B4455;\n",
              "      fill: #D2E3FC;\n",
              "    }\n",
              "\n",
              "    [theme=dark] .colab-df-convert:hover {\n",
              "      background-color: #434B5C;\n",
              "      box-shadow: 0px 1px 3px 1px rgba(0, 0, 0, 0.15);\n",
              "      filter: drop-shadow(0px 1px 2px rgba(0, 0, 0, 0.3));\n",
              "      fill: #FFFFFF;\n",
              "    }\n",
              "  </style>\n",
              "\n",
              "    <script>\n",
              "      const buttonEl =\n",
              "        document.querySelector('#df-00742b66-a51d-4d99-932c-6a17dff10115 button.colab-df-convert');\n",
              "      buttonEl.style.display =\n",
              "        google.colab.kernel.accessAllowed ? 'block' : 'none';\n",
              "\n",
              "      async function convertToInteractive(key) {\n",
              "        const element = document.querySelector('#df-00742b66-a51d-4d99-932c-6a17dff10115');\n",
              "        const dataTable =\n",
              "          await google.colab.kernel.invokeFunction('convertToInteractive',\n",
              "                                                    [key], {});\n",
              "        if (!dataTable) return;\n",
              "\n",
              "        const docLinkHtml = 'Like what you see? Visit the ' +\n",
              "          '<a target=\"_blank\" href=https://colab.research.google.com/notebooks/data_table.ipynb>data table notebook</a>'\n",
              "          + ' to learn more about interactive tables.';\n",
              "        element.innerHTML = '';\n",
              "        dataTable['output_type'] = 'display_data';\n",
              "        await google.colab.output.renderOutput(dataTable, element);\n",
              "        const docLink = document.createElement('div');\n",
              "        docLink.innerHTML = docLinkHtml;\n",
              "        element.appendChild(docLink);\n",
              "      }\n",
              "    </script>\n",
              "  </div>\n",
              "\n",
              "\n",
              "<div id=\"df-9af702c0-2d69-4862-8e31-1c3b62f23c52\">\n",
              "  <button class=\"colab-df-quickchart\" onclick=\"quickchart('df-9af702c0-2d69-4862-8e31-1c3b62f23c52')\"\n",
              "            title=\"Suggest charts\"\n",
              "            style=\"display:none;\">\n",
              "\n",
              "<svg xmlns=\"http://www.w3.org/2000/svg\" height=\"24px\"viewBox=\"0 0 24 24\"\n",
              "     width=\"24px\">\n",
              "    <g>\n",
              "        <path d=\"M19 3H5c-1.1 0-2 .9-2 2v14c0 1.1.9 2 2 2h14c1.1 0 2-.9 2-2V5c0-1.1-.9-2-2-2zM9 17H7v-7h2v7zm4 0h-2V7h2v10zm4 0h-2v-4h2v4z\"/>\n",
              "    </g>\n",
              "</svg>\n",
              "  </button>\n",
              "\n",
              "<style>\n",
              "  .colab-df-quickchart {\n",
              "      --bg-color: #E8F0FE;\n",
              "      --fill-color: #1967D2;\n",
              "      --hover-bg-color: #E2EBFA;\n",
              "      --hover-fill-color: #174EA6;\n",
              "      --disabled-fill-color: #AAA;\n",
              "      --disabled-bg-color: #DDD;\n",
              "  }\n",
              "\n",
              "  [theme=dark] .colab-df-quickchart {\n",
              "      --bg-color: #3B4455;\n",
              "      --fill-color: #D2E3FC;\n",
              "      --hover-bg-color: #434B5C;\n",
              "      --hover-fill-color: #FFFFFF;\n",
              "      --disabled-bg-color: #3B4455;\n",
              "      --disabled-fill-color: #666;\n",
              "  }\n",
              "\n",
              "  .colab-df-quickchart {\n",
              "    background-color: var(--bg-color);\n",
              "    border: none;\n",
              "    border-radius: 50%;\n",
              "    cursor: pointer;\n",
              "    display: none;\n",
              "    fill: var(--fill-color);\n",
              "    height: 32px;\n",
              "    padding: 0;\n",
              "    width: 32px;\n",
              "  }\n",
              "\n",
              "  .colab-df-quickchart:hover {\n",
              "    background-color: var(--hover-bg-color);\n",
              "    box-shadow: 0 1px 2px rgba(60, 64, 67, 0.3), 0 1px 3px 1px rgba(60, 64, 67, 0.15);\n",
              "    fill: var(--button-hover-fill-color);\n",
              "  }\n",
              "\n",
              "  .colab-df-quickchart-complete:disabled,\n",
              "  .colab-df-quickchart-complete:disabled:hover {\n",
              "    background-color: var(--disabled-bg-color);\n",
              "    fill: var(--disabled-fill-color);\n",
              "    box-shadow: none;\n",
              "  }\n",
              "\n",
              "  .colab-df-spinner {\n",
              "    border: 2px solid var(--fill-color);\n",
              "    border-color: transparent;\n",
              "    border-bottom-color: var(--fill-color);\n",
              "    animation:\n",
              "      spin 1s steps(1) infinite;\n",
              "  }\n",
              "\n",
              "  @keyframes spin {\n",
              "    0% {\n",
              "      border-color: transparent;\n",
              "      border-bottom-color: var(--fill-color);\n",
              "      border-left-color: var(--fill-color);\n",
              "    }\n",
              "    20% {\n",
              "      border-color: transparent;\n",
              "      border-left-color: var(--fill-color);\n",
              "      border-top-color: var(--fill-color);\n",
              "    }\n",
              "    30% {\n",
              "      border-color: transparent;\n",
              "      border-left-color: var(--fill-color);\n",
              "      border-top-color: var(--fill-color);\n",
              "      border-right-color: var(--fill-color);\n",
              "    }\n",
              "    40% {\n",
              "      border-color: transparent;\n",
              "      border-right-color: var(--fill-color);\n",
              "      border-top-color: var(--fill-color);\n",
              "    }\n",
              "    60% {\n",
              "      border-color: transparent;\n",
              "      border-right-color: var(--fill-color);\n",
              "    }\n",
              "    80% {\n",
              "      border-color: transparent;\n",
              "      border-right-color: var(--fill-color);\n",
              "      border-bottom-color: var(--fill-color);\n",
              "    }\n",
              "    90% {\n",
              "      border-color: transparent;\n",
              "      border-bottom-color: var(--fill-color);\n",
              "    }\n",
              "  }\n",
              "</style>\n",
              "\n",
              "  <script>\n",
              "    async function quickchart(key) {\n",
              "      const quickchartButtonEl =\n",
              "        document.querySelector('#' + key + ' button');\n",
              "      quickchartButtonEl.disabled = true;  // To prevent multiple clicks.\n",
              "      quickchartButtonEl.classList.add('colab-df-spinner');\n",
              "      try {\n",
              "        const charts = await google.colab.kernel.invokeFunction(\n",
              "            'suggestCharts', [key], {});\n",
              "      } catch (error) {\n",
              "        console.error('Error during call to suggestCharts:', error);\n",
              "      }\n",
              "      quickchartButtonEl.classList.remove('colab-df-spinner');\n",
              "      quickchartButtonEl.classList.add('colab-df-quickchart-complete');\n",
              "    }\n",
              "    (() => {\n",
              "      let quickchartButtonEl =\n",
              "        document.querySelector('#df-9af702c0-2d69-4862-8e31-1c3b62f23c52 button');\n",
              "      quickchartButtonEl.style.display =\n",
              "        google.colab.kernel.accessAllowed ? 'block' : 'none';\n",
              "    })();\n",
              "  </script>\n",
              "</div>\n",
              "\n",
              "    </div>\n",
              "  </div>\n"
            ]
          },
          "metadata": {},
          "execution_count": 22
        }
      ]
    },
    {
      "cell_type": "code",
      "source": [
        "import matplotlib.pyplot as plt\n",
        "import seaborn as sns\n",
        "import pandas as pd\n",
        "\n",
        "# Asegúrate de que 'def' está en df_numeric para el gráfico\n",
        "df_numeric['def'] = df_desc['def']\n",
        "\n",
        "# Lista de columnas numéricas\n",
        "columnas_numericas = df_numeric.columns.drop('def')\n",
        "\n",
        "# Configurar el estilo de Seaborn para un look más profesional\n",
        "sns.set(style=\"whitegrid\")\n",
        "\n",
        "# Configurar tamaño del gráfico\n",
        "plt.figure(figsize=(15, 15))\n",
        "\n",
        "# Crear un boxplot para cada columna numérica\n",
        "for i, columna in enumerate(columnas_numericas, 1):\n",
        "    plt.subplot(3, 3, i)  # Ajustar según la cantidad de columnas numéricas\n",
        "    sns.boxplot(x='def', y=columna, data=df_numeric, palette=\"Set2\")\n",
        "\n",
        "    # Ajustar título y etiquetas para cada gráfico\n",
        "    plt.title(f'{columna} vs Defunción', fontsize=14)\n",
        "    plt.xlabel('def (0: Vive, 1: Muere)', fontsize=12)\n",
        "    plt.ylabel(columna, fontsize=12)\n",
        "\n",
        "# Ajustar el layout y mostrar el gráfico\n",
        "plt.tight_layout()\n",
        "plt.show()\n"
      ],
      "metadata": {
        "id": "BUpEVs1T5-S7",
        "colab": {
          "base_uri": "https://localhost:8080/",
          "height": 1000
        },
        "outputId": "460df207-b06c-4a6c-e688-4d0ee067e4b2"
      },
      "execution_count": 23,
      "outputs": [
        {
          "output_type": "display_data",
          "data": {
            "text/plain": [
              "<Figure size 1500x1500 with 9 Axes>"
            ],
            "image/png": "[encoded data removed]"
          },
          "metadata": {}
        }
      ]
    },
    {
      "cell_type": "code",
      "source": [
        "# Columnas para las cuales quieres calcular la mediana\n",
        "columnas = ['Tiempo Gestación', 'Talla', 'Número Consultas Prenatales', 'APGAR1', 'APGAR5', 'Numero Embarazos']\n",
        "\n",
        "# Valores únicos en la columna 'def' para los cuales calcularás las medianas\n",
        "valores_def = df_numeric['def'].unique()\n",
        "\n",
        "# Lista para almacenar los resultados\n",
        "resultados_desc = []\n",
        "\n",
        "# Calcular la mediana para cada combinación de columna y valor de 'def'\n",
        "for columna in columnas:\n",
        "    for valor in valores_def:\n",
        "        mediana = df_numeric.loc[df_numeric['def'] == valor, columna].median()\n",
        "        min =  df_numeric.loc[df_numeric['def'] == valor, columna].min()\n",
        "        max = df_numeric.loc[df_numeric['def'] == valor, columna].max()\n",
        "        desv = df_numeric.loc[df_numeric['def'] == valor, columna].std()\n",
        "\n",
        "        resultados_desc.append({'Columna': columna, 'Valor_def': valor, 'Min': min, 'Max': max, 'Mediana': mediana, 'Desv.':desv})\n",
        "\n",
        "# Crear un DataFrame a partir de los resultados\n",
        "df_desc2 = pd.DataFrame(resultados_desc)\n",
        "\n",
        "# Mostrar el DataFrame\n",
        "print(df_desc2)\n"
      ],
      "metadata": {
        "colab": {
          "base_uri": "https://localhost:8080/"
        },
        "id": "z2WM8aiofl0z",
        "outputId": "2982e142-1d29-4452-a184-5bf9fd69c5eb"
      },
      "execution_count": 26,
      "outputs": [
        {
          "output_type": "stream",
          "name": "stdout",
          "text": [
            "                        Columna  Valor_def   Min   Max  Mediana     Desv.\n",
            "0              Tiempo Gestación          0  37.0  43.0     38.0  0.994228\n",
            "1              Tiempo Gestación          1  37.0  43.0     38.0  1.039869\n",
            "2                         Talla          0  21.0  58.0     47.0  2.435783\n",
            "3                         Talla          1  35.0  54.0     46.0  3.202536\n",
            "4   Número Consultas Prenatales          0   0.0  20.0      7.0  2.497709\n",
            "5   Número Consultas Prenatales          1   0.0  15.0      6.0  2.459706\n",
            "6                        APGAR1          0   1.0  10.0      9.0  0.969379\n",
            "7                        APGAR1          1   1.0  10.0      7.0  2.489280\n",
            "8                        APGAR5          0   1.0  10.0     10.0  0.719685\n",
            "9                        APGAR5          1   1.0  10.0      8.0  2.519167\n",
            "10             Numero Embarazos          0   1.0  18.0      1.0  1.212554\n",
            "11             Numero Embarazos          1   1.0  13.0      2.0  1.733063\n"
          ]
        }
      ]
    },
    {
      "cell_type": "markdown",
      "source": [
        "### GRAFICOS DE DATOS NUMÉRICOS: CRUCE CON MORTALIDAD"
      ],
      "metadata": {
        "id": "VYXDzGZc4hja"
      }
    },
    {
      "cell_type": "markdown",
      "source": [
        "### Imputación de datos faltantes: CATEGORICOS."
      ],
      "metadata": {
        "id": "L1usKeXrxp0x"
      }
    },
    {
      "cell_type": "code",
      "source": [
        "df_categoric = df_desc.select_dtypes(include=[object, 'category'])"
      ],
      "metadata": {
        "id": "XZ1-xzcbxtEa"
      },
      "execution_count": null,
      "outputs": []
    },
    {
      "cell_type": "code",
      "source": [
        "df_categoric.describe()"
      ],
      "metadata": {
        "colab": {
          "base_uri": "https://localhost:8080/",
          "height": 333
        },
        "id": "a2pX33mUyimi",
        "outputId": "644dfcbb-407e-48b8-9a02-9ae3c1568ef3"
      },
      "execution_count": null,
      "outputs": [
        {
          "output_type": "execute_result",
          "data": {
            "text/plain": [
              "           Area Nacimiento           Sitio Parto      Sexo Fecha Nacimiento  \\\n",
              "count                19407                 19407     19407            19407   \n",
              "unique                   3                     3         3             4263   \n",
              "top     CABECERA MUNICIPAL  INSTITUCIÓN DE SALUD  FEMENINO       2011-09-09   \n",
              "freq                 19277                 19197     11409               16   \n",
              "\n",
              "       Parto Atendido Por  Tipo Parto Multiplicidad Embarazo Grupo Sanguineo  \\\n",
              "count               19407       19407                  19407           19245   \n",
              "unique                  6           4                      3               5   \n",
              "top                MÉDICO  ESPONTÁNEO                 SIMPLE               O   \n",
              "freq                19193       10787                  17794           12086   \n",
              "\n",
              "       Factor RH         Pertenencia Étnica  Numero Documento Madre  \\\n",
              "count      19244                      19407            1.912900e+04   \n",
              "unique         3                          6            1.633100e+04   \n",
              "top     POSITIVO  NINGUNO DE LOS ANTERIORES            1.151944e+09   \n",
              "freq       18124                      15123            5.000000e+00   \n",
              "\n",
              "                                    Estado Conyugal Madre  \\\n",
              "count                                               19407   \n",
              "unique                                                  7   \n",
              "top     NO ESTABA CASADO(A) Y LLEVABA DOS AÑOS O MÁS V...   \n",
              "freq                                                 8943   \n",
              "\n",
              "        Último Año Estudios Madre Municipio Residencia     Área Residencia  \\\n",
              "count                       19407                19407               19407   \n",
              "unique                         14                   53                   4   \n",
              "top     MEDIA ACADÉMICA O CLÁSICA                 CALI  CABECERA MUNICIPAL   \n",
              "freq                         7464                 8995               16518   \n",
              "\n",
              "       Fecha Nacimiento Anterior Hijo Régimen Seguridad Social    Año    def  \n",
              "count                           10289                    19406  19407  19407  \n",
              "unique                           6321                        5     12      2  \n",
              "top               1900-01-01 00:00:00               SUBSIDIADO   2012      0  \n",
              "freq                             2067                     9149   2135  19128  "
            ],
            "text/html": [
              "\n",
              "  <div id=\"df-3c6cad02-cc03-42a4-81d7-f68363dbe53f\" class=\"colab-df-container\">\n",
              "    <div>\n",
              "<style scoped>\n",
              "    .dataframe tbody tr th:only-of-type {\n",
              "        vertical-align: middle;\n",
              "    }\n",
              "\n",
              "    .dataframe tbody tr th {\n",
              "        vertical-align: top;\n",
              "    }\n",
              "\n",
              "    .dataframe thead th {\n",
              "        text-align: right;\n",
              "    }\n",
              "</style>\n",
              "<table border=\"1\" class=\"dataframe\">\n",
              "  <thead>\n",
              "    <tr style=\"text-align: right;\">\n",
              "      <th></th>\n",
              "      <th>Area Nacimiento</th>\n",
              "      <th>Sitio Parto</th>\n",
              "      <th>Sexo</th>\n",
              "      <th>Fecha Nacimiento</th>\n",
              "      <th>Parto Atendido Por</th>\n",
              "      <th>Tipo Parto</th>\n",
              "      <th>Multiplicidad Embarazo</th>\n",
              "      <th>Grupo Sanguineo</th>\n",
              "      <th>Factor RH</th>\n",
              "      <th>Pertenencia Étnica</th>\n",
              "      <th>Numero Documento Madre</th>\n",
              "      <th>Estado Conyugal Madre</th>\n",
              "      <th>Último Año Estudios Madre</th>\n",
              "      <th>Municipio Residencia</th>\n",
              "      <th>Área Residencia</th>\n",
              "      <th>Fecha Nacimiento Anterior Hijo</th>\n",
              "      <th>Régimen Seguridad Social</th>\n",
              "      <th>Año</th>\n",
              "      <th>def</th>\n",
              "    </tr>\n",
              "  </thead>\n",
              "  <tbody>\n",
              "    <tr>\n",
              "      <th>count</th>\n",
              "      <td>19407</td>\n",
              "      <td>19407</td>\n",
              "      <td>19407</td>\n",
              "      <td>19407</td>\n",
              "      <td>19407</td>\n",
              "      <td>19407</td>\n",
              "      <td>19407</td>\n",
              "      <td>19245</td>\n",
              "      <td>19244</td>\n",
              "      <td>19407</td>\n",
              "      <td>1.912900e+04</td>\n",
              "      <td>19407</td>\n",
              "      <td>19407</td>\n",
              "      <td>19407</td>\n",
              "      <td>19407</td>\n",
              "      <td>10289</td>\n",
              "      <td>19406</td>\n",
              "      <td>19407</td>\n",
              "      <td>19407</td>\n",
              "    </tr>\n",
              "    <tr>\n",
              "      <th>unique</th>\n",
              "      <td>3</td>\n",
              "      <td>3</td>\n",
              "      <td>3</td>\n",
              "      <td>4263</td>\n",
              "      <td>6</td>\n",
              "      <td>4</td>\n",
              "      <td>3</td>\n",
              "      <td>5</td>\n",
              "      <td>3</td>\n",
              "      <td>6</td>\n",
              "      <td>1.633100e+04</td>\n",
              "      <td>7</td>\n",
              "      <td>14</td>\n",
              "      <td>53</td>\n",
              "      <td>4</td>\n",
              "      <td>6321</td>\n",
              "      <td>5</td>\n",
              "      <td>12</td>\n",
              "      <td>2</td>\n",
              "    </tr>\n",
              "    <tr>\n",
              "      <th>top</th>\n",
              "      <td>CABECERA MUNICIPAL</td>\n",
              "      <td>INSTITUCIÓN DE SALUD</td>\n",
              "      <td>FEMENINO</td>\n",
              "      <td>2011-09-09</td>\n",
              "      <td>MÉDICO</td>\n",
              "      <td>ESPONTÁNEO</td>\n",
              "      <td>SIMPLE</td>\n",
              "      <td>O</td>\n",
              "      <td>POSITIVO</td>\n",
              "      <td>NINGUNO DE LOS ANTERIORES</td>\n",
              "      <td>1.151944e+09</td>\n",
              "      <td>NO ESTABA CASADO(A) Y LLEVABA DOS AÑOS O MÁS V...</td>\n",
              "      <td>MEDIA ACADÉMICA O CLÁSICA</td>\n",
              "      <td>CALI</td>\n",
              "      <td>CABECERA MUNICIPAL</td>\n",
              "      <td>1900-01-01 00:00:00</td>\n",
              "      <td>SUBSIDIADO</td>\n",
              "      <td>2012</td>\n",
              "      <td>0</td>\n",
              "    </tr>\n",
              "    <tr>\n",
              "      <th>freq</th>\n",
              "      <td>19277</td>\n",
              "      <td>19197</td>\n",
              "      <td>11409</td>\n",
              "      <td>16</td>\n",
              "      <td>19193</td>\n",
              "      <td>10787</td>\n",
              "      <td>17794</td>\n",
              "      <td>12086</td>\n",
              "      <td>18124</td>\n",
              "      <td>15123</td>\n",
              "      <td>5.000000e+00</td>\n",
              "      <td>8943</td>\n",
              "      <td>7464</td>\n",
              "      <td>8995</td>\n",
              "      <td>16518</td>\n",
              "      <td>2067</td>\n",
              "      <td>9149</td>\n",
              "      <td>2135</td>\n",
              "      <td>19128</td>\n",
              "    </tr>\n",
              "  </tbody>\n",
              "</table>\n",
              "</div>\n",
              "    <div class=\"colab-df-buttons\">\n",
              "\n",
              "  <div class=\"colab-df-container\">\n",
              "    <button class=\"colab-df-convert\" onclick=\"convertToInteractive('df-3c6cad02-cc03-42a4-81d7-f68363dbe53f')\"\n",
              "            title=\"Convert this dataframe to an interactive table.\"\n",
              "            style=\"display:none;\">\n",
              "\n",
              "  <svg xmlns=\"http://www.w3.org/2000/svg\" height=\"24px\" viewBox=\"0 -960 960 960\">\n",
              "    <path d=\"M120-120v-720h720v720H120Zm60-500h600v-160H180v160Zm220 220h160v-160H400v160Zm0 220h160v-160H400v160ZM180-400h160v-160H180v160Zm440 0h160v-160H620v160ZM180-180h160v-160H180v160Zm440 0h160v-160H620v160Z\"/>\n",
              "  </svg>\n",
              "    </button>\n",
              "\n",
              "  <style>\n",
              "    .colab-df-container {\n",
              "      display:flex;\n",
              "      gap: 12px;\n",
              "    }\n",
              "\n",
              "    .colab-df-convert {\n",
              "      background-color: #E8F0FE;\n",
              "      border: none;\n",
              "      border-radius: 50%;\n",
              "      cursor: pointer;\n",
              "      display: none;\n",
              "      fill: #1967D2;\n",
              "      height: 32px;\n",
              "      padding: 0 0 0 0;\n",
              "      width: 32px;\n",
              "    }\n",
              "\n",
              "    .colab-df-convert:hover {\n",
              "      background-color: #E2EBFA;\n",
              "      box-shadow: 0px 1px 2px rgba(60, 64, 67, 0.3), 0px 1px 3px 1px rgba(60, 64, 67, 0.15);\n",
              "      fill: #174EA6;\n",
              "    }\n",
              "\n",
              "    .colab-df-buttons div {\n",
              "      margin-bottom: 4px;\n",
              "    }\n",
              "\n",
              "    [theme=dark] .colab-df-convert {\n",
              "      background-color: #3B4455;\n",
              "      fill: #D2E3FC;\n",
              "    }\n",
              "\n",
              "    [theme=dark] .colab-df-convert:hover {\n",
              "      background-color: #434B5C;\n",
              "      box-shadow: 0px 1px 3px 1px rgba(0, 0, 0, 0.15);\n",
              "      filter: drop-shadow(0px 1px 2px rgba(0, 0, 0, 0.3));\n",
              "      fill: #FFFFFF;\n",
              "    }\n",
              "  </style>\n",
              "\n",
              "    <script>\n",
              "      const buttonEl =\n",
              "        document.querySelector('#df-3c6cad02-cc03-42a4-81d7-f68363dbe53f button.colab-df-convert');\n",
              "      buttonEl.style.display =\n",
              "        google.colab.kernel.accessAllowed ? 'block' : 'none';\n",
              "\n",
              "      async function convertToInteractive(key) {\n",
              "        const element = document.querySelector('#df-3c6cad02-cc03-42a4-81d7-f68363dbe53f');\n",
              "        const dataTable =\n",
              "          await google.colab.kernel.invokeFunction('convertToInteractive',\n",
              "                                                    [key], {});\n",
              "        if (!dataTable) return;\n",
              "\n",
              "        const docLinkHtml = 'Like what you see? Visit the ' +\n",
              "          '<a target=\"_blank\" href=https://colab.research.google.com/notebooks/data_table.ipynb>data table notebook</a>'\n",
              "          + ' to learn more about interactive tables.';\n",
              "        element.innerHTML = '';\n",
              "        dataTable['output_type'] = 'display_data';\n",
              "        await google.colab.output.renderOutput(dataTable, element);\n",
              "        const docLink = document.createElement('div');\n",
              "        docLink.innerHTML = docLinkHtml;\n",
              "        element.appendChild(docLink);\n",
              "      }\n",
              "    </script>\n",
              "  </div>\n",
              "\n",
              "\n",
              "<div id=\"df-d1c14578-8f64-46ab-8052-00d8e5257c4a\">\n",
              "  <button class=\"colab-df-quickchart\" onclick=\"quickchart('df-d1c14578-8f64-46ab-8052-00d8e5257c4a')\"\n",
              "            title=\"Suggest charts\"\n",
              "            style=\"display:none;\">\n",
              "\n",
              "<svg xmlns=\"http://www.w3.org/2000/svg\" height=\"24px\"viewBox=\"0 0 24 24\"\n",
              "     width=\"24px\">\n",
              "    <g>\n",
              "        <path d=\"M19 3H5c-1.1 0-2 .9-2 2v14c0 1.1.9 2 2 2h14c1.1 0 2-.9 2-2V5c0-1.1-.9-2-2-2zM9 17H7v-7h2v7zm4 0h-2V7h2v10zm4 0h-2v-4h2v4z\"/>\n",
              "    </g>\n",
              "</svg>\n",
              "  </button>\n",
              "\n",
              "<style>\n",
              "  .colab-df-quickchart {\n",
              "      --bg-color: #E8F0FE;\n",
              "      --fill-color: #1967D2;\n",
              "      --hover-bg-color: #E2EBFA;\n",
              "      --hover-fill-color: #174EA6;\n",
              "      --disabled-fill-color: #AAA;\n",
              "      --disabled-bg-color: #DDD;\n",
              "  }\n",
              "\n",
              "  [theme=dark] .colab-df-quickchart {\n",
              "      --bg-color: #3B4455;\n",
              "      --fill-color: #D2E3FC;\n",
              "      --hover-bg-color: #434B5C;\n",
              "      --hover-fill-color: #FFFFFF;\n",
              "      --disabled-bg-color: #3B4455;\n",
              "      --disabled-fill-color: #666;\n",
              "  }\n",
              "\n",
              "  .colab-df-quickchart {\n",
              "    background-color: var(--bg-color);\n",
              "    border: none;\n",
              "    border-radius: 50%;\n",
              "    cursor: pointer;\n",
              "    display: none;\n",
              "    fill: var(--fill-color);\n",
              "    height: 32px;\n",
              "    padding: 0;\n",
              "    width: 32px;\n",
              "  }\n",
              "\n",
              "  .colab-df-quickchart:hover {\n",
              "    background-color: var(--hover-bg-color);\n",
              "    box-shadow: 0 1px 2px rgba(60, 64, 67, 0.3), 0 1px 3px 1px rgba(60, 64, 67, 0.15);\n",
              "    fill: var(--button-hover-fill-color);\n",
              "  }\n",
              "\n",
              "  .colab-df-quickchart-complete:disabled,\n",
              "  .colab-df-quickchart-complete:disabled:hover {\n",
              "    background-color: var(--disabled-bg-color);\n",
              "    fill: var(--disabled-fill-color);\n",
              "    box-shadow: none;\n",
              "  }\n",
              "\n",
              "  .colab-df-spinner {\n",
              "    border: 2px solid var(--fill-color);\n",
              "    border-color: transparent;\n",
              "    border-bottom-color: var(--fill-color);\n",
              "    animation:\n",
              "      spin 1s steps(1) infinite;\n",
              "  }\n",
              "\n",
              "  @keyframes spin {\n",
              "    0% {\n",
              "      border-color: transparent;\n",
              "      border-bottom-color: var(--fill-color);\n",
              "      border-left-color: var(--fill-color);\n",
              "    }\n",
              "    20% {\n",
              "      border-color: transparent;\n",
              "      border-left-color: var(--fill-color);\n",
              "      border-top-color: var(--fill-color);\n",
              "    }\n",
              "    30% {\n",
              "      border-color: transparent;\n",
              "      border-left-color: var(--fill-color);\n",
              "      border-top-color: var(--fill-color);\n",
              "      border-right-color: var(--fill-color);\n",
              "    }\n",
              "    40% {\n",
              "      border-color: transparent;\n",
              "      border-right-color: var(--fill-color);\n",
              "      border-top-color: var(--fill-color);\n",
              "    }\n",
              "    60% {\n",
              "      border-color: transparent;\n",
              "      border-right-color: var(--fill-color);\n",
              "    }\n",
              "    80% {\n",
              "      border-color: transparent;\n",
              "      border-right-color: var(--fill-color);\n",
              "      border-bottom-color: var(--fill-color);\n",
              "    }\n",
              "    90% {\n",
              "      border-color: transparent;\n",
              "      border-bottom-color: var(--fill-color);\n",
              "    }\n",
              "  }\n",
              "</style>\n",
              "\n",
              "  <script>\n",
              "    async function quickchart(key) {\n",
              "      const quickchartButtonEl =\n",
              "        document.querySelector('#' + key + ' button');\n",
              "      quickchartButtonEl.disabled = true;  // To prevent multiple clicks.\n",
              "      quickchartButtonEl.classList.add('colab-df-spinner');\n",
              "      try {\n",
              "        const charts = await google.colab.kernel.invokeFunction(\n",
              "            'suggestCharts', [key], {});\n",
              "      } catch (error) {\n",
              "        console.error('Error during call to suggestCharts:', error);\n",
              "      }\n",
              "      quickchartButtonEl.classList.remove('colab-df-spinner');\n",
              "      quickchartButtonEl.classList.add('colab-df-quickchart-complete');\n",
              "    }\n",
              "    (() => {\n",
              "      let quickchartButtonEl =\n",
              "        document.querySelector('#df-d1c14578-8f64-46ab-8052-00d8e5257c4a button');\n",
              "      quickchartButtonEl.style.display =\n",
              "        google.colab.kernel.accessAllowed ? 'block' : 'none';\n",
              "    })();\n",
              "  </script>\n",
              "</div>\n",
              "    </div>\n",
              "  </div>\n"
            ]
          },
          "metadata": {},
          "execution_count": 24
        }
      ]
    },
    {
      "cell_type": "code",
      "source": [
        "import pandas as pd\n",
        "\n",
        "# Asumiendo que df_categoric es tu DataFrame\n",
        "# Crear un diccionario para almacenar los conteos\n",
        "conteos_categorias = {}\n",
        "\n",
        "# Iterar a través de cada columna categórica\n",
        "for columna in df_categoric.columns:\n",
        "    conteos_categorias[columna] = df_categoric[columna].value_counts()\n",
        "\n",
        "# Opcional: Convertir el diccionario a un DataFrame para una mejor visualización"
      ],
      "metadata": {
        "id": "xtV-xymry7cy"
      },
      "execution_count": null,
      "outputs": []
    },
    {
      "cell_type": "code",
      "source": [
        "for i in range(0,len(list(conteos_categorias))) :\n",
        "  print(list(conteos_categorias.values())[i],'\\n')"
      ],
      "metadata": {
        "colab": {
          "base_uri": "https://localhost:8080/"
        },
        "id": "fxGPCJ4V0uVK",
        "outputId": "9df30fe0-9a37-48ca-bd9b-2d950b99720b"
      },
      "execution_count": null,
      "outputs": [
        {
          "output_type": "stream",
          "name": "stdout",
          "text": [
            "CABECERA MUNICIPAL                                      19277\n",
            "RURAL DISPERSO                                             90\n",
            "CENTRO POBLADO (INSPECCIÓN, CORREGIMIENTO O CASERÍO)       40\n",
            "Name: Area Nacimiento, dtype: int64 \n",
            "\n",
            "INSTITUCIÓN DE SALUD    19197\n",
            "EL DOMICILIO              174\n",
            "OTRO SITIO                 36\n",
            "Name: Sitio Parto, dtype: int64 \n",
            "\n",
            "FEMENINO         11409\n",
            "MASCULINO         7993\n",
            "INDETERMINADO        5\n",
            "Name: Sexo, dtype: int64 \n",
            "\n",
            "2011-09-09    16\n",
            "2011-09-14    16\n",
            "2013-02-23    15\n",
            "2021-08-28    15\n",
            "2012-08-25    15\n",
            "              ..\n",
            "2015-03-13     1\n",
            "2019-02-02     1\n",
            "2015-03-16     1\n",
            "2019-01-27     1\n",
            "2011-01-01     1\n",
            "Name: Fecha Nacimiento, Length: 4263, dtype: int64 \n",
            "\n",
            "MÉDICO                    19193\n",
            "OTRA PERSONA                 84\n",
            "PARTERA                      84\n",
            "PROMOTOR(A) DE SALUD         24\n",
            "ENFERMERO(A)                 18\n",
            "AUXILIAR DE ENFERMERÍA        4\n",
            "Name: Parto Atendido Por, dtype: int64 \n",
            "\n",
            "ESPONTÁNEO       10787\n",
            "CESÁREA           8601\n",
            "INSTRUMENTADO       10\n",
            "IGNORADO             9\n",
            "Name: Tipo Parto, dtype: int64 \n",
            "\n",
            "SIMPLE    17794\n",
            "DOBLE      1612\n",
            "TRIPLE        1\n",
            "Name: Multiplicidad Embarazo, dtype: int64 \n",
            "\n",
            "O                  12086\n",
            "A                   4434\n",
            "B                   2240\n",
            "AB                   363\n",
            "SIN INFORMACIÓN      122\n",
            "Name: Grupo Sanguineo, dtype: int64 \n",
            "\n",
            "POSITIVO           18124\n",
            "NEGATIVO             997\n",
            "SIN INFORMACIÓN      123\n",
            "Name: Factor RH, dtype: int64 \n",
            "\n",
            "NINGUNO DE LOS ANTERIORES                                      15123\n",
            "NEGRO(A), MULATO(A), AFRO COLOMBIANO(A) O AFRO DESCENDIENTE     4142\n",
            "INDÍGENA                                                         132\n",
            "PALENQUERO DE SAN BASILIO                                          6\n",
            "ROM (GITANO)                                                       3\n",
            "RAIZAL DEL ARCHIPIÉLAGO DE SAN ANDRÉS Y PROVIDENCIA                1\n",
            "Name: Pertenencia Étnica, dtype: int64 \n",
            "\n",
            "1151944448.0    5\n",
            "29707237.0      4\n",
            "38665636.0      4\n",
            "31658145.0      4\n",
            "1112228196.0    4\n",
            "               ..\n",
            "1058842280.0    1\n",
            "1058912035.0    1\n",
            "1058962828.0    1\n",
            "1058964281.0    1\n",
            "1111798395.0    1\n",
            "Name: Numero Documento Madre, Length: 16331, dtype: int64 \n",
            "\n",
            "NO ESTABA CASADO(A) Y LLEVABA DOS AÑOS O MÁS VIVIENDO CON SU PAREJA       8943\n",
            "NO ESTABA CASADO(A) Y LLEVABA MENOS DE DOS AÑOS VIVIENDO CON SU PAREJA    4017\n",
            "ESTABA SOLTERO(A)                                                         3253\n",
            "ESTABA CASADO(A)                                                          2636\n",
            "SIN INFORMACIÓN                                                            473\n",
            "ESTABA SEPARADO(A), DIVORCIADO(A)                                           60\n",
            "ESTABA VIUDO(A)                                                             25\n",
            "Name: Estado Conyugal Madre, dtype: int64 \n",
            "\n",
            "MEDIA ACADÉMICA O CLÁSICA    7464\n",
            "BÁSICA SECUNDARIA            4627\n",
            "BÁSICA PRIMARIA              2059\n",
            "PROFESIONAL                  1699\n",
            "TÉCNICA PROFESIONAL          1572\n",
            "TECNOLÓGICA                   691\n",
            "SIN INFORMACIÓN               581\n",
            "MEDIA TÉCNICA                 371\n",
            "NINGUNO                       153\n",
            "ESPECIALIZACIÓN                96\n",
            "PREESCOLAR                     37\n",
            "MAESTRÍA                       36\n",
            "NORMALISTA                     15\n",
            "DOCTORADO                       6\n",
            "Name: Último Año Estudios Madre, dtype: int64 \n",
            "\n",
            "CALI                   8995\n",
            "BUENAVENTURA           2047\n",
            "PALMIRA                1406\n",
            "TULUA                   732\n",
            "YUMBO                   711\n",
            "JAMUNDÍ                 569\n",
            "CANDELARIA              537\n",
            "JAMUNDI                 503\n",
            "BUGA                    405\n",
            "FLORIDA                 377\n",
            "CARTAGO                 352\n",
            "PRADERA                 280\n",
            "EL CERRITO              266\n",
            "DAGUA                   245\n",
            "SEVILLA                 130\n",
            "ZARZAL                  127\n",
            "ROLDANILLO              122\n",
            "CAICEDONIA               96\n",
            "BUGALAGRANDE             91\n",
            "GUACARI                  89\n",
            "LA UNION                 76\n",
            "GINEBRA                  76\n",
            "TRUJILLO                 73\n",
            "EL DOVIO                 64\n",
            "ANDALUCIA                63\n",
            "ANSERMANUEVO             60\n",
            "YOTOCO                   60\n",
            "TULUÁ                    59\n",
            "VIJES                    58\n",
            "LA CUMBRE                58\n",
            "RIOFRIO                  57\n",
            "ALCALA                   57\n",
            "RESTREPO                 57\n",
            "CALIMA (DARIEN)          56\n",
            "BOLIVAR                  55\n",
            "SAN PEDRO                52\n",
            "TORO                     50\n",
            "LA VICTORIA              31\n",
            "GUADALAJARA DE BUGA      31\n",
            "EL CAIRO                 30\n",
            "VERSALLES                29\n",
            "ARGELIA                  28\n",
            "EL AGUILA                27\n",
            "OBANDO                   27\n",
            "GUACARÍ                  23\n",
            "ALCALÁ                   18\n",
            "CALIMA                   10\n",
            "ULLOA                    10\n",
            "BOLÍVAR                   9\n",
            "ANDALUCÍA                 9\n",
            "LA UNIÓN                  8\n",
            "EL ÁGUILA                 3\n",
            "RIOFRÍO                   3\n",
            "Name: Municipio Residencia, dtype: int64 \n",
            "\n",
            "CABECERA MUNICIPAL                                       16518\n",
            "RURAL DISPERSO                                            1181\n",
            "CENTRO POBLADO (INSPECCIÓN,  CORREGIMIENTO O CASERÍO)     1036\n",
            "CENTRO POBLADO (INSPECCIÓN, CORREGIMIENTO O CASERÍO)       672\n",
            "Name: Área Residencia, dtype: int64 \n",
            "\n",
            "1900-01-01 00:00:00    2067\n",
            "2010-05-26               10\n",
            "2009-06-03                7\n",
            "2012-11-08                7\n",
            "2005-06-03                7\n",
            "                       ... \n",
            "2014-11-05                1\n",
            "2014-11-05 00:00:00       1\n",
            "2008-01-01                1\n",
            "2013-01-23 00:00:00       1\n",
            "2005-12-27                1\n",
            "Name: Fecha Nacimiento Anterior Hijo, Length: 6321, dtype: int64 \n",
            "\n",
            "SUBSIDIADO      9149\n",
            "CONTRIBUTIVO    8375\n",
            "NO ASEGURADO    1576\n",
            "EXCEPCIÓN        294\n",
            "ESPECIAL          12\n",
            "Name: Régimen Seguridad Social, dtype: int64 \n",
            "\n",
            "2012    2135\n",
            "2011    1947\n",
            "2021    1760\n",
            "2013    1742\n",
            "2020    1665\n",
            "2016    1610\n",
            "2018    1604\n",
            "2017    1603\n",
            "2014    1597\n",
            "2015    1446\n",
            "2019    1413\n",
            "2022     885\n",
            "Name: Año, dtype: int64 \n",
            "\n",
            "0    19128\n",
            "1      279\n",
            "Name: def, dtype: int64 \n",
            "\n"
          ]
        }
      ]
    },
    {
      "cell_type": "markdown",
      "source": [
        "No se realiza proceso de imputación puesto que no faltan datos reelevantes dentro del análisis. Pero si se realiza el proceso de recategorización de los datos, más adelante."
      ],
      "metadata": {
        "id": "RnwLQysx2BZh"
      }
    },
    {
      "cell_type": "markdown",
      "source": [
        "## CREACIÓN DE CARACTERISTICAS: Periodo intergenésico."
      ],
      "metadata": {
        "id": "ibMypHnOBUjM"
      }
    },
    {
      "cell_type": "markdown",
      "source": [
        "La fecha de nacimiento, la fecha de parto anterior y el número de semanas gestacionales se extraen para poder calcular la variable que categoriza el periodo intergenesico:\n",
        "Definido como el tiempo entre la fecha de nacimiento de un hijo y la fecha de fecundación de un próximo hijo. Definido como:\n",
        "\n",
        "---\n",
        "\n",
        "`años_intergenesicos = años transcurridos entre((fecha_nacimiento - semanas_gestación) - fecha de nacimiento del hijo anterior).`\n",
        "\n",
        "---"
      ],
      "metadata": {
        "id": "tCVxIQlSEiND"
      }
    },
    {
      "cell_type": "code",
      "source": [
        "df_desc['Fecha Nacimiento Anterior Hijo'].value_counts()"
      ],
      "metadata": {
        "colab": {
          "base_uri": "https://localhost:8080/"
        },
        "id": "VyfJ9S6fJvyD",
        "outputId": "f13909a0-c435-4e77-f064-b43209327a51"
      },
      "execution_count": null,
      "outputs": [
        {
          "output_type": "execute_result",
          "data": {
            "text/plain": [
              "1900-01-01 00:00:00    2067\n",
              "2010-05-26               10\n",
              "2009-06-03                7\n",
              "2012-11-08                7\n",
              "2005-06-03                7\n",
              "                       ... \n",
              "2014-11-05                1\n",
              "2014-11-05 00:00:00       1\n",
              "2008-01-01                1\n",
              "2013-01-23 00:00:00       1\n",
              "2005-12-27                1\n",
              "Name: Fecha Nacimiento Anterior Hijo, Length: 6321, dtype: int64"
            ]
          },
          "metadata": {},
          "execution_count": 25
        }
      ]
    },
    {
      "cell_type": "code",
      "source": [
        "df_desc['Fecha Nacimiento'] = pd.to_datetime(df_desc['Fecha Nacimiento'])\n",
        "df_desc['Fecha Nacimiento Anterior Hijo'] = pd.to_datetime(df_desc['Fecha Nacimiento Anterior Hijo'], errors='coerce')"
      ],
      "metadata": {
        "colab": {
          "base_uri": "https://localhost:8080/"
        },
        "id": "myqn8vR6C6IV",
        "outputId": "dd0bf312-1da7-4c00-dba9-cecf354f7b97"
      },
      "execution_count": null,
      "outputs": [
        {
          "output_type": "stream",
          "name": "stderr",
          "text": [
            "<ipython-input-26-f70ad0efb29e>:2: UserWarning: Parsing dates in DD/MM/YYYY format when dayfirst=False (the default) was specified. This may lead to inconsistently parsed dates! Specify a format to ensure consistent parsing.\n",
            "  df_desc['Fecha Nacimiento Anterior Hijo'] = pd.to_datetime(df_desc['Fecha Nacimiento Anterior Hijo'], errors='coerce')\n"
          ]
        }
      ]
    },
    {
      "cell_type": "code",
      "source": [
        "nat_count = df_desc['Fecha Nacimiento Anterior Hijo'].isna().sum()\n",
        "print(\"Número de NaT:\", nat_count)"
      ],
      "metadata": {
        "colab": {
          "base_uri": "https://localhost:8080/"
        },
        "id": "AZFC1LMNLBfr",
        "outputId": "96c4a8cd-2de1-4c87-ebd7-33f1b8946318"
      },
      "execution_count": null,
      "outputs": [
        {
          "output_type": "stream",
          "name": "stdout",
          "text": [
            "Número de NaT: 9119\n"
          ]
        }
      ]
    },
    {
      "cell_type": "code",
      "source": [
        "# Asegúrate de que 'fec_h_ant' ya esté convertida a datetime\n",
        "atypical_years_count = df_desc['Fecha Nacimiento Anterior Hijo'][(df_desc['Fecha Nacimiento Anterior Hijo'].dt.year > 2023) |\n",
        "                                                                    (df_desc['Fecha Nacimiento Anterior Hijo'].dt.year < 1950)].shape[0]\n",
        "print(\"Número de fechas con años atípicos:\", atypical_years_count)"
      ],
      "metadata": {
        "colab": {
          "base_uri": "https://localhost:8080/"
        },
        "id": "jhx3iJNKF7rM",
        "outputId": "f42682d2-f729-4880-b18b-c3e70e0f1a61"
      },
      "execution_count": null,
      "outputs": [
        {
          "output_type": "stream",
          "name": "stdout",
          "text": [
            "Número de fechas con años atípicos: 2067\n"
          ]
        }
      ]
    },
    {
      "cell_type": "code",
      "source": [
        "9119 + 2067"
      ],
      "metadata": {
        "colab": {
          "base_uri": "https://localhost:8080/"
        },
        "id": "8Ee1XaE0QEgr",
        "outputId": "d48613d0-dd8a-4e86-e8e1-521e8019bca7"
      },
      "execution_count": null,
      "outputs": [
        {
          "output_type": "execute_result",
          "data": {
            "text/plain": [
              "11186"
            ]
          },
          "metadata": {},
          "execution_count": 29
        }
      ]
    },
    {
      "cell_type": "code",
      "source": [
        "(df_desc['Número Hijos Nacidos Vivos'] == 1).value_counts()"
      ],
      "metadata": {
        "colab": {
          "base_uri": "https://localhost:8080/"
        },
        "id": "OKQ56ekhLmNr",
        "outputId": "1c720efe-176d-4559-c9a7-1c47889cf94b"
      },
      "execution_count": null,
      "outputs": [
        {
          "output_type": "execute_result",
          "data": {
            "text/plain": [
              "True     11094\n",
              "False     8313\n",
              "Name: Número Hijos Nacidos Vivos, dtype: int64"
            ]
          },
          "metadata": {},
          "execution_count": 30
        }
      ]
    },
    {
      "cell_type": "code",
      "source": [
        "11186 - 11094"
      ],
      "metadata": {
        "colab": {
          "base_uri": "https://localhost:8080/"
        },
        "id": "qh_Q2I37QIj8",
        "outputId": "ca09ca2f-2289-4068-d231-cbb91e801ec0"
      },
      "execution_count": null,
      "outputs": [
        {
          "output_type": "execute_result",
          "data": {
            "text/plain": [
              "92"
            ]
          },
          "metadata": {},
          "execution_count": 31
        }
      ]
    },
    {
      "cell_type": "markdown",
      "source": [
        "La lógica anterior se extraen las fechas no lógicas o vacías en la columna Fecha de nac del hijo anterior. las cuales deberían tener valores no lógicos o vacíos en los embarazos primerizos. es decir cuando El número de hijos nacidos vivos es igual a 1. al hacer la diferencia dan 92 que a pesar de no ser primerizas igual tienen la fecha de nacimiento del anterior hijo vacía."
      ],
      "metadata": {
        "id": "BY4Tsr9ZQkkx"
      }
    },
    {
      "cell_type": "markdown",
      "source": [
        "Para el periodo intergenésico se calcula la siguiente función: que se aplicará para todas las filas en el dataset relacionando cada condicional y operación, se tienen los escenarios para las primerizas. para las 92 no encontradas o perdidas y para el resto que se basa en calculo usando la fecha de nacimiento las semanas de gestación y la fecha de nacimiento del hijo anterior."
      ],
      "metadata": {
        "id": "hZykl0zOQ5Aj"
      }
    },
    {
      "cell_type": "code",
      "source": [
        "def calcular_periodo_intergenesico(row):\n",
        "    # Primerizas o embarazo múltiple doble\n",
        "    if (row['Número Hijos Nacidos Vivos'] == 1) | ((row['Número Hijos Nacidos Vivos'] == 2) & (row['Multiplicidad Embarazo'] == 'DOBLE')):\n",
        "        return 'primeriza'\n",
        "    # Datos perdidos o años anteriores a 1950\n",
        "    elif pd.isna(row['Fecha Nacimiento Anterior Hijo']) or row['Fecha Nacimiento Anterior Hijo'].year < 1950:\n",
        "        return 'perdido'\n",
        "    # Fechas de nacimiento iguales (deberían ser diferentes para calcular un período intergenésico)\n",
        "    elif row['Fecha Nacimiento Anterior Hijo'] == row['Fecha Nacimiento']:\n",
        "        return 'perdido'\n",
        "    # Faltaba una condición aquí, se agregó una que chequea si la diferencia es menor a un año\n",
        "    elif (row['Fecha Nacimiento'] - row['Fecha Nacimiento Anterior Hijo']).days < 365.25:\n",
        "        return 'menos de un año'\n",
        "    else:\n",
        "        fecha_inicio = row['Fecha Nacimiento'] - pd.to_timedelta(row['Tiempo Gestación'], unit='W')\n",
        "\n",
        "        # Calcular el período intergenésico\n",
        "        periodo_intergenesico = (fecha_inicio - row['Fecha Nacimiento Anterior Hijo']).days / 365.25\n",
        "\n",
        "        # Categorizar según el período intergenésico\n",
        "        if periodo_intergenesico < 1:\n",
        "            return 'menos de un año'\n",
        "        elif 1 <= periodo_intergenesico <= 2:\n",
        "            return 'un año a dos años'\n",
        "        else:\n",
        "            return 'más de dos años'"
      ],
      "metadata": {
        "id": "J72hVMepQU3y"
      },
      "execution_count": null,
      "outputs": []
    },
    {
      "cell_type": "code",
      "source": [
        "df_desc['periodo_inter'] = df_desc.apply(calcular_periodo_intergenesico, axis=1)"
      ],
      "metadata": {
        "id": "6sWoV5EQQYTb"
      },
      "execution_count": null,
      "outputs": []
    },
    {
      "cell_type": "code",
      "source": [
        "df_desc['periodo_inter'].value_counts()"
      ],
      "metadata": {
        "colab": {
          "base_uri": "https://localhost:8080/"
        },
        "id": "btBbM5CLQVea",
        "outputId": "e8a39d41-40a4-46a3-f607-e46e3b84e2b4"
      },
      "execution_count": null,
      "outputs": [
        {
          "output_type": "execute_result",
          "data": {
            "text/plain": [
              "primeriza            11760\n",
              "más de dos años       5697\n",
              "un año a dos años     1064\n",
              "menos de un año        552\n",
              "perdido                334\n",
              "Name: periodo_inter, dtype: int64"
            ]
          },
          "metadata": {},
          "execution_count": 34
        }
      ]
    },
    {
      "cell_type": "markdown",
      "source": [
        "Antes de eliminar algunas variables, las guardamos en vectores que permitan tenerlas a la mano. El número de documento, la fecha de nacimiento y la fecha de nacimiento del hijo anterior. Es importante reconocer que en este punto el orden de las filas del dataframe se mantendrá a lo largo del análisis para que mantengan la posición y poder ser verificables."
      ],
      "metadata": {
        "id": "RbvTWVKoSGxE"
      }
    },
    {
      "cell_type": "code",
      "source": [
        "df_desc = df_desc.drop(['Fecha Nacimiento','Fecha Nacimiento Anterior Hijo'], axis=1)"
      ],
      "metadata": {
        "id": "mnjEkkB_HhzN"
      },
      "execution_count": null,
      "outputs": []
    },
    {
      "cell_type": "markdown",
      "source": [
        "## RECODIFICACIÓN DE DATOS CATEGORICOS:"
      ],
      "metadata": {
        "id": "Kbq9k93NFK1T"
      }
    },
    {
      "cell_type": "code",
      "source": [
        "df_categoric = df_desc.select_dtypes(include=[object, 'category'])"
      ],
      "metadata": {
        "id": "H5ciFWZPH9wk"
      },
      "execution_count": null,
      "outputs": []
    },
    {
      "cell_type": "code",
      "source": [
        "# Crear un diccionario para almacenar los conteos\n",
        "conteos_categorias = {}\n",
        "\n",
        "# Iterar a través de cada columna categórica\n",
        "for columna in df_categoric.columns:\n",
        "    conteos_categorias[columna] = df_categoric[columna].value_counts()\n",
        "\n",
        "# Opcional: Convertir el diccionario a un DataFrame para una mejor visualización"
      ],
      "metadata": {
        "id": "mS5k3PdCHzwf"
      },
      "execution_count": null,
      "outputs": []
    },
    {
      "cell_type": "code",
      "source": [
        "# Crear un diccionario para mapear los nombres actuales a los nuevos nombres\n",
        "recategorizacion = {\n",
        "    \"CABECERA MUNICIPAL\": \"CABECERA\",\n",
        "    \"RURAL DISPERSO\": \"RURAL\",\n",
        "    \"CENTRO POBLADO (INSPECCIÓN, CORREGIMIENTO O CASERÍO)\": \"CENTRO POBLADO\"\n",
        "}\n",
        "\n",
        "# Suponiendo que tu DataFrame se llama df y que 'Area Nacimiento' es el nombre de la columna\n",
        "df_desc['Area Nacimiento'] = df_desc['Area Nacimiento'].map(recategorizacion)\n"
      ],
      "metadata": {
        "id": "FDvrnu0mIcF8"
      },
      "execution_count": null,
      "outputs": []
    },
    {
      "cell_type": "code",
      "source": [
        "# Crear un diccionario para mapear los nombres actuales a los nuevos nombres\n",
        "nuevas_categorias_sitio_parto = {\n",
        "    \"INSTITUCIÓN DE SALUD\": \"INSTITUCIÓN\",\n",
        "    \"EL DOMICILIO\": \"DOMICILIO\",\n",
        "    \"OTRO SITIO\": \"OTRO\"\n",
        "}\n",
        "\n",
        "# Suponiendo que tu DataFrame se llama df y que 'Sitio Parto' es el nombre de la columna\n",
        "df_desc['Sitio Parto'] = df_desc['Sitio Parto'].map(nuevas_categorias_sitio_parto)"
      ],
      "metadata": {
        "id": "vzBc5FmPItO1"
      },
      "execution_count": null,
      "outputs": []
    },
    {
      "cell_type": "code",
      "source": [
        "import numpy as np\n",
        "\n",
        "# Calcular las proporciones de 'FEMENINO' y 'MASCULINO'\n",
        "total = df_desc[df_desc['Sexo']!= 'INDETERMINADO']['Sexo'].value_counts().sum()\n",
        "prop_femenino = df_desc[df_desc['Sexo']!= 'INDETERMINADO']['Sexo'].value_counts()['FEMENINO'] / total\n",
        "prop_masculino = df_desc[df_desc['Sexo']!= 'INDETERMINADO']['Sexo'].value_counts()['MASCULINO'] / total\n",
        "\n",
        "# Definir la función para la imputación\n",
        "def imputar_sexo_aleatorio(sexo):\n",
        "    if sexo == 'INDETERMINADO':\n",
        "        # Asignar 'FEMENINO' o 'MASCULINO' basado en la distribución de probabilidad\n",
        "        return np.random.choice(['FEMENINO', 'MASCULINO'], p=[prop_femenino, prop_masculino])\n",
        "    else:\n",
        "        return sexo\n",
        "\n",
        "# Aplicar la función al DataFrame\n",
        "df_desc['Sexo'] = df_desc['Sexo'].apply(imputar_sexo_aleatorio)\n"
      ],
      "metadata": {
        "id": "4OMms5iJIgWF"
      },
      "execution_count": null,
      "outputs": []
    },
    {
      "cell_type": "code",
      "source": [
        "# Definir la función para recategorizar los valores\n",
        "def recategorizar_atencion(row):\n",
        "    if row == 'MÉDICO':\n",
        "        return 'MÉDICO'\n",
        "    else:\n",
        "        return 'OTRA PERSONA'\n",
        "\n",
        "# Aplicar la función al DataFrame\n",
        "df_desc['Parto Atendido Por'] = df_desc['Parto Atendido Por'].apply(recategorizar_atencion)\n"
      ],
      "metadata": {
        "id": "amc9AoaFJ_A0"
      },
      "execution_count": null,
      "outputs": []
    },
    {
      "cell_type": "code",
      "source": [
        "# Definir la función para recategorizar los valores\n",
        "def recategorizar_tipo(row):\n",
        "    if row == 'SIMPLE':\n",
        "        return 'SIMPLE'\n",
        "    else:\n",
        "        return 'MULTIPLE'\n",
        "\n",
        "# Aplicar la función al DataFrame\n",
        "df_desc['Multiplicidad Embarazo'] = df_desc['Multiplicidad Embarazo'].apply(recategorizar_tipo)\n"
      ],
      "metadata": {
        "id": "9MBsqvJ7KESk"
      },
      "execution_count": null,
      "outputs": []
    },
    {
      "cell_type": "code",
      "source": [
        "# Crear un diccionario para mapear los nombres actuales a los nuevos nombres\n",
        "recategorizacion_etnia = {\n",
        "    \"NINGUNO DE LOS ANTERIORES\": \"NINGUNO\",\n",
        "    \"NEGRO(A), MULATO(A), AFRO COLOMBIANO(A) O AFRO DESCENDIENTE\": \"AFRO\",\n",
        "    \"INDÍGENA\": \"INDÍGENA\",\n",
        "    \"PALENQUERO DE SAN BASILIO\": \"PALENQUERO\",\n",
        "    \"ROM (GITANO)\": \"ROM\",\n",
        "    \"RAIZAL DEL ARCHIPIÉLAGO DE SAN ANDRÉS Y PROVIDENCIA\": \"RAIZAL\"\n",
        "}\n",
        "\n",
        "# Suponiendo que tu DataFrame se llama df y que 'Pertenencia Étnica' es el nombre de la columna\n",
        "df_desc['Pertenencia Étnica'] = df_desc['Pertenencia Étnica'].map(recategorizacion_etnia)"
      ],
      "metadata": {
        "id": "lAo9BwEFKVAe"
      },
      "execution_count": null,
      "outputs": []
    },
    {
      "cell_type": "code",
      "source": [
        "# Crear un diccionario para mapear los nombres actuales a los nuevos nombres\n",
        "recategorizacion_estado_conyugal = {\n",
        "    \"NO ESTABA CASADO(A) Y LLEVABA DOS AÑOS O MÁS VIVIENDO CON SU PAREJA\": \"UNIÓN ESTABLE +2 AÑOS\",\n",
        "    \"NO ESTABA CASADO(A) Y LLEVABA MENOS DE DOS AÑOS VIVIENDO CON SU PAREJA\": \"UNIÓN ESTABLE -2 AÑOS\",\n",
        "    \"ESTABA SOLTERO(A)\": \"SOLTERO(A)\",\n",
        "    \"ESTABA CASADO(A)\": \"CASADO(A)\",\n",
        "    \"SIN INFORMACIÓN\": \"SIN INFORMACIÓN\",\n",
        "    \"ESTABA SEPARADO(A), DIVORCIADO(A)\": \"SEPARADO(A)/DIVORCIADO(A)\",\n",
        "    \"ESTABA VIUDO(A)\": \"VIUDO(A)\"\n",
        "}\n",
        "\n",
        "# Suponiendo que tu DataFrame se llama df y que 'Estado Conyugal Madre' es el nombre de la columna\n",
        "df_desc['Estado Conyugal Madre'] = df_desc['Estado Conyugal Madre'].map(recategorizacion_estado_conyugal)\n"
      ],
      "metadata": {
        "id": "0r8DYmRULZrV"
      },
      "execution_count": null,
      "outputs": []
    },
    {
      "cell_type": "code",
      "source": [
        "# Crear un diccionario para mapear los nombres actuales a las nuevas categorías\n",
        "recategorizacion_educacion = {\n",
        "    \"BÁSICA PRIMARIA\": \"ED BÁSICA\",\n",
        "    \"BÁSICA SECUNDARIA\": \"ED BÁSICA\",\n",
        "    \"MEDIA ACADÉMICA O CLÁSICA\": \"ED BÁSICA\",\n",
        "    \"MEDIA TÉCNICA\": \"ED BÁSICA\",\n",
        "    \"PREESCOLAR\": \"ED BÁSICA\",\n",
        "    \"NORMALISTA\": \"ED BÁSICA\",\n",
        "    \"PROFESIONAL\": \"ED SUPERIOR\",\n",
        "    \"TÉCNICA PROFESIONAL\": \"ED SUPERIOR\",\n",
        "    \"TECNOLÓGICA\": \"ED SUPERIOR\",\n",
        "    \"ESPECIALIZACIÓN\": \"ED SUPERIOR\",\n",
        "    \"MAESTRÍA\": \"ED MAESTRANTE\",\n",
        "    \"DOCTORADO\": \"ED DOCTORAL\",\n",
        "    \"NINGUNO\": \"SIN EDUCACIÓN\",\n",
        "    \"SIN INFORMACIÓN\": \"SIN INFORMACIÓN\"\n",
        "}\n",
        "\n",
        "# Suponiendo que tu DataFrame se llama df y que 'Último Año Estudios Madre' es el nombre de la columna\n",
        "df_desc['Último Año Estudios Madre'] = df_desc['Último Año Estudios Madre'].map(recategorizacion_educacion)"
      ],
      "metadata": {
        "id": "7Mlyn8FgL5m9"
      },
      "execution_count": null,
      "outputs": []
    },
    {
      "cell_type": "code",
      "source": [
        "# Definir la función para recategorizar los municipios\n",
        "def recategorizar_municipio(municipio):\n",
        "    if municipio == 'CALI':\n",
        "        return 'CALI'\n",
        "    elif municipio == 'BUENAVENTURA':\n",
        "        return 'BUENAVENTURA'\n",
        "    else:\n",
        "        return 'OTROS'\n",
        "\n",
        "# Aplicar la función al DataFrame\n",
        "df_desc['Municipio Residencia'] = df_desc['Municipio Residencia'].apply(recategorizar_municipio)"
      ],
      "metadata": {
        "id": "GAKMhdDfNItl"
      },
      "execution_count": null,
      "outputs": []
    },
    {
      "cell_type": "code",
      "source": [
        "# Crear un diccionario para mapear los nombres actuales a los nuevos nombres\n",
        "recategorizacion_area_nacimiento = {\n",
        "    \"CABECERA MUNICIPAL\": \"CABECERA\",\n",
        "    \"RURAL DISPERSO\": \"RURAL\",\n",
        "    \"CENTRO POBLADO (INSPECCIÓN, CORREGIMIENTO O CASERÍO)\": \"CENTRO POBLADO\",\n",
        "    \"CENTRO POBLADO (INSPECCIÓN,  CORREGIMIENTO O CASERÍO)\": \"CENTRO POBLADO\"  # Nota el espacio adicional en la categoría original\n",
        "}\n",
        "\n",
        "# Suponiendo que tu DataFrame se llama df y que 'Area Nacimiento' es el nombre de la columna\n",
        "df_desc['Área Residencia'] = df_desc['Área Residencia'].map(recategorizacion_area_nacimiento)"
      ],
      "metadata": {
        "id": "iDeS7r1YOK29"
      },
      "execution_count": null,
      "outputs": []
    },
    {
      "cell_type": "code",
      "source": [
        "\n",
        "# Identificar las columnas categóricas\n",
        "columnas_categoricas = df_desc.select_dtypes(include=['category', 'object']).columns\n",
        "\n",
        "# Imprimir los valores únicos de cada columna categórica\n",
        "for columna in columnas_categoricas:\n",
        "    print(f\"Valores únicos en '{columna}': {df_desc[columna].unique()}\")\n"
      ],
      "metadata": {
        "colab": {
          "base_uri": "https://localhost:8080/"
        },
        "id": "hhcRT8T1ObHk",
        "outputId": "42343220-e288-4b68-d2ff-93c917ac71c7"
      },
      "execution_count": null,
      "outputs": [
        {
          "output_type": "stream",
          "name": "stdout",
          "text": [
            "Valores únicos en 'Area Nacimiento': ['CABECERA' 'CENTRO POBLADO' 'RURAL']\n",
            "Valores únicos en 'Sitio Parto': ['INSTITUCIÓN' 'OTRO' 'DOMICILIO']\n",
            "Valores únicos en 'Sexo': ['MASCULINO' 'FEMENINO']\n",
            "Valores únicos en 'Parto Atendido Por': ['MÉDICO' 'OTRA PERSONA']\n",
            "Valores únicos en 'Tipo Parto': ['CESÁREA' 'ESPONTÁNEO' 'INSTRUMENTADO' 'IGNORADO']\n",
            "Valores únicos en 'Multiplicidad Embarazo': ['SIMPLE' 'MULTIPLE']\n",
            "Valores únicos en 'Grupo Sanguineo': ['O' 'A' 'B' nan 'SIN INFORMACIÓN' 'AB']\n",
            "Valores únicos en 'Factor RH': ['POSITIVO' 'NEGATIVO' nan 'SIN INFORMACIÓN']\n",
            "Valores únicos en 'Pertenencia Étnica': ['AFRO' 'NINGUNO' 'INDÍGENA' 'ROM' 'RAIZAL' 'PALENQUERO']\n",
            "Valores únicos en 'Numero Documento Madre': [3.158925e+07, 1.112775e+09, 6.672946e+07, 1.130647e+09, 9.312192e+10, ..., 1.114824e+09, 1.006434e+09, 6.703995e+07, 1.114880e+09, 1.113676e+09]\n",
            "Length: 16332\n",
            "Categories (16331, float64): [646.0, 1224.0, 113061.0, 243513.0, ..., 9.593737e+14, 9.596087e+14,\n",
            "                              9.631446e+14, 9.635579e+14]\n",
            "Valores únicos en 'Estado Conyugal Madre': ['SOLTERO(A)' 'UNIÓN ESTABLE -2 AÑOS' 'CASADO(A)' 'UNIÓN ESTABLE +2 AÑOS'\n",
            " 'SIN INFORMACIÓN' 'SEPARADO(A)/DIVORCIADO(A)' 'VIUDO(A)']\n",
            "Valores únicos en 'Último Año Estudios Madre': ['SIN INFORMACIÓN' 'ED BÁSICA' 'ED SUPERIOR' 'SIN EDUCACIÓN'\n",
            " 'ED MAESTRANTE' 'ED DOCTORAL']\n",
            "Valores únicos en 'Municipio Residencia': ['BUENAVENTURA' 'OTROS' 'CALI']\n",
            "Valores únicos en 'Área Residencia': ['CABECERA' 'RURAL' 'CENTRO POBLADO']\n",
            "Valores únicos en 'Régimen Seguridad Social': ['SUBSIDIADO' 'NO ASEGURADO' 'CONTRIBUTIVO' 'EXCEPCIÓN' nan 'ESPECIAL']\n",
            "Valores únicos en 'Año': [2011, 2012, 2013, 2014, 2015, ..., 2018, 2019, 2020, 2021, 2022]\n",
            "Length: 12\n",
            "Categories (12, int64): [2011, 2012, 2013, 2014, ..., 2019, 2020, 2021, 2022]\n",
            "Valores únicos en 'def': [0, 1]\n",
            "Categories (2, int64): [0, 1]\n",
            "Valores únicos en 'periodo_inter': ['un año a dos años' 'primeriza' 'más de dos años' 'menos de un año'\n",
            " 'perdido']\n"
          ]
        },
        {
          "output_type": "stream",
          "name": "stderr",
          "text": [
            "<ipython-input-48-354da00d7fb3>:6: FutureWarning: Index.ravel returning ndarray is deprecated; in a future version this will return a view on self.\n",
            "  print(f\"Valores únicos en '{columna}': {df_desc[columna].unique()}\")\n"
          ]
        }
      ]
    },
    {
      "cell_type": "code",
      "source": [
        "variables_categoricas = df_desc.select_dtypes(include=['object','category'])"
      ],
      "metadata": {
        "id": "L7YAIxsA1ZBe"
      },
      "execution_count": null,
      "outputs": []
    },
    {
      "cell_type": "code",
      "source": [
        "variables_categoricas = variables_categoricas.drop(['Numero Documento Madre','Año'], axis=1).copy()"
      ],
      "metadata": {
        "id": "pAbLqKQ_1_fh"
      },
      "execution_count": null,
      "outputs": []
    },
    {
      "cell_type": "code",
      "source": [
        "variables_categoricas.info()"
      ],
      "metadata": {
        "colab": {
          "base_uri": "https://localhost:8080/"
        },
        "id": "joHlB0422XZM",
        "outputId": "5c4e8b4a-092a-46bc-d621-39d61a4de45a"
      },
      "execution_count": null,
      "outputs": [
        {
          "output_type": "stream",
          "name": "stdout",
          "text": [
            "<class 'pandas.core.frame.DataFrame'>\n",
            "RangeIndex: 19407 entries, 0 to 19406\n",
            "Data columns (total 16 columns):\n",
            " #   Column                     Non-Null Count  Dtype   \n",
            "---  ------                     --------------  -----   \n",
            " 0   Area Nacimiento            19407 non-null  object  \n",
            " 1   Sitio Parto                19407 non-null  object  \n",
            " 2   Sexo                       19407 non-null  object  \n",
            " 3   Parto Atendido Por         19407 non-null  object  \n",
            " 4   Tipo Parto                 19407 non-null  object  \n",
            " 5   Multiplicidad Embarazo     19407 non-null  object  \n",
            " 6   Grupo Sanguineo            19245 non-null  object  \n",
            " 7   Factor RH                  19244 non-null  object  \n",
            " 8   Pertenencia Étnica         19407 non-null  object  \n",
            " 9   Estado Conyugal Madre      19407 non-null  object  \n",
            " 10  Último Año Estudios Madre  19407 non-null  object  \n",
            " 11  Municipio Residencia       19407 non-null  object  \n",
            " 12  Área Residencia            19407 non-null  object  \n",
            " 13  Régimen Seguridad Social   19406 non-null  object  \n",
            " 14  def                        19407 non-null  category\n",
            " 15  periodo_inter              19407 non-null  object  \n",
            "dtypes: category(1), object(15)\n",
            "memory usage: 2.2+ MB\n"
          ]
        }
      ]
    },
    {
      "cell_type": "code",
      "source": [
        "df_desc.to_csv(\"/content/drive/My Drive/Datos_BPN2023/datos_generados_V2/df_para_modelo.csv\", sep = \";\", index = False)"
      ],
      "metadata": {
        "id": "aVDePiNTPgEM"
      },
      "execution_count": null,
      "outputs": []
    }
  ]
}