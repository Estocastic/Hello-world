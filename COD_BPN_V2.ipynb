{
  "nbformat": 4,
  "nbformat_minor": 0,
  "metadata": {
    "colab": {
      "provenance": [],
      "collapsed_sections": [
        "H8KKPgUUE1E1",
        "NjtPNV64W7_s",
        "LOz9xzcAe_Ml",
        "P-D52XVpbqg8",
        "dFbPdLMeeXxL",
        "sqxpmXMq955O",
        "o9hKdnO7Pq6G",
        "_6MXgtCbTuym",
        "E4t7tcVsfjWB"
      ],
      "authorship_tag": "ABX9TyMFzJuZjijAuOsib/7MWzZe",
      "include_colab_link": true
    },
    "kernelspec": {
      "name": "python3",
      "display_name": "Python 3"
    },
    "language_info": {
      "name": "python"
    }
  },
  "cells": [
    {
      "cell_type": "markdown",
      "metadata": {
        "id": "view-in-github",
        "colab_type": "text"
      },
      "source": [
        "<a href=\"https://colab.research.google.com/github/Estocastic/Hello-world/blob/master/COD_BPN_V2.ipynb\" target=\"_parent\"><img src=\"https://colab.research.google.com/assets/colab-badge.svg\" alt=\"Open In Colab\"/></a>"
      ]
    },
    {
      "cell_type": "code",
      "execution_count": 1,
      "metadata": {
        "id": "w9HjRWIV7qkD"
      },
      "outputs": [],
      "source": [
        "import pandas as pd\n",
        "import os"
      ]
    },
    {
      "cell_type": "code",
      "source": [
        "from google.colab import drive\n",
        "drive.mount('/content/drive')"
      ],
      "metadata": {
        "colab": {
          "base_uri": "https://localhost:8080/"
        },
        "id": "bf7JrFDy7wHm",
        "outputId": "3982018a-b572-470a-9f07-467320a4dc30"
      },
      "execution_count": 2,
      "outputs": [
        {
          "output_type": "stream",
          "name": "stdout",
          "text": [
            "Mounted at /content/drive\n"
          ]
        }
      ]
    },
    {
      "cell_type": "code",
      "source": [
        "directorio = '/content/drive/My Drive/Datos_BPN2023'"
      ],
      "metadata": {
        "id": "U0FrS0QT7xEm"
      },
      "execution_count": 3,
      "outputs": []
    },
    {
      "cell_type": "markdown",
      "source": [
        "# CAPITULO 1. NACIMIENTOS"
      ],
      "metadata": {
        "id": "WQ8AuwsijISs"
      }
    },
    {
      "cell_type": "markdown",
      "source": [
        "## PARTE 1. CARGA DE LOS DATOS NACIMIENTOS Y FILTROS LIMITROFES"
      ],
      "metadata": {
        "id": "H8KKPgUUE1E1"
      }
    },
    {
      "cell_type": "markdown",
      "source": [
        "### 1.1. CARGA INICIAL DE NACIMIENTOS Y MORTALIDAD EN LA CIUDAD DE CALI\n",
        "\n"
      ],
      "metadata": {
        "id": "8Pwsc7AjE_69"
      }
    },
    {
      "cell_type": "markdown",
      "source": [
        "#### CALI"
      ],
      "metadata": {
        "id": "wW6mBzJSdKOF"
      }
    },
    {
      "cell_type": "code",
      "source": [
        "# Lista para almacenar los DataFrames de Excel\n",
        "dfs = []\n",
        "\n",
        "# Cargar los data frames de nacimientos\n",
        "anyo_ini=2011\n",
        "for filename in os.listdir(directorio):\n",
        "    if filename.startswith(\"NACIM\") and filename.endswith(('xls', 'xlsx')):  # Filtrar si el archivo es de nacimiento\n",
        "\n",
        "        df = pd.read_excel(os.path.join(directorio, filename))\n",
        "        df['anyo']=anyo_ini\n",
        "        print(filename)\n",
        "        dfs.append(df)\n",
        "        anyo_ini=anyo_ini+1"
      ],
      "metadata": {
        "id": "rVW1Z-BL7yVu"
      },
      "execution_count": null,
      "outputs": []
    },
    {
      "cell_type": "code",
      "source": [
        "pd.DataFrame(list(map(lambda x: x.columns, dfs))).T # la variable fecha ultima modificacion no estan en la base 2017"
      ],
      "metadata": {
        "id": "7Di_Kykb73CN"
      },
      "execution_count": null,
      "outputs": []
    },
    {
      "cell_type": "code",
      "source": [
        "dfs=list(map(lambda x: x.drop('Fecha Última Modificación', axis=1, errors='ignore'), dfs)) # se retira la variable"
      ],
      "metadata": {
        "id": "5RSLEmV-782e"
      },
      "execution_count": 6,
      "outputs": []
    },
    {
      "cell_type": "code",
      "source": [
        "df_final = pd.concat(dfs, ignore_index=True)"
      ],
      "metadata": {
        "id": "4BsSgOBh9chO"
      },
      "execution_count": 167,
      "outputs": []
    },
    {
      "cell_type": "markdown",
      "source": [
        "#### VALLE"
      ],
      "metadata": {
        "id": "V2JpM6G39kXP"
      }
    },
    {
      "cell_type": "code",
      "source": [
        "nac_valle = pd.read_excel('/content/drive/My Drive/Datos_BPN2023/BD_Nv_2011_2021_HABC_v2.xlsx')"
      ],
      "metadata": {
        "id": "6ElnhZoz9iyO"
      },
      "execution_count": 166,
      "outputs": []
    },
    {
      "cell_type": "markdown",
      "source": [
        "#### FILTROS LIMITROFES: SE DESCARTAN NACIMIENTOS FUERA DEL VALLE"
      ],
      "metadata": {
        "id": "6vZJPA8fuAym"
      }
    },
    {
      "cell_type": "code",
      "source": [
        "# Identificamos filtros: Nacimientos solo cuyo departamento de residencia fuese el valle.\n",
        "(df_final['Departamento Residencia'] == 'VALLE DEL CAUCA').value_counts()"
      ],
      "metadata": {
        "colab": {
          "base_uri": "https://localhost:8080/"
        },
        "id": "VIOL6v1Qw8be",
        "outputId": "07c07928-8768-4e60-a00d-32b19ab3f0bc"
      },
      "execution_count": 168,
      "outputs": [
        {
          "output_type": "execute_result",
          "data": {
            "text/plain": [
              "True     377416\n",
              "False     24862\n",
              "Name: Departamento Residencia, dtype: int64"
            ]
          },
          "metadata": {},
          "execution_count": 168
        }
      ]
    },
    {
      "cell_type": "code",
      "source": [
        "# Identificamos filtros: Nacimientos solo cuyo departamento de residencia fuese el valle.\n",
        "(nac_valle['CODPTORE'] == 76).value_counts()"
      ],
      "metadata": {
        "colab": {
          "base_uri": "https://localhost:8080/"
        },
        "id": "PxgLCHSlt_Lu",
        "outputId": "e0e32f03-9b96-4b6a-9cd0-8c98b3d1e591"
      },
      "execution_count": 169,
      "outputs": [
        {
          "output_type": "execute_result",
          "data": {
            "text/plain": [
              "True    265838\n",
              "Name: CODPTORE, dtype: int64"
            ]
          },
          "metadata": {},
          "execution_count": 169
        }
      ]
    },
    {
      "cell_type": "code",
      "source": [
        "f_valle_dptres = df_final['Departamento Residencia'] == 'VALLE DEL CAUCA'"
      ],
      "metadata": {
        "id": "_djw1rrkyZ1f"
      },
      "execution_count": 69,
      "outputs": []
    },
    {
      "cell_type": "code",
      "source": [
        "df_final = df_final[f_valle_dptres].copy()"
      ],
      "metadata": {
        "id": "7YHhHs0vykh8"
      },
      "execution_count": 170,
      "outputs": []
    },
    {
      "cell_type": "markdown",
      "source": [
        "## PARTE 2. APLICACIÓN DE FILTROS PARA LLEGAR A LA POBLACIÓN OBJETIVO:"
      ],
      "metadata": {
        "id": "NjtPNV64W7_s"
      }
    },
    {
      "cell_type": "markdown",
      "source": [
        "### 2.1. Construcción de los filtros\n",
        "\n"
      ],
      "metadata": {
        "id": "LOz9xzcAe_Ml"
      }
    },
    {
      "cell_type": "code",
      "source": [
        "print('Médidas iniciales del Tiempo gestación y el Peso al nacer: \\n')\n",
        "print(f'CALI \\n',df_final[['Tiempo Gestación','Peso']].describe().round())\n",
        "print(f'VALLE \\n',nac_valle[['T_GES','PESO_NAC']].describe().round())"
      ],
      "metadata": {
        "colab": {
          "base_uri": "https://localhost:8080/"
        },
        "id": "cCQTNBHQH3n1",
        "outputId": "8dace9cc-822d-4960-fa4a-ee58cc7d0869"
      },
      "execution_count": 171,
      "outputs": [
        {
          "output_type": "stream",
          "name": "stdout",
          "text": [
            "Médidas iniciales del Tiempo gestación y el Peso al nacer: \n",
            "\n",
            "CALI \n",
            "        Tiempo Gestación      Peso\n",
            "count          377343.0  377412.0\n",
            "mean               38.0    3126.0\n",
            "std                 2.0     556.0\n",
            "min                18.0     220.0\n",
            "25%                38.0    2860.0\n",
            "50%                39.0    3180.0\n",
            "75%                40.0    3480.0\n",
            "max                49.0    5960.0\n",
            "VALLE \n",
            "           T_GES  PESO_NAC\n",
            "count  265838.0  265838.0\n",
            "mean       39.0    3147.0\n",
            "std         3.0     549.0\n",
            "min        15.0     208.0\n",
            "25%        38.0    2880.0\n",
            "50%        39.0    3180.0\n",
            "75%        40.0    3490.0\n",
            "max        99.0    9999.0\n"
          ]
        }
      ]
    },
    {
      "cell_type": "code",
      "source": [
        "f_bpnt_cali = ((df_final['Peso'] < 2500) & (df_final['Tiempo Gestación'] >= 37))\n",
        "conteo = f_bpnt_cali.sum()\n",
        "porcentaje = (conteo / len(df_final)) * 100\n",
        "\n",
        "print(((df_final['Peso'] < 2500 ) & (df_final['Tiempo Gestación'] >= 37)).value_counts())\n",
        "print(f'Número de nacidos vivos en Cali con BPNT: {conteo}')\n",
        "print(f'Porcentaje de nacidos vivos en el Valle con BPNT: {porcentaje:.2f}%')\n"
      ],
      "metadata": {
        "colab": {
          "base_uri": "https://localhost:8080/"
        },
        "id": "J2wpJ22qaNp9",
        "outputId": "9840d80d-d0e9-49d2-a013-3bd05b800de4"
      },
      "execution_count": 172,
      "outputs": [
        {
          "output_type": "stream",
          "name": "stdout",
          "text": [
            "False    365640\n",
            "True      11776\n",
            "dtype: int64\n",
            "Número de nacidos vivos en Cali con BPNT: 11776\n",
            "Porcentaje de nacidos vivos en el Valle con BPNT: 3.12%\n"
          ]
        }
      ]
    },
    {
      "cell_type": "code",
      "source": [
        "f_bpnt_valle = ((nac_valle['PESO_NAC'] < 2500 ) & (nac_valle['T_GES'] >= 37))\n",
        "conteo = f_bpnt_valle.sum()\n",
        "porcentaje = (conteo / len(df_final)) * 100\n",
        "\n",
        "print(((nac_valle['PESO_NAC'] < 2500 ) & (nac_valle['T_GES'] >= 37)).value_counts())\n",
        "print(f'Número de nacidos vivos en Cali con BPNT: {conteo}')\n",
        "print(f'Porcentaje de nacidos vivos en el Valle con BPNT: {porcentaje:.2f}%')\n"
      ],
      "metadata": {
        "colab": {
          "base_uri": "https://localhost:8080/"
        },
        "id": "f1BOMv1wXmpd",
        "outputId": "84f653e0-b970-4caf-ce63-d4917e0826de"
      },
      "execution_count": 173,
      "outputs": [
        {
          "output_type": "stream",
          "name": "stdout",
          "text": [
            "False    258117\n",
            "True       7721\n",
            "dtype: int64\n",
            "Número de nacidos vivos en Cali con BPNT: 7721\n",
            "Porcentaje de nacidos vivos en el Valle con BPNT: 2.05%\n"
          ]
        }
      ]
    },
    {
      "cell_type": "markdown",
      "source": [
        "### 2.2. Aplicación de los filtros: POBLACIÓN OBJETIVO"
      ],
      "metadata": {
        "id": "P-D52XVpbqg8"
      }
    },
    {
      "cell_type": "code",
      "source": [
        "nac_cali = df_final[f_bpnt_cali].copy()\n",
        "nac_valle = nac_valle[f_bpnt_valle].copy()\n",
        "\n",
        "print(nac_cali.shape)\n",
        "print(nac_valle.shape)"
      ],
      "metadata": {
        "colab": {
          "base_uri": "https://localhost:8080/"
        },
        "id": "ATWA8ns9bpEM",
        "outputId": "fb6e3185-3620-4453-e3d9-6d79c6120e60"
      },
      "execution_count": 174,
      "outputs": [
        {
          "output_type": "stream",
          "name": "stdout",
          "text": [
            "(11776, 51)\n",
            "(7721, 45)\n"
          ]
        }
      ]
    },
    {
      "cell_type": "markdown",
      "source": [
        "#### 2.2.1. PLUS: eliminar nacimientos fuera del valle"
      ],
      "metadata": {
        "id": "PLKyNRnItLr-"
      }
    },
    {
      "cell_type": "markdown",
      "source": [
        "Conclusión: En total se tienen 11.776 + 7721 = 19.497\n",
        " registros de nacimientos con BPNT sumados en las dos fuentes de datos. Sin embargo, antes de unirlos falta corroborar y descartar de una de las bases registros con cédulas que estén contenidos en ambos y que correspondan al mismo nacimiento (fecha de nacimiento)."
      ],
      "metadata": {
        "id": "W-a6S8S_kzXs"
      }
    },
    {
      "cell_type": "markdown",
      "source": [
        "### 2.3. ADICIONAL:  Recategorización de las variables y Se lección de Columnas\n",
        "\n",
        "Se recategorizan las variables del Valle del cauca con base en los valores asociados en df_mapeo que relaciona número y nombre, según el formulario de nacimientos RUAF.\n",
        "\n",
        "Las de Cali no necesitan recategorización."
      ],
      "metadata": {
        "id": "dFbPdLMeeXxL"
      }
    },
    {
      "cell_type": "code",
      "source": [
        "df_mapeo = pd.read_excel('/content/drive/My Drive/Datos_BPN2023/variables_codificar.xlsx')"
      ],
      "metadata": {
        "id": "_ij2URApeW-c"
      },
      "execution_count": 175,
      "outputs": []
    },
    {
      "cell_type": "code",
      "source": [
        "mapeo_dict = {}\n",
        "for columna in df_mapeo['name'].unique():\n",
        "    sub_df = df_mapeo[df_mapeo['name'] == columna].copy()\n",
        "    mapeo_dict[columna] = dict(zip(sub_df['numero'], sub_df['categoria']))\n",
        "for columna, mapeo in mapeo_dict.items():\n",
        "    nac_valle.loc[:,columna] = nac_valle.loc[:,columna].map(mapeo)"
      ],
      "metadata": {
        "id": "A3XZbP9ugSDc"
      },
      "execution_count": 176,
      "outputs": []
    },
    {
      "cell_type": "markdown",
      "source": [
        "#### Se seleccionan ***`parcialmente`*** las variables de interés colocandoseles el mismo nombre para su posterior unión. Se mantienen los nombres de las columnas del conjunto de datos de Cali"
      ],
      "metadata": {
        "id": "IEkBUk3ag_tH"
      }
    },
    {
      "cell_type": "code",
      "source": [
        "nac_cali = nac_cali[['Municipio Nacimiento' , 'Area Nacimiento' , 'Sitio Parto' , 'IPS' , 'Sexo' , 'Peso' , 'Talla' , 'Fecha Nacimiento' , 'Parto Atendido Por' , 'Tiempo Gestación' , 'Número Consultas Prenatales' , 'Tipo Parto' , 'Multiplicidad Embarazo' , 'APGAR1' , 'APGAR5' , 'Grupo Sanguineo' , 'Factor RH' , 'Pertenencia Étnica' , 'Pueblo Indígena' , 'Tipo Documento Madre' , 'Numero Documento Madre' , 'Edad Madre' , 'Estado Conyugal Madre' , 'Último Año Estudios Madre' , 'Municipio Residencia' , 'Área Residencia' , 'Número Hijos Nacidos Vivos' , 'Fecha Nacimiento Anterior Hijo' , 'Numero Embarazos' , 'Régimen Seguridad Social' , 'EPS' , 'Edad Padre' , 'Último Año Estudios Padre']]"
      ],
      "metadata": {
        "id": "GXwMVnzHhcU1"
      },
      "execution_count": 177,
      "outputs": []
    },
    {
      "cell_type": "code",
      "source": [
        "nac_valle=nac_valle[['COD_MUNIC' , 'AREANAC' , 'SIT_PARTO' , 'NOM_INST' , 'SEXO' , 'PESO_NAC' , 'TALLA_NAC' , 'FECHA_NAC' , 'ATEN_PAR' , 'T_GES' , 'NUMCONSUL' , 'TIPO_PARTO' , 'MUL_PARTO' , 'APGAR1' , 'APGAR2' , 'IDHEMOCLAS' , 'IDFACTORRH' , 'IDPERTET' , 'NOM_PUEB' , 'DOC_ID' , 'NRO_DOC' , 'EDAD_MADRE' , 'EST_CIVM' , 'NIV_EDUM' , 'CODMUNRE' , 'AREA_RES' , 'N_HIJOSV' , 'FECHA_NACM' , 'N_EMB' , 'SEG_SOCIAL' , 'NOMCLASAD' , 'EDAD_PADRE' , 'NIV_EDUP']]"
      ],
      "metadata": {
        "id": "2Lttmy89g-sU"
      },
      "execution_count": 178,
      "outputs": []
    },
    {
      "cell_type": "code",
      "source": [
        "nac_valle.columns = ['Municipio Nacimiento' , 'Area Nacimiento' , 'Sitio Parto' , 'IPS' , 'Sexo' , 'Peso' , 'Talla' , 'Fecha Nacimiento' , 'Parto Atendido Por' , 'Tiempo Gestación' , 'Número Consultas Prenatales' , 'Tipo Parto' , 'Multiplicidad Embarazo' , 'APGAR1' , 'APGAR5' , 'Grupo Sanguineo' , 'Factor RH' , 'Pertenencia Étnica' , 'Pueblo Indígena' , 'Tipo Documento Madre' , 'Numero Documento Madre' , 'Edad Madre' , 'Estado Conyugal Madre' , 'Último Año Estudios Madre' , 'Municipio Residencia' , 'Área Residencia' , 'Número Hijos Nacidos Vivos' , 'Fecha Nacimiento Anterior Hijo' , 'Numero Embarazos' , 'Régimen Seguridad Social' , 'EPS' , 'Edad Padre' , 'Último Año Estudios Padre']"
      ],
      "metadata": {
        "id": "GvPJx0A8iSYm"
      },
      "execution_count": 179,
      "outputs": []
    },
    {
      "cell_type": "code",
      "source": [
        "pd.DataFrame({'Col_cali': nac_cali.columns, 'Col_valle': nac_valle.columns}).T"
      ],
      "metadata": {
        "colab": {
          "base_uri": "https://localhost:8080/",
          "height": 265
        },
        "id": "-e88aksnjiol",
        "outputId": "2bdae033-eb8f-4f9a-dde4-2e5f4a1d61c4"
      },
      "execution_count": 180,
      "outputs": [
        {
          "output_type": "execute_result",
          "data": {
            "text/plain": [
              "                             0                1            2    3     4   \\\n",
              "Col_cali   Municipio Nacimiento  Area Nacimiento  Sitio Parto  IPS  Sexo   \n",
              "Col_valle  Municipio Nacimiento  Area Nacimiento  Sitio Parto  IPS  Sexo   \n",
              "\n",
              "             5      6                 7                   8   \\\n",
              "Col_cali   Peso  Talla  Fecha Nacimiento  Parto Atendido Por   \n",
              "Col_valle  Peso  Talla  Fecha Nacimiento  Parto Atendido Por   \n",
              "\n",
              "                         9   ...                         23  \\\n",
              "Col_cali   Tiempo Gestación  ...  Último Año Estudios Madre   \n",
              "Col_valle  Tiempo Gestación  ...  Último Año Estudios Madre   \n",
              "\n",
              "                             24               25                          26  \\\n",
              "Col_cali   Municipio Residencia  Área Residencia  Número Hijos Nacidos Vivos   \n",
              "Col_valle  Municipio Residencia  Área Residencia  Número Hijos Nacidos Vivos   \n",
              "\n",
              "                                       27                28  \\\n",
              "Col_cali   Fecha Nacimiento Anterior Hijo  Numero Embarazos   \n",
              "Col_valle  Fecha Nacimiento Anterior Hijo  Numero Embarazos   \n",
              "\n",
              "                                 29   30          31  \\\n",
              "Col_cali   Régimen Seguridad Social  EPS  Edad Padre   \n",
              "Col_valle  Régimen Seguridad Social  EPS  Edad Padre   \n",
              "\n",
              "                                  32  \n",
              "Col_cali   Último Año Estudios Padre  \n",
              "Col_valle  Último Año Estudios Padre  \n",
              "\n",
              "[2 rows x 33 columns]"
            ],
            "text/html": [
              "\n",
              "  <div id=\"df-17cf7d60-0901-476b-ae1b-c6f51f3f2f90\" class=\"colab-df-container\">\n",
              "    <div>\n",
              "<style scoped>\n",
              "    .dataframe tbody tr th:only-of-type {\n",
              "        vertical-align: middle;\n",
              "    }\n",
              "\n",
              "    .dataframe tbody tr th {\n",
              "        vertical-align: top;\n",
              "    }\n",
              "\n",
              "    .dataframe thead th {\n",
              "        text-align: right;\n",
              "    }\n",
              "</style>\n",
              "<table border=\"1\" class=\"dataframe\">\n",
              "  <thead>\n",
              "    <tr style=\"text-align: right;\">\n",
              "      <th></th>\n",
              "      <th>0</th>\n",
              "      <th>1</th>\n",
              "      <th>2</th>\n",
              "      <th>3</th>\n",
              "      <th>4</th>\n",
              "      <th>5</th>\n",
              "      <th>6</th>\n",
              "      <th>7</th>\n",
              "      <th>8</th>\n",
              "      <th>9</th>\n",
              "      <th>...</th>\n",
              "      <th>23</th>\n",
              "      <th>24</th>\n",
              "      <th>25</th>\n",
              "      <th>26</th>\n",
              "      <th>27</th>\n",
              "      <th>28</th>\n",
              "      <th>29</th>\n",
              "      <th>30</th>\n",
              "      <th>31</th>\n",
              "      <th>32</th>\n",
              "    </tr>\n",
              "  </thead>\n",
              "  <tbody>\n",
              "    <tr>\n",
              "      <th>Col_cali</th>\n",
              "      <td>Municipio Nacimiento</td>\n",
              "      <td>Area Nacimiento</td>\n",
              "      <td>Sitio Parto</td>\n",
              "      <td>IPS</td>\n",
              "      <td>Sexo</td>\n",
              "      <td>Peso</td>\n",
              "      <td>Talla</td>\n",
              "      <td>Fecha Nacimiento</td>\n",
              "      <td>Parto Atendido Por</td>\n",
              "      <td>Tiempo Gestación</td>\n",
              "      <td>...</td>\n",
              "      <td>Último Año Estudios Madre</td>\n",
              "      <td>Municipio Residencia</td>\n",
              "      <td>Área Residencia</td>\n",
              "      <td>Número Hijos Nacidos Vivos</td>\n",
              "      <td>Fecha Nacimiento Anterior Hijo</td>\n",
              "      <td>Numero Embarazos</td>\n",
              "      <td>Régimen Seguridad Social</td>\n",
              "      <td>EPS</td>\n",
              "      <td>Edad Padre</td>\n",
              "      <td>Último Año Estudios Padre</td>\n",
              "    </tr>\n",
              "    <tr>\n",
              "      <th>Col_valle</th>\n",
              "      <td>Municipio Nacimiento</td>\n",
              "      <td>Area Nacimiento</td>\n",
              "      <td>Sitio Parto</td>\n",
              "      <td>IPS</td>\n",
              "      <td>Sexo</td>\n",
              "      <td>Peso</td>\n",
              "      <td>Talla</td>\n",
              "      <td>Fecha Nacimiento</td>\n",
              "      <td>Parto Atendido Por</td>\n",
              "      <td>Tiempo Gestación</td>\n",
              "      <td>...</td>\n",
              "      <td>Último Año Estudios Madre</td>\n",
              "      <td>Municipio Residencia</td>\n",
              "      <td>Área Residencia</td>\n",
              "      <td>Número Hijos Nacidos Vivos</td>\n",
              "      <td>Fecha Nacimiento Anterior Hijo</td>\n",
              "      <td>Numero Embarazos</td>\n",
              "      <td>Régimen Seguridad Social</td>\n",
              "      <td>EPS</td>\n",
              "      <td>Edad Padre</td>\n",
              "      <td>Último Año Estudios Padre</td>\n",
              "    </tr>\n",
              "  </tbody>\n",
              "</table>\n",
              "<p>2 rows × 33 columns</p>\n",
              "</div>\n",
              "    <div class=\"colab-df-buttons\">\n",
              "\n",
              "  <div class=\"colab-df-container\">\n",
              "    <button class=\"colab-df-convert\" onclick=\"convertToInteractive('df-17cf7d60-0901-476b-ae1b-c6f51f3f2f90')\"\n",
              "            title=\"Convert this dataframe to an interactive table.\"\n",
              "            style=\"display:none;\">\n",
              "\n",
              "  <svg xmlns=\"http://www.w3.org/2000/svg\" height=\"24px\" viewBox=\"0 -960 960 960\">\n",
              "    <path d=\"M120-120v-720h720v720H120Zm60-500h600v-160H180v160Zm220 220h160v-160H400v160Zm0 220h160v-160H400v160ZM180-400h160v-160H180v160Zm440 0h160v-160H620v160ZM180-180h160v-160H180v160Zm440 0h160v-160H620v160Z\"/>\n",
              "  </svg>\n",
              "    </button>\n",
              "\n",
              "  <style>\n",
              "    .colab-df-container {\n",
              "      display:flex;\n",
              "      gap: 12px;\n",
              "    }\n",
              "\n",
              "    .colab-df-convert {\n",
              "      background-color: #E8F0FE;\n",
              "      border: none;\n",
              "      border-radius: 50%;\n",
              "      cursor: pointer;\n",
              "      display: none;\n",
              "      fill: #1967D2;\n",
              "      height: 32px;\n",
              "      padding: 0 0 0 0;\n",
              "      width: 32px;\n",
              "    }\n",
              "\n",
              "    .colab-df-convert:hover {\n",
              "      background-color: #E2EBFA;\n",
              "      box-shadow: 0px 1px 2px rgba(60, 64, 67, 0.3), 0px 1px 3px 1px rgba(60, 64, 67, 0.15);\n",
              "      fill: #174EA6;\n",
              "    }\n",
              "\n",
              "    .colab-df-buttons div {\n",
              "      margin-bottom: 4px;\n",
              "    }\n",
              "\n",
              "    [theme=dark] .colab-df-convert {\n",
              "      background-color: #3B4455;\n",
              "      fill: #D2E3FC;\n",
              "    }\n",
              "\n",
              "    [theme=dark] .colab-df-convert:hover {\n",
              "      background-color: #434B5C;\n",
              "      box-shadow: 0px 1px 3px 1px rgba(0, 0, 0, 0.15);\n",
              "      filter: drop-shadow(0px 1px 2px rgba(0, 0, 0, 0.3));\n",
              "      fill: #FFFFFF;\n",
              "    }\n",
              "  </style>\n",
              "\n",
              "    <script>\n",
              "      const buttonEl =\n",
              "        document.querySelector('#df-17cf7d60-0901-476b-ae1b-c6f51f3f2f90 button.colab-df-convert');\n",
              "      buttonEl.style.display =\n",
              "        google.colab.kernel.accessAllowed ? 'block' : 'none';\n",
              "\n",
              "      async function convertToInteractive(key) {\n",
              "        const element = document.querySelector('#df-17cf7d60-0901-476b-ae1b-c6f51f3f2f90');\n",
              "        const dataTable =\n",
              "          await google.colab.kernel.invokeFunction('convertToInteractive',\n",
              "                                                    [key], {});\n",
              "        if (!dataTable) return;\n",
              "\n",
              "        const docLinkHtml = 'Like what you see? Visit the ' +\n",
              "          '<a target=\"_blank\" href=https://colab.research.google.com/notebooks/data_table.ipynb>data table notebook</a>'\n",
              "          + ' to learn more about interactive tables.';\n",
              "        element.innerHTML = '';\n",
              "        dataTable['output_type'] = 'display_data';\n",
              "        await google.colab.output.renderOutput(dataTable, element);\n",
              "        const docLink = document.createElement('div');\n",
              "        docLink.innerHTML = docLinkHtml;\n",
              "        element.appendChild(docLink);\n",
              "      }\n",
              "    </script>\n",
              "  </div>\n",
              "\n",
              "\n",
              "<div id=\"df-90fd1d41-25e8-4a43-85f1-399857d6fe01\">\n",
              "  <button class=\"colab-df-quickchart\" onclick=\"quickchart('df-90fd1d41-25e8-4a43-85f1-399857d6fe01')\"\n",
              "            title=\"Suggest charts\"\n",
              "            style=\"display:none;\">\n",
              "\n",
              "<svg xmlns=\"http://www.w3.org/2000/svg\" height=\"24px\"viewBox=\"0 0 24 24\"\n",
              "     width=\"24px\">\n",
              "    <g>\n",
              "        <path d=\"M19 3H5c-1.1 0-2 .9-2 2v14c0 1.1.9 2 2 2h14c1.1 0 2-.9 2-2V5c0-1.1-.9-2-2-2zM9 17H7v-7h2v7zm4 0h-2V7h2v10zm4 0h-2v-4h2v4z\"/>\n",
              "    </g>\n",
              "</svg>\n",
              "  </button>\n",
              "\n",
              "<style>\n",
              "  .colab-df-quickchart {\n",
              "      --bg-color: #E8F0FE;\n",
              "      --fill-color: #1967D2;\n",
              "      --hover-bg-color: #E2EBFA;\n",
              "      --hover-fill-color: #174EA6;\n",
              "      --disabled-fill-color: #AAA;\n",
              "      --disabled-bg-color: #DDD;\n",
              "  }\n",
              "\n",
              "  [theme=dark] .colab-df-quickchart {\n",
              "      --bg-color: #3B4455;\n",
              "      --fill-color: #D2E3FC;\n",
              "      --hover-bg-color: #434B5C;\n",
              "      --hover-fill-color: #FFFFFF;\n",
              "      --disabled-bg-color: #3B4455;\n",
              "      --disabled-fill-color: #666;\n",
              "  }\n",
              "\n",
              "  .colab-df-quickchart {\n",
              "    background-color: var(--bg-color);\n",
              "    border: none;\n",
              "    border-radius: 50%;\n",
              "    cursor: pointer;\n",
              "    display: none;\n",
              "    fill: var(--fill-color);\n",
              "    height: 32px;\n",
              "    padding: 0;\n",
              "    width: 32px;\n",
              "  }\n",
              "\n",
              "  .colab-df-quickchart:hover {\n",
              "    background-color: var(--hover-bg-color);\n",
              "    box-shadow: 0 1px 2px rgba(60, 64, 67, 0.3), 0 1px 3px 1px rgba(60, 64, 67, 0.15);\n",
              "    fill: var(--button-hover-fill-color);\n",
              "  }\n",
              "\n",
              "  .colab-df-quickchart-complete:disabled,\n",
              "  .colab-df-quickchart-complete:disabled:hover {\n",
              "    background-color: var(--disabled-bg-color);\n",
              "    fill: var(--disabled-fill-color);\n",
              "    box-shadow: none;\n",
              "  }\n",
              "\n",
              "  .colab-df-spinner {\n",
              "    border: 2px solid var(--fill-color);\n",
              "    border-color: transparent;\n",
              "    border-bottom-color: var(--fill-color);\n",
              "    animation:\n",
              "      spin 1s steps(1) infinite;\n",
              "  }\n",
              "\n",
              "  @keyframes spin {\n",
              "    0% {\n",
              "      border-color: transparent;\n",
              "      border-bottom-color: var(--fill-color);\n",
              "      border-left-color: var(--fill-color);\n",
              "    }\n",
              "    20% {\n",
              "      border-color: transparent;\n",
              "      border-left-color: var(--fill-color);\n",
              "      border-top-color: var(--fill-color);\n",
              "    }\n",
              "    30% {\n",
              "      border-color: transparent;\n",
              "      border-left-color: var(--fill-color);\n",
              "      border-top-color: var(--fill-color);\n",
              "      border-right-color: var(--fill-color);\n",
              "    }\n",
              "    40% {\n",
              "      border-color: transparent;\n",
              "      border-right-color: var(--fill-color);\n",
              "      border-top-color: var(--fill-color);\n",
              "    }\n",
              "    60% {\n",
              "      border-color: transparent;\n",
              "      border-right-color: var(--fill-color);\n",
              "    }\n",
              "    80% {\n",
              "      border-color: transparent;\n",
              "      border-right-color: var(--fill-color);\n",
              "      border-bottom-color: var(--fill-color);\n",
              "    }\n",
              "    90% {\n",
              "      border-color: transparent;\n",
              "      border-bottom-color: var(--fill-color);\n",
              "    }\n",
              "  }\n",
              "</style>\n",
              "\n",
              "  <script>\n",
              "    async function quickchart(key) {\n",
              "      const quickchartButtonEl =\n",
              "        document.querySelector('#' + key + ' button');\n",
              "      quickchartButtonEl.disabled = true;  // To prevent multiple clicks.\n",
              "      quickchartButtonEl.classList.add('colab-df-spinner');\n",
              "      try {\n",
              "        const charts = await google.colab.kernel.invokeFunction(\n",
              "            'suggestCharts', [key], {});\n",
              "      } catch (error) {\n",
              "        console.error('Error during call to suggestCharts:', error);\n",
              "      }\n",
              "      quickchartButtonEl.classList.remove('colab-df-spinner');\n",
              "      quickchartButtonEl.classList.add('colab-df-quickchart-complete');\n",
              "    }\n",
              "    (() => {\n",
              "      let quickchartButtonEl =\n",
              "        document.querySelector('#df-90fd1d41-25e8-4a43-85f1-399857d6fe01 button');\n",
              "      quickchartButtonEl.style.display =\n",
              "        google.colab.kernel.accessAllowed ? 'block' : 'none';\n",
              "    })();\n",
              "  </script>\n",
              "</div>\n",
              "    </div>\n",
              "  </div>\n"
            ]
          },
          "metadata": {},
          "execution_count": 180
        }
      ]
    },
    {
      "cell_type": "code",
      "source": [
        "nac_cali.shape"
      ],
      "metadata": {
        "colab": {
          "base_uri": "https://localhost:8080/"
        },
        "id": "OKHbzZFjI6DQ",
        "outputId": "41ed442b-3663-49d7-8af7-062e73b7e5ca"
      },
      "execution_count": 181,
      "outputs": [
        {
          "output_type": "execute_result",
          "data": {
            "text/plain": [
              "(11776, 33)"
            ]
          },
          "metadata": {},
          "execution_count": 181
        }
      ]
    },
    {
      "cell_type": "markdown",
      "source": [
        "## PARTE 3. UNIÓN DE LOS CONJUNTOS DE DATOS VALLE Y CALI EN UNO SOLO\n",
        "\n",
        "3.4.2. APLICACIÓN DE LOS FILTROS:\n",
        "\n",
        "Antes de unir los data sets, se elabora una comparación mediante las llaves de integración (Número de documento y fecha de nacimiento).\n",
        "Para responder a la pregunta:\n",
        "\n",
        "¿Cuáles de los registros corresponden a los mismos nacimientos?. Y teniendo como base la fuente de Cali, se eliminarán aquellos encontrados como repetidos de la fuente de Valle del cauca.\n"
      ],
      "metadata": {
        "id": "uRo1bQkvUM7s"
      }
    },
    {
      "cell_type": "markdown",
      "source": [
        "### 3.1. CONSTRUCCIÓN DE LOS FILTROS 2: CÉDULAS REDUNDANTES.\n",
        "\n",
        "Se necesita unir los datos y valle en uno solo. pero antes, se corrobora que la unión no contenga datos que estén duplicados y/o que antes de hacer los filtros haya necesidad de mantener."
      ],
      "metadata": {
        "id": "FyaxL0sakNul"
      }
    },
    {
      "cell_type": "markdown",
      "source": [
        "#### Subfiltro : Quítamos registros con número de identificación faltante."
      ],
      "metadata": {
        "id": "u6_XcNxq0xB2"
      }
    },
    {
      "cell_type": "code",
      "source": [
        "((nac_cali['Numero Documento Madre'] == 99999999999)|\n",
        " (nac_cali['Numero Documento Madre'].isna())|\n",
        " (nac_cali['Numero Documento Madre'] == 0)).value_counts()"
      ],
      "metadata": {
        "colab": {
          "base_uri": "https://localhost:8080/"
        },
        "id": "-Jrp-oSnVeja",
        "outputId": "e67a1e36-2f8c-4e26-ef36-5ef4f0a2d2d4"
      },
      "execution_count": 182,
      "outputs": [
        {
          "output_type": "execute_result",
          "data": {
            "text/plain": [
              "False    11725\n",
              "True        51\n",
              "Name: Numero Documento Madre, dtype: int64"
            ]
          },
          "metadata": {},
          "execution_count": 182
        }
      ]
    },
    {
      "cell_type": "code",
      "source": [
        "((nac_valle['Numero Documento Madre'] == 99999999999)|\n",
        " (nac_valle['Numero Documento Madre'].isna())|\n",
        " (nac_valle['Numero Documento Madre'] == 0)).value_counts()"
      ],
      "metadata": {
        "id": "wfXaQQ7eVxdK",
        "colab": {
          "base_uri": "https://localhost:8080/"
        },
        "outputId": "f29d023f-4f55-4715-9ded-3528f991b4b9"
      },
      "execution_count": 183,
      "outputs": [
        {
          "output_type": "execute_result",
          "data": {
            "text/plain": [
              "False    7682\n",
              "True       39\n",
              "Name: Numero Documento Madre, dtype: int64"
            ]
          },
          "metadata": {},
          "execution_count": 183
        }
      ]
    },
    {
      "cell_type": "code",
      "source": [
        "f_idna_cali = ((nac_cali['Numero Documento Madre'] == 99999999999)|\n",
        " (nac_cali['Numero Documento Madre'].isna())|\n",
        " (nac_cali['Numero Documento Madre'] == 0))\n",
        "\n",
        "f_idna_valle = ((nac_valle['Numero Documento Madre'] == 99999999999)|\n",
        " (nac_valle['Numero Documento Madre'].isna())|\n",
        " (nac_valle['Numero Documento Madre'] == 0))"
      ],
      "metadata": {
        "id": "N2pxms-e0_6O"
      },
      "execution_count": 184,
      "outputs": []
    },
    {
      "cell_type": "code",
      "source": [
        "nac_cali = nac_cali[~f_idna_cali].copy()\n",
        "nac_valle = nac_valle[~f_idna_valle].copy()"
      ],
      "metadata": {
        "id": "jU-GJ2JT1ReN"
      },
      "execution_count": 185,
      "outputs": []
    },
    {
      "cell_type": "markdown",
      "source": [
        "#### Convertimos a formato fecha asegurandonos de que no hayan filtros con fechas vacías:"
      ],
      "metadata": {
        "id": "--saWzDO54s-"
      }
    },
    {
      "cell_type": "code",
      "source": [
        "pd.to_datetime(nac_cali['Fecha Nacimiento'], errors = 'coerce').isna().value_counts()"
      ],
      "metadata": {
        "colab": {
          "base_uri": "https://localhost:8080/"
        },
        "id": "5c8EoU2NaHPh",
        "outputId": "f6096913-47f2-47c3-d40d-9b8f16ba3ff6"
      },
      "execution_count": 186,
      "outputs": [
        {
          "output_type": "execute_result",
          "data": {
            "text/plain": [
              "False    11725\n",
              "Name: Fecha Nacimiento, dtype: int64"
            ]
          },
          "metadata": {},
          "execution_count": 186
        }
      ]
    },
    {
      "cell_type": "code",
      "source": [
        "pd.to_datetime(nac_valle['Fecha Nacimiento'], errors = 'coerce').isna().value_counts()"
      ],
      "metadata": {
        "colab": {
          "base_uri": "https://localhost:8080/"
        },
        "id": "ZI3JNd92czDq",
        "outputId": "beb0b52c-ffd1-4f9a-ba64-836a10d20210"
      },
      "execution_count": 187,
      "outputs": [
        {
          "output_type": "stream",
          "name": "stderr",
          "text": [
            "<ipython-input-187-bc17c2fd696c>:1: UserWarning: Parsing dates in DD/MM/YYYY format when dayfirst=False (the default) was specified. This may lead to inconsistently parsed dates! Specify a format to ensure consistent parsing.\n",
            "  pd.to_datetime(nac_valle['Fecha Nacimiento'], errors = 'coerce').isna().value_counts()\n"
          ]
        },
        {
          "output_type": "execute_result",
          "data": {
            "text/plain": [
              "False    7682\n",
              "Name: Fecha Nacimiento, dtype: int64"
            ]
          },
          "metadata": {},
          "execution_count": 187
        }
      ]
    },
    {
      "cell_type": "code",
      "source": [
        "# COMO TODAS LAS FECHAS ESTUVIERON BIEN CONVERTIDAS AHORA SE REEMPLAZAN LA MISMA FUNCIÓN EN EN CADA DATA FRAME:\n",
        "nac_cali['Fecha Nacimiento'] = pd.to_datetime(nac_cali['Fecha Nacimiento'], errors = 'coerce')\n",
        "nac_valle['Fecha Nacimiento'] = pd.to_datetime(nac_valle['Fecha Nacimiento'], errors = 'coerce')"
      ],
      "metadata": {
        "colab": {
          "base_uri": "https://localhost:8080/"
        },
        "id": "96A9x9bXfamh",
        "outputId": "884c4147-9f5a-4b05-cf31-b9305a0d717e"
      },
      "execution_count": 188,
      "outputs": [
        {
          "output_type": "stream",
          "name": "stderr",
          "text": [
            "<ipython-input-188-899dbef886de>:3: UserWarning: Parsing dates in DD/MM/YYYY format when dayfirst=False (the default) was specified. This may lead to inconsistently parsed dates! Specify a format to ensure consistent parsing.\n",
            "  nac_valle['Fecha Nacimiento'] = pd.to_datetime(nac_valle['Fecha Nacimiento'], errors = 'coerce')\n"
          ]
        }
      ]
    },
    {
      "cell_type": "markdown",
      "source": [
        "#### CRUCE DE NUMERO DE IDENTIFICACIÓN - VERIFICACIÓN DE DATOS REDUNDANTES.\n",
        "\n",
        "Se localizan los índices de los registros duplicados en el conjunto de datos del Valle con respecto a Cali.\n",
        "Elimina esos registros duplicados del conjunto de datos del Valle."
      ],
      "metadata": {
        "id": "sqxpmXMq955O"
      }
    },
    {
      "cell_type": "code",
      "source": [
        "# VOLVEMOS COMPARABLES LAS ID\n",
        "nac_cali['Numero Documento Madre'] = nac_cali['Numero Documento Madre'].astype(str)\n",
        "nac_valle['Numero Documento Madre'] = nac_valle['Numero Documento Madre'].astype(int).astype(str)"
      ],
      "metadata": {
        "id": "UuOfMC7ZFCnQ"
      },
      "execution_count": 189,
      "outputs": []
    },
    {
      "cell_type": "code",
      "source": [
        "nac_cali['Fecha Nacimiento']"
      ],
      "metadata": {
        "colab": {
          "base_uri": "https://localhost:8080/"
        },
        "id": "GOYWdZE8HEXQ",
        "outputId": "ec8cc623-1131-405f-98f4-1a495499e224"
      },
      "execution_count": 190,
      "outputs": [
        {
          "output_type": "execute_result",
          "data": {
            "text/plain": [
              "42       2020-01-11\n",
              "53       2020-01-15\n",
              "57       2020-01-15\n",
              "79       2020-01-09\n",
              "116      2020-01-26\n",
              "            ...    \n",
              "402185   2013-02-01\n",
              "402208   2013-02-11\n",
              "402215   2013-05-13\n",
              "402228   2013-07-03\n",
              "402250   2013-09-05\n",
              "Name: Fecha Nacimiento, Length: 11725, dtype: datetime64[ns]"
            ]
          },
          "metadata": {},
          "execution_count": 190
        }
      ]
    },
    {
      "cell_type": "code",
      "source": [
        "nac_valle[['Numero Documento Madre', 'Fecha Nacimiento']].isin(nac_cali[['Numero Documento Madre', 'Fecha Nacimiento']]).all(axis=1).value_counts()"
      ],
      "metadata": {
        "colab": {
          "base_uri": "https://localhost:8080/"
        },
        "id": "o8aVLpPzAUyg",
        "outputId": "1f5c6be3-178b-409b-a83c-b9aad5e88e48"
      },
      "execution_count": 191,
      "outputs": [
        {
          "output_type": "execute_result",
          "data": {
            "text/plain": [
              "False    7682\n",
              "dtype: int64"
            ]
          },
          "metadata": {},
          "execution_count": 191
        }
      ]
    },
    {
      "cell_type": "code",
      "source": [
        "nac_cali[['Numero Documento Madre', 'Fecha Nacimiento']].isin(nac_valle[['Numero Documento Madre', 'Fecha Nacimiento']]).all(axis=1).value_counts()"
      ],
      "metadata": {
        "colab": {
          "base_uri": "https://localhost:8080/"
        },
        "id": "zIga1G-jAvF-",
        "outputId": "64e80ff6-3484-44da-855b-44b2907197ea"
      },
      "execution_count": 192,
      "outputs": [
        {
          "output_type": "execute_result",
          "data": {
            "text/plain": [
              "False    11725\n",
              "dtype: int64"
            ]
          },
          "metadata": {},
          "execution_count": 192
        }
      ]
    },
    {
      "cell_type": "markdown",
      "source": [
        "No se encontraron duplicados. ❗ ⚠"
      ],
      "metadata": {
        "id": "kIMvwpNXH_hl"
      }
    },
    {
      "cell_type": "code",
      "source": [
        "'''ALTERNATIVA PARA HACERLO CON LA CREACIÓN DE LLAVES: AL CORRERAR EN UNA CELDA TEMPORAL DIO EL MISMO RESULTADO.\n",
        "\n",
        "# Crear una nueva columna llamada 'llave' que concatena 'ID' y 'fecha_nacimiento' en ambos DataFrames\n",
        "nac_valle['llave'] = nac_valle['ID'].astype(str) + nac_valle['fecha_nacimiento'].astype(str)\n",
        "nac_cali['llave'] = nac_cali['ID'].astype(str) + nac_cali['fecha_nacimiento'].astype(str)\n",
        "\n",
        "# Buscar duplicados en 'llave' en nac_valle\n",
        "indices_duplicados_valle = nac_valle[nac_valle['llave'].isin(nac_cali['llave'])].index\n"
      ],
      "metadata": {
        "colab": {
          "base_uri": "https://localhost:8080/"
        },
        "id": "s7YM1K_V_YB1",
        "outputId": "cd4e1c59-52f7-4d63-ba6c-f08f772715ee"
      },
      "execution_count": 110,
      "outputs": [
        {
          "output_type": "execute_result",
          "data": {
            "text/plain": [
              "Int64Index([], dtype='int64')"
            ]
          },
          "metadata": {},
          "execution_count": 110
        }
      ]
    },
    {
      "cell_type": "markdown",
      "source": [
        "NO SE ENCONTRARON NACIMIENTOS REPETIDOS. PROCEDEMOS A JUNTARLOS"
      ],
      "metadata": {
        "id": "DTOLjTj0CqYV"
      }
    },
    {
      "cell_type": "code",
      "source": [
        "nac_cali.info()"
      ],
      "metadata": {
        "colab": {
          "base_uri": "https://localhost:8080/"
        },
        "id": "inGmZy6iIi5X",
        "outputId": "8a6856d4-f025-47fc-83f3-250e7bb620fb"
      },
      "execution_count": 193,
      "outputs": [
        {
          "output_type": "stream",
          "name": "stdout",
          "text": [
            "<class 'pandas.core.frame.DataFrame'>\n",
            "Int64Index: 11725 entries, 42 to 402250\n",
            "Data columns (total 33 columns):\n",
            " #   Column                          Non-Null Count  Dtype         \n",
            "---  ------                          --------------  -----         \n",
            " 0   Municipio Nacimiento            11725 non-null  object        \n",
            " 1   Area Nacimiento                 11725 non-null  object        \n",
            " 2   Sitio Parto                     11725 non-null  object        \n",
            " 3   IPS                             11721 non-null  object        \n",
            " 4   Sexo                            11725 non-null  object        \n",
            " 5   Peso                            11725 non-null  float64       \n",
            " 6   Talla                           11725 non-null  float64       \n",
            " 7   Fecha Nacimiento                11725 non-null  datetime64[ns]\n",
            " 8   Parto Atendido Por              11725 non-null  object        \n",
            " 9   Tiempo Gestación                11725 non-null  float64       \n",
            " 10  Número Consultas Prenatales     11724 non-null  float64       \n",
            " 11  Tipo Parto                      11725 non-null  object        \n",
            " 12  Multiplicidad Embarazo          11725 non-null  object        \n",
            " 13  APGAR1                          11686 non-null  float64       \n",
            " 14  APGAR5                          11686 non-null  float64       \n",
            " 15  Grupo Sanguineo                 11648 non-null  object        \n",
            " 16  Factor RH                       11648 non-null  object        \n",
            " 17  Pertenencia Étnica              11725 non-null  object        \n",
            " 18  Pueblo Indígena                 26 non-null     object        \n",
            " 19  Tipo Documento Madre            11725 non-null  object        \n",
            " 20  Numero Documento Madre          11725 non-null  object        \n",
            " 21  Edad Madre                      11725 non-null  int64         \n",
            " 22  Estado Conyugal Madre           11725 non-null  object        \n",
            " 23  Último Año Estudios Madre       11725 non-null  object        \n",
            " 24  Municipio Residencia            11725 non-null  object        \n",
            " 25  Área Residencia                 11725 non-null  object        \n",
            " 26  Número Hijos Nacidos Vivos      11725 non-null  float64       \n",
            " 27  Fecha Nacimiento Anterior Hijo  11725 non-null  object        \n",
            " 28  Numero Embarazos                11724 non-null  float64       \n",
            " 29  Régimen Seguridad Social        11725 non-null  object        \n",
            " 30  EPS                             10674 non-null  object        \n",
            " 31  Edad Padre                      11439 non-null  float64       \n",
            " 32  Último Año Estudios Padre       11724 non-null  object        \n",
            "dtypes: datetime64[ns](1), float64(9), int64(1), object(22)\n",
            "memory usage: 3.3+ MB\n"
          ]
        }
      ]
    },
    {
      "cell_type": "code",
      "source": [
        "nac_valle_total = pd.concat([nac_cali, nac_valle])"
      ],
      "metadata": {
        "id": "lD-rJPICL532"
      },
      "execution_count": 207,
      "outputs": []
    },
    {
      "cell_type": "code",
      "source": [
        "nac_valle_total.shape"
      ],
      "metadata": {
        "colab": {
          "base_uri": "https://localhost:8080/"
        },
        "id": "jq2ekh5aL6v3",
        "outputId": "3b4c0479-093b-4a07-f85d-286e99cc2748"
      },
      "execution_count": 203,
      "outputs": [
        {
          "output_type": "execute_result",
          "data": {
            "text/plain": [
              "(19407, 33)"
            ]
          },
          "metadata": {},
          "execution_count": 203
        }
      ]
    },
    {
      "cell_type": "code",
      "source": [
        "nac_valle_total = nac_valle_total.sort_values(by='Fecha Nacimiento')\n",
        "nac_valle_total['Año'] = nac_valle_total['Fecha Nacimiento'].dt.year\n",
        "nac_valle_total = df_final.applymap(lambda x: x.strip() if isinstance(x, str) else x)"
      ],
      "metadata": {
        "id": "gXbbkr_ZHbEl"
      },
      "execution_count": 209,
      "outputs": []
    },
    {
      "cell_type": "code",
      "source": [
        "nac_valle_total.to_csv('nac_valle_total_V2.csv', index=False)"
      ],
      "metadata": {
        "id": "CYaLb1AlMva2"
      },
      "execution_count": 210,
      "outputs": []
    },
    {
      "cell_type": "markdown",
      "source": [
        "# CAPITULO 2. PREPROCESAMIENTO PARA MORTALIDAD"
      ],
      "metadata": {
        "id": "tkMywgqSjM7U"
      }
    },
    {
      "cell_type": "markdown",
      "source": [
        "## 2.1. CARGA DE DATOS DEFUNCIONES CALI Y VALLE"
      ],
      "metadata": {
        "id": "o9hKdnO7Pq6G"
      }
    },
    {
      "cell_type": "code",
      "source": [
        "from google.colab import drive\n",
        "drive.mount('/content/drive')"
      ],
      "metadata": {
        "colab": {
          "base_uri": "https://localhost:8080/"
        },
        "id": "fXhr-E8vNOtO",
        "outputId": "257bbb29-6838-452d-d5bc-0c92e8772775"
      },
      "execution_count": 212,
      "outputs": [
        {
          "output_type": "stream",
          "name": "stdout",
          "text": [
            "Drive already mounted at /content/drive; to attempt to forcibly remount, call drive.mount(\"/content/drive\", force_remount=True).\n"
          ]
        }
      ]
    },
    {
      "cell_type": "code",
      "source": [
        "directorio = '/content/drive/My Drive/Datos_BPN2023'"
      ],
      "metadata": {
        "id": "QU8DLrTQNNYm"
      },
      "execution_count": 213,
      "outputs": []
    },
    {
      "cell_type": "code",
      "source": [
        "dfs2 = []\n",
        "\n",
        "# Directorio donde se encuentran los archivos de Excel\n",
        "anyo_ini=2011\n",
        "for filename in os.listdir(directorio):\n",
        "    if filename.startswith(\"MORTAL\") and filename.endswith(('xls', 'xlsx')):  # Filtrar si el archivo es de nacimiento\n",
        "\n",
        "        df = pd.read_excel(os.path.join(directorio, filename))\n",
        "        df['anyo']=anyo_ini\n",
        "        print(filename)\n",
        "        dfs2.append(df)\n",
        "        anyo_ini=anyo_ini+1"
      ],
      "metadata": {
        "colab": {
          "base_uri": "https://localhost:8080/"
        },
        "id": "ZtU1jvQCMtKX",
        "outputId": "e6c75c3b-fe99-4589-8875-cf46a7691cc3"
      },
      "execution_count": 214,
      "outputs": [
        {
          "output_type": "stream",
          "name": "stdout",
          "text": [
            "MORTAL 2018.xlsx\n",
            "MORTAL 2022.xlsx\n",
            "MORTAL 2017.xlsx\n",
            "MORTAL 2019.xlsx\n",
            "MORTAL 2021.xlsx\n",
            "MORTAL 2016.xlsx\n",
            "MORTAL 2020.xlsx\n",
            "MORTAL 2014.xlsx\n",
            "MORTAL 2012.xlsx\n",
            "MORTAL 2011.xlsx\n",
            "MORTAL 2013.xlsx\n",
            "MORTAL 2015.xlsx\n"
          ]
        }
      ]
    },
    {
      "cell_type": "code",
      "source": [
        "dfs_mort=list(map(lambda x: x[['Fecha Defunción','Sexo','Tipo Edad Fallecido','Edad Fallecido','Probable Manera Muerte','Tiempo Gestación','Peso','Tipo Documento Madre','Número Documento Madre','Municipio Residencia', 'Municipio Defunción','Diagnóstico A','anyo']], dfs2))"
      ],
      "metadata": {
        "id": "2KSwDSNANJpG"
      },
      "execution_count": 215,
      "outputs": []
    },
    {
      "cell_type": "code",
      "source": [
        "df_mort = pd.concat(dfs_mort, ignore_index=True)"
      ],
      "metadata": {
        "id": "_oXqZzFXNYtf"
      },
      "execution_count": 216,
      "outputs": []
    },
    {
      "cell_type": "code",
      "source": [
        "mort_valle=pd.read_excel('/content/drive/My Drive/Datos_BPN2023/BD_Def_2011_2021_HABC_v2_(1).xlsx')"
      ],
      "metadata": {
        "id": "sBGw6hreM_On"
      },
      "execution_count": 217,
      "outputs": []
    },
    {
      "cell_type": "code",
      "source": [
        "def_cali = df_mort[['Fecha Defunción', 'Sexo', 'Tipo Edad Fallecido', 'Edad Fallecido',\n",
        "       'Probable Manera Muerte', 'Tiempo Gestación', 'Peso',\n",
        "       'Tipo Documento Madre', 'Número Documento Madre',\n",
        "       'Municipio Residencia', 'Municipio Defunción', 'Diagnóstico A']].copy()"
      ],
      "metadata": {
        "id": "frw4NZHpN65v"
      },
      "execution_count": 218,
      "outputs": []
    },
    {
      "cell_type": "code",
      "source": [
        "def_valle = mort_valle[['FECHA_DEF' , 'SEXO' , 'Tipo Edad Fallecido' , 'Edad Fallecido' ,\n",
        "                      'PMAN_MUER' , 'T_GES' , 'PESO_NAC' , 'DOC_IDM' , 'NRO_DOCM' ,'CODMUNRE','COD_MUNIC', 'N_DIR1']].copy()"
      ],
      "metadata": {
        "id": "th1cCcALN-c1"
      },
      "execution_count": 223,
      "outputs": []
    },
    {
      "cell_type": "code",
      "source": [
        "df_mapeo = pd.read_excel(\"/content/drive/My Drive/Datos_BPN2023/codificacion variables mortalidad.xlsx\")"
      ],
      "metadata": {
        "id": "Zjsld3WBNnm-"
      },
      "execution_count": 221,
      "outputs": []
    },
    {
      "cell_type": "code",
      "source": [
        "mapeo_dict = {}\n",
        "for columna in df_mapeo['name'].unique():\n",
        "    sub_df = df_mapeo[df_mapeo['name'] == columna].copy()\n",
        "    mapeo_dict[columna] = dict(zip(sub_df['numero'], sub_df['categoria']))\n",
        "for columna, mapeo in mapeo_dict.items():\n",
        "    def_valle.loc[:,columna] = def_valle.loc[:,columna].map(mapeo)"
      ],
      "metadata": {
        "id": "c9V9UdWLPgde"
      },
      "execution_count": 224,
      "outputs": []
    },
    {
      "cell_type": "code",
      "source": [
        "def_valle.columns = ['Fecha Defunción', 'Sexo', 'Tipo Edad Fallecido', 'Edad Fallecido',\n",
        "       'Probable Manera Muerte', 'Tiempo Gestación', 'Peso',\n",
        "       'Tipo Documento Madre', 'Número Documento Madre',\n",
        "       'Municipio Residencia', 'Municipio Defunción', 'Diagnóstico A']"
      ],
      "metadata": {
        "id": "tUyXKTLYOqM-"
      },
      "execution_count": 225,
      "outputs": []
    },
    {
      "cell_type": "code",
      "source": [
        "print(def_valle.shape)\n",
        "print(def_cali.shape)"
      ],
      "metadata": {
        "colab": {
          "base_uri": "https://localhost:8080/"
        },
        "id": "Ol8j5HCEPomf",
        "outputId": "c7519280-3a21-4070-c29d-621730e28621"
      },
      "execution_count": 226,
      "outputs": [
        {
          "output_type": "stream",
          "name": "stdout",
          "text": [
            "(144067, 12)\n",
            "(231643, 12)\n"
          ]
        }
      ]
    },
    {
      "cell_type": "markdown",
      "source": [
        "## 2.2. FILTROS PARA LLEGAR A LAS DEFUNCIONES OBJETIVOS"
      ],
      "metadata": {
        "id": "zu2eURHLQJdQ"
      }
    },
    {
      "cell_type": "markdown",
      "source": [
        "FILTRO 1: APROVECHANDO LA VARIABLE TIPO EDAD MUERTE BUSCAMOS FILTRAR PRIMERO TODAS LAS MUERTES INFANTILES MENORES A UN AÑO."
      ],
      "metadata": {
        "id": "CbeHs91MTyHv"
      }
    },
    {
      "cell_type": "code",
      "source": [
        "def_valle['Tipo Edad Fallecido'].value_counts()"
      ],
      "metadata": {
        "colab": {
          "base_uri": "https://localhost:8080/"
        },
        "id": "fg72flgbQFHm",
        "outputId": "30708c48-9654-48f9-dc15-6a28d252a1fb"
      },
      "execution_count": 227,
      "outputs": [
        {
          "output_type": "execute_result",
          "data": {
            "text/plain": [
              "DE UN AÑO O  MAS (EN AÑOS CUMPLIDOS)    141119\n",
              "MENOR DE 1 MES (EN DÍAS)                  1419\n",
              "MENOR DE 1 AÑO (EN MESES)                  906\n",
              "MENOR DE 1 DÍA (EN HORAS)                  425\n",
              "MENOR DE 1 HORA (EN MINUTOS)               181\n",
              "Name: Tipo Edad Fallecido, dtype: int64"
            ]
          },
          "metadata": {},
          "execution_count": 227
        }
      ]
    },
    {
      "cell_type": "code",
      "source": [
        "def_cali['Tipo Edad Fallecido'].value_counts()"
      ],
      "metadata": {
        "colab": {
          "base_uri": "https://localhost:8080/"
        },
        "id": "ToPl57fKUp6K",
        "outputId": "cde872ba-ba99-427c-ebf8-376eea8da55c"
      },
      "execution_count": 252,
      "outputs": [
        {
          "output_type": "execute_result",
          "data": {
            "text/plain": [
              "DE UN AÑO O  MAS (EN AÑOS CUMPLIDOS)    191405\n",
              "MENOR DE 1 MES (EN DÍAS)                  2472\n",
              "MENOR DE 1 AÑO (EN MESES)                 1587\n",
              "MENOR DE 1 DÍA (EN HORAS)                  616\n",
              "MENOR DE 1 HORA (EN MINUTOS)               255\n",
              "Name: Tipo Edad Fallecido, dtype: int64"
            ]
          },
          "metadata": {},
          "execution_count": 252
        }
      ]
    },
    {
      "cell_type": "markdown",
      "source": [
        "Con la siguiente impresión corroboraremos que una vez quitados los valores de la variable Tipo de Edad Fallecido 'UN AÑO O MÁS' no se queden descartados valores de menores a un año por error. Es decir corroboramos la calidad del filtro."
      ],
      "metadata": {
        "id": "Z3FOrpYcSL72"
      }
    },
    {
      "cell_type": "code",
      "source": [
        "print(def_valle[def_valle['Tipo Edad Fallecido'] == 'DE UN AÑO O  MAS (EN AÑOS CUMPLIDOS)']['Tiempo Gestación'].isna().value_counts())\n",
        "print(def_valle[def_valle['Tipo Edad Fallecido'] == 'DE UN AÑO O  MAS (EN AÑOS CUMPLIDOS)']['Peso'].isna().value_counts())\n",
        "print(def_valle[def_valle['Tipo Edad Fallecido'] == 'DE UN AÑO O  MAS (EN AÑOS CUMPLIDOS)']['Tipo Documento Madre'].isna().value_counts())"
      ],
      "metadata": {
        "colab": {
          "base_uri": "https://localhost:8080/"
        },
        "id": "l49TyDeMQ7hd",
        "outputId": "d73af23a-384d-4984-a51b-336e3cf3d63a"
      },
      "execution_count": 239,
      "outputs": [
        {
          "output_type": "stream",
          "name": "stdout",
          "text": [
            "True    141119\n",
            "Name: Tiempo Gestación, dtype: int64\n",
            "False    93234\n",
            "True     47885\n",
            "Name: Peso, dtype: int64\n",
            "True     141109\n",
            "False        10\n",
            "Name: Tipo Documento Madre, dtype: int64\n"
          ]
        }
      ]
    },
    {
      "cell_type": "code",
      "source": [
        "print(def_cali[def_cali['Tipo Edad Fallecido'] == 'DE UN AÑO O  MAS (EN AÑOS CUMPLIDOS)']['Tiempo Gestación'].isna().value_counts())\n",
        "print(def_cali[def_cali['Tipo Edad Fallecido'] == 'DE UN AÑO O  MAS (EN AÑOS CUMPLIDOS)']['Peso'].isna().value_counts())\n",
        "print(def_cali[def_cali['Tipo Edad Fallecido'] == 'DE UN AÑO O  MAS (EN AÑOS CUMPLIDOS)']['Tipo Documento Madre'].isna().value_counts())"
      ],
      "metadata": {
        "colab": {
          "base_uri": "https://localhost:8080/"
        },
        "id": "db73mbT0S34W",
        "outputId": "09fb9ed4-11bc-4d9a-b916-608ede68c13f"
      },
      "execution_count": 245,
      "outputs": [
        {
          "output_type": "stream",
          "name": "stdout",
          "text": [
            "True    191405\n",
            "Name: Tiempo Gestación, dtype: int64\n",
            "True    191405\n",
            "Name: Peso, dtype: int64\n",
            "True    191405\n",
            "Name: Tipo Documento Madre, dtype: int64\n"
          ]
        }
      ]
    },
    {
      "cell_type": "markdown",
      "source": [
        "Todos deberían dar true porque se cuentan valores vacios. como vimos que en valle, el peso hay gran cantidad de no vacios. imprimimos un `\".describe\"`: Para darnos cuenta que aunque no son vacíos siguen siendo 0.0. En conclusión, hacer dicho filtro para llegar a los menores a un año es correcto."
      ],
      "metadata": {
        "id": "0M-AmzU1SfvF"
      }
    },
    {
      "cell_type": "code",
      "source": [
        "f_menoraño_cali = def_cali['Tipo Edad Fallecido'] != 'DE UN AÑO O  MAS (EN AÑOS CUMPLIDOS)'\n",
        "f_menoraño_valle = def_valle['Tipo Edad Fallecido'] != 'DE UN AÑO O  MAS (EN AÑOS CUMPLIDOS)'"
      ],
      "metadata": {
        "id": "o6elU7xsTHwZ"
      },
      "execution_count": 253,
      "outputs": []
    },
    {
      "cell_type": "code",
      "source": [
        "(def_valle['Tipo Edad Fallecido'] != 'DE UN AÑO O  MAS (EN AÑOS CUMPLIDOS)').value_counts()"
      ],
      "metadata": {
        "colab": {
          "base_uri": "https://localhost:8080/"
        },
        "id": "jyemC1ezVOXe",
        "outputId": "055cbeaa-c3ad-44ea-f3be-2d55af609056"
      },
      "execution_count": 256,
      "outputs": [
        {
          "output_type": "execute_result",
          "data": {
            "text/plain": [
              "False    141119\n",
              "True       2948\n",
              "Name: Tipo Edad Fallecido, dtype: int64"
            ]
          },
          "metadata": {},
          "execution_count": 256
        }
      ]
    },
    {
      "cell_type": "code",
      "source": [
        "print(f'Las defunciones de menores a un año en Cali son:',f_menoraño_cali.sum())\n",
        "print(f'Las defunciones de menores a un año en Valle son:',f_menoraño_valle.sum())"
      ],
      "metadata": {
        "colab": {
          "base_uri": "https://localhost:8080/"
        },
        "id": "5tL-b9d0TSL_",
        "outputId": "289d0e64-af95-40ec-aa0e-f6f7ef01872e"
      },
      "execution_count": 254,
      "outputs": [
        {
          "output_type": "stream",
          "name": "stdout",
          "text": [
            "Las defunciones de menores a un año en Cali son: 40238\n",
            "Las defunciones de menores a un año en Valle son: 2948\n"
          ]
        }
      ]
    },
    {
      "cell_type": "markdown",
      "source": [
        "Es posible que en el valle del cauca exista un subregistro debido a que la comparación con Cali, aunque debería ser menor, es extremadamente diferente. ❗"
      ],
      "metadata": {
        "id": "I82bqJrHf5cm"
      }
    },
    {
      "cell_type": "markdown",
      "source": [
        "### FILTRO MI"
      ],
      "metadata": {
        "id": "_6MXgtCbTuym"
      }
    },
    {
      "cell_type": "code",
      "source": [
        "def_inf_cali = def_cali[f_menoraño_cali]\n",
        "def_inf_valle = def_valle[f_menoraño_valle]"
      ],
      "metadata": {
        "id": "hfVnhhq_Sekn"
      },
      "execution_count": 260,
      "outputs": []
    },
    {
      "cell_type": "code",
      "source": [
        "print(def_inf_cali.shape)\n",
        "print(def_inf_valle.shape)"
      ],
      "metadata": {
        "colab": {
          "base_uri": "https://localhost:8080/"
        },
        "id": "w0DszWvyRhGo",
        "outputId": "257f9142-c123-4bd3-9e88-dc8f589fe788"
      },
      "execution_count": 305,
      "outputs": [
        {
          "output_type": "stream",
          "name": "stdout",
          "text": [
            "(40238, 12)\n",
            "(2948, 12)\n"
          ]
        }
      ]
    },
    {
      "cell_type": "markdown",
      "source": [
        " #### IGNORAR:"
      ],
      "metadata": {
        "id": "E4t7tcVsfjWB"
      }
    },
    {
      "cell_type": "code",
      "source": [
        "print(f'Médidas de tendencia del tiempo de gestación y el peso en cali: \\n ', def_inf_cali[['Tiempo Gestación', 'Peso']].describe())\n",
        "print(f'Médidas de tendencia del tiempo de gestación y el peso en valle: \\n ', def_inf_valle[['Tiempo Gestación', 'Peso']].describe())"
      ],
      "metadata": {
        "colab": {
          "base_uri": "https://localhost:8080/"
        },
        "id": "_c3Rt5O5W7B2",
        "outputId": "e5ab21cd-c983-44c1-a1a3-1a777119279b"
      },
      "execution_count": 271,
      "outputs": [
        {
          "output_type": "stream",
          "name": "stdout",
          "text": [
            "Médidas de tendencia del tiempo de gestación y el peso en cali: \n",
            "         Tiempo Gestación          Peso\n",
            "count      30869.000000  30757.000000\n",
            "mean          15.523632    524.045876\n",
            "std           10.709358    940.478206\n",
            "min            0.000000      0.000000\n",
            "25%            7.000000     12.000000\n",
            "50%           10.000000     50.000000\n",
            "75%           23.000000    530.000000\n",
            "max           42.000000   9000.000000\n",
            "Médidas de tendencia del tiempo de gestación y el peso en valle: \n",
            "         Tiempo Gestación         Peso\n",
            "count       2931.000000  2948.000000\n",
            "mean          38.920505  2546.020692\n",
            "std           21.493697  2381.200698\n",
            "min            1.000000     0.000000\n",
            "25%           27.000000   979.000000\n",
            "50%           34.000000  2040.000000\n",
            "75%           39.000000  3000.000000\n",
            "max           99.000000  9999.000000\n"
          ]
        }
      ]
    },
    {
      "cell_type": "markdown",
      "source": [
        "VEMOS LA CALIDAD DEL DATO DE LAS VARIABLES A FILTRAR: LOS ERRORES EN ESTAS VARIABLES PUEDEN SUGERIR HACER IMPUTACIÓN O QUITARLOS"
      ],
      "metadata": {
        "id": "x06m1CXfYNA-"
      }
    },
    {
      "cell_type": "code",
      "source": [
        "print(((def_inf_cali['Peso'] == 0) | (def_inf_cali['Tiempo Gestación'] == 0)).value_counts())\n",
        "print(((def_inf_valle['Peso'] == 0) | (def_inf_valle['Tiempo Gestación'] == 0)).value_counts())"
      ],
      "metadata": {
        "colab": {
          "base_uri": "https://localhost:8080/"
        },
        "id": "bep5bvH4Xs3e",
        "outputId": "cc2a946c-c2c7-46b3-a85e-f329926e39ac"
      },
      "execution_count": 275,
      "outputs": [
        {
          "output_type": "stream",
          "name": "stdout",
          "text": [
            "False    40194\n",
            "True        44\n",
            "dtype: int64\n",
            "False    2931\n",
            "True       17\n",
            "dtype: int64\n"
          ]
        }
      ]
    },
    {
      "cell_type": "code",
      "source": [
        "print(((def_inf_cali['Peso'] >= 9000) | (def_inf_cali['Tiempo Gestación'] == 99)).value_counts())\n",
        "print(((def_inf_valle['Peso'] >= 9000) | (def_inf_valle['Tiempo Gestación'] == 99)).value_counts())"
      ],
      "metadata": {
        "colab": {
          "base_uri": "https://localhost:8080/"
        },
        "id": "fMdHjL4EYdMo",
        "outputId": "c8771117-e083-4340-baa1-1553bd4a726e"
      },
      "execution_count": 281,
      "outputs": [
        {
          "output_type": "stream",
          "name": "stdout",
          "text": [
            "False    40235\n",
            "True         3\n",
            "dtype: int64\n",
            "False    2588\n",
            "True      360\n",
            "dtype: int64\n"
          ]
        }
      ]
    },
    {
      "cell_type": "code",
      "source": [
        "print((((def_inf_cali['Peso'] == 0) | (def_inf_cali['Peso'] >= 9000)| (def_inf_cali['Peso'].isna()) ) |\n",
        "((def_inf_cali['Tiempo Gestación'] == 0) | (def_inf_cali['Tiempo Gestación'] == 99)| (def_inf_cali['Tiempo Gestación'].isna()) )).value_counts())"
      ],
      "metadata": {
        "colab": {
          "base_uri": "https://localhost:8080/"
        },
        "id": "tdnMCoSranRf",
        "outputId": "e4a66a66-f57a-454e-cb65-945e6a03dd65"
      },
      "execution_count": 285,
      "outputs": [
        {
          "output_type": "stream",
          "name": "stdout",
          "text": [
            "False    24971\n",
            "True     15267\n",
            "dtype: int64\n"
          ]
        }
      ]
    },
    {
      "cell_type": "code",
      "source": [
        "print((((def_inf_valle['Peso'] == 0) | (def_inf_valle['Peso'] >= 9000)| (def_inf_valle['Peso'].isna()) ) |\n",
        "((def_inf_valle['Tiempo Gestación'] == 0) | (def_inf_valle['Tiempo Gestación'] == 99)| (def_inf_valle['Tiempo Gestación'].isna()) )).value_counts())"
      ],
      "metadata": {
        "colab": {
          "base_uri": "https://localhost:8080/"
        },
        "id": "6KG8JpGGb81u",
        "outputId": "12a7f7af-221f-43c0-e6eb-1633460f97c0"
      },
      "execution_count": 286,
      "outputs": [
        {
          "output_type": "stream",
          "name": "stdout",
          "text": [
            "False    2571\n",
            "True      377\n",
            "dtype: int64\n"
          ]
        }
      ]
    },
    {
      "cell_type": "code",
      "source": [
        "f_bpnt_cali = (def_inf_cali['Peso'] < 2500) & (def_inf_cali['Tiempo Gestación'] >= 37)\n",
        "f_bpnt_valle = (def_inf_valle['Peso'] < 2500) & (def_inf_valle['Tiempo Gestación'] >= 37)"
      ],
      "metadata": {
        "id": "HykpeKWwWsYX"
      },
      "execution_count": 296,
      "outputs": []
    },
    {
      "cell_type": "code",
      "source": [
        "print(f_bpnt_cali.value_counts())\n",
        "print(f_bpnt_valle.value_counts())"
      ],
      "metadata": {
        "colab": {
          "base_uri": "https://localhost:8080/"
        },
        "id": "K3i7lyF-ceG2",
        "outputId": "2f83fb64-2a02-4ff1-f96b-aeee9d026d70"
      },
      "execution_count": 293,
      "outputs": [
        {
          "output_type": "stream",
          "name": "stdout",
          "text": [
            "False    39781\n",
            "True       457\n",
            "dtype: int64\n",
            "False    2742\n",
            "True      206\n",
            "dtype: int64\n"
          ]
        }
      ]
    },
    {
      "cell_type": "markdown",
      "source": [
        "### FILTRO BPNT:"
      ],
      "metadata": {
        "id": "aUmr6VtwfoB-"
      }
    },
    {
      "cell_type": "code",
      "source": [
        "def_bpnt_cali = def_inf_cali[f_bpnt_cali]\n",
        "def_bpnt_valle = def_inf_valle[f_bpnt_valle]"
      ],
      "metadata": {
        "id": "9Rbr9oBLdUHH"
      },
      "execution_count": 299,
      "outputs": []
    },
    {
      "cell_type": "code",
      "source": [
        "print(def_bpnt_cali.shape)\n",
        "print(def_bpnt_valle.shape)"
      ],
      "metadata": {
        "colab": {
          "base_uri": "https://localhost:8080/"
        },
        "id": "DsurwwmadlXu",
        "outputId": "9b046211-fb23-49b8-fb40-90f1d7fe6c3b"
      },
      "execution_count": 301,
      "outputs": [
        {
          "output_type": "stream",
          "name": "stdout",
          "text": [
            "(457, 12)\n",
            "(206, 12)\n"
          ]
        }
      ]
    },
    {
      "cell_type": "code",
      "source": [
        "((def_bpnt_cali['Número Documento Madre'] == 99999999999)|\n",
        " (def_bpnt_cali['Número Documento Madre'].isna())|\n",
        " (def_bpnt_cali['Número Documento Madre'] == 0)).value_counts()"
      ],
      "metadata": {
        "colab": {
          "base_uri": "https://localhost:8080/"
        },
        "id": "WO9-OxJweHw3",
        "outputId": "bfc7b5fb-78d7-4bf4-a580-50658a194259"
      },
      "execution_count": 308,
      "outputs": [
        {
          "output_type": "execute_result",
          "data": {
            "text/plain": [
              "False    444\n",
              "True      13\n",
              "Name: Número Documento Madre, dtype: int64"
            ]
          },
          "metadata": {},
          "execution_count": 308
        }
      ]
    },
    {
      "cell_type": "code",
      "source": [
        "((def_bpnt_valle['Número Documento Madre'] == 99999999999)|\n",
        " (def_bpnt_valle['Número Documento Madre'].isna())|\n",
        " (def_bpnt_valle['Número Documento Madre'] == 0)).value_counts()"
      ],
      "metadata": {
        "colab": {
          "base_uri": "https://localhost:8080/"
        },
        "id": "d2Fz0Skph4no",
        "outputId": "d8292071-a4c8-485a-9b4c-be3c7a610d9a"
      },
      "execution_count": 309,
      "outputs": [
        {
          "output_type": "execute_result",
          "data": {
            "text/plain": [
              "False    196\n",
              "True      10\n",
              "Name: Número Documento Madre, dtype: int64"
            ]
          },
          "metadata": {},
          "execution_count": 309
        }
      ]
    },
    {
      "cell_type": "code",
      "source": [
        "f_idna_def_cali= ((def_bpnt_cali['Número Documento Madre'] == 99999999999)|\n",
        " (def_bpnt_cali['Número Documento Madre'].isna())|\n",
        " (def_bpnt_cali['Número Documento Madre'] == 0))\n",
        "\n",
        "f_idna_def_valle=((def_bpnt_valle['Número Documento Madre'] == 99999999999)|\n",
        " (def_bpnt_valle['Número Documento Madre'].isna())|\n",
        " (def_bpnt_valle['Número Documento Madre'] == 0))"
      ],
      "metadata": {
        "id": "oYOiESX1i78J"
      },
      "execution_count": 315,
      "outputs": []
    },
    {
      "cell_type": "code",
      "source": [
        "def_bpnt_cali = def_bpnt_cali[~f_idna_def_cali].copy()\n",
        "def_bpnt_valle = def_bpnt_valle[~f_idna_def_valle].copy()"
      ],
      "metadata": {
        "id": "8eiBC3JYjLy2"
      },
      "execution_count": 316,
      "outputs": []
    },
    {
      "cell_type": "code",
      "source": [
        "print(def_bpnt_cali.shape)\n",
        "print(def_bpnt_valle.shape)"
      ],
      "metadata": {
        "colab": {
          "base_uri": "https://localhost:8080/"
        },
        "id": "Zne2dNRxjZln",
        "outputId": "f04de1fc-32e3-42cb-c926-eaafe9685495"
      },
      "execution_count": 319,
      "outputs": [
        {
          "output_type": "stream",
          "name": "stdout",
          "text": [
            "(444, 12)\n",
            "(196, 12)\n"
          ]
        }
      ]
    },
    {
      "cell_type": "code",
      "source": [
        "def_bpnt_cali['Número Documento Madre'].astype(str).isin(def_bpnt_valle['Número Documento Madre'].astype(int).astype(str)).value_counts()"
      ],
      "metadata": {
        "colab": {
          "base_uri": "https://localhost:8080/"
        },
        "id": "aK-CQuiBpD_G",
        "outputId": "d9b3fb35-f1d3-47fb-b9f7-63ca0419bd69"
      },
      "execution_count": 369,
      "outputs": [
        {
          "output_type": "execute_result",
          "data": {
            "text/plain": [
              "False    363\n",
              "True      81\n",
              "Name: Número Documento Madre, dtype: int64"
            ]
          },
          "metadata": {},
          "execution_count": 369
        }
      ]
    },
    {
      "cell_type": "code",
      "source": [
        "def_bpnt_cali['Número Documento Madre'].astype(str).isin(def_bpnt_valle['Número Documento Madre'].astype(int).astype(str)).index"
      ],
      "metadata": {
        "colab": {
          "base_uri": "https://localhost:8080/"
        },
        "id": "GbLOvPGMlZQq",
        "outputId": "3811b1ba-8422-4f80-b765-209c1b12dbd1"
      },
      "execution_count": 334,
      "outputs": [
        {
          "output_type": "execute_result",
          "data": {
            "text/plain": [
              "Int64Index([  2057,   2151,   2268,   2813,   3354,   4332,   4505,   4649,\n",
              "              4726,   6838,\n",
              "            ...\n",
              "            226236, 227186, 227411, 228007, 228586, 229295, 229390, 230104,\n",
              "            230642, 231398],\n",
              "           dtype='int64', length=444)"
            ]
          },
          "metadata": {},
          "execution_count": 334
        }
      ]
    },
    {
      "cell_type": "code",
      "source": [
        "def_bpnt_valle['Número Documento Madre'].astype(int).astype(str).isin(def_bpnt_cali['Número Documento Madre'].astype(str)).index"
      ],
      "metadata": {
        "colab": {
          "base_uri": "https://localhost:8080/"
        },
        "id": "WoZcJmgonpMh",
        "outputId": "4ef5c3dd-d83f-416b-dadc-740fe6e629c1"
      },
      "execution_count": 356,
      "outputs": [
        {
          "output_type": "execute_result",
          "data": {
            "text/plain": [
              "Int64Index([  1104,   4189,   5625,   6980,   7554,   9477,  11317,  11534,\n",
              "             11944,  11952,\n",
              "            ...\n",
              "            130706, 131275, 131345, 131583, 131985, 135902, 137399, 140392,\n",
              "            141513, 143922],\n",
              "           dtype='int64', length=196)"
            ]
          },
          "metadata": {},
          "execution_count": 356
        }
      ]
    },
    {
      "cell_type": "code",
      "source": [
        "def_bpnt_valle.loc[1104,]"
      ],
      "metadata": {
        "colab": {
          "base_uri": "https://localhost:8080/"
        },
        "id": "HjblnKhnmiuo",
        "outputId": "d2d8bf60-44af-46d6-f474-6a5531a38a44"
      },
      "execution_count": 362,
      "outputs": [
        {
          "output_type": "execute_result",
          "data": {
            "text/plain": [
              "Fecha Defunción                 2011-02-05 00:00:00\n",
              "Sexo                                              1\n",
              "Tipo Edad Fallecido       MENOR DE 1 AÑO (EN MESES)\n",
              "Edad Fallecido                                    4\n",
              "Probable Manera Muerte                      NATURAL\n",
              "Tiempo Gestación                               99.0\n",
              "Peso                                         1950.0\n",
              "Tipo Documento Madre                              3\n",
              "Número Documento Madre                   38671277.0\n",
              "Municipio Residencia                           CALI\n",
              "Municipio Defunción                            CALI\n",
              "Diagnóstico A                        FALLA CARDIACA\n",
              "Name: 1104, dtype: object"
            ]
          },
          "metadata": {},
          "execution_count": 362
        }
      ]
    },
    {
      "cell_type": "code",
      "source": [
        "def_bpnt_valle.loc[def_bpnt_valle['Número Documento Madre'].astype(int) == 38671277,]"
      ],
      "metadata": {
        "colab": {
          "base_uri": "https://localhost:8080/",
          "height": 150
        },
        "id": "mXrcDl4KmoaW",
        "outputId": "843e4b3c-e4b0-4e85-8270-598ad8b264fa"
      },
      "execution_count": 363,
      "outputs": [
        {
          "output_type": "execute_result",
          "data": {
            "text/plain": [
              "          Fecha Defunción  Sexo        Tipo Edad Fallecido  Edad Fallecido  \\\n",
              "1104  2011-02-05 00:00:00     1  MENOR DE 1 AÑO (EN MESES)               4   \n",
              "\n",
              "     Probable Manera Muerte  Tiempo Gestación    Peso Tipo Documento Madre  \\\n",
              "1104                NATURAL              99.0  1950.0                    3   \n",
              "\n",
              "      Número Documento Madre Municipio Residencia Municipio Defunción  \\\n",
              "1104              38671277.0                 CALI                CALI   \n",
              "\n",
              "       Diagnóstico A  \n",
              "1104  FALLA CARDIACA  "
            ],
            "text/html": [
              "\n",
              "  <div id=\"df-b012148a-6aa6-42e7-b171-8dfa81b9d5c4\" class=\"colab-df-container\">\n",
              "    <div>\n",
              "<style scoped>\n",
              "    .dataframe tbody tr th:only-of-type {\n",
              "        vertical-align: middle;\n",
              "    }\n",
              "\n",
              "    .dataframe tbody tr th {\n",
              "        vertical-align: top;\n",
              "    }\n",
              "\n",
              "    .dataframe thead th {\n",
              "        text-align: right;\n",
              "    }\n",
              "</style>\n",
              "<table border=\"1\" class=\"dataframe\">\n",
              "  <thead>\n",
              "    <tr style=\"text-align: right;\">\n",
              "      <th></th>\n",
              "      <th>Fecha Defunción</th>\n",
              "      <th>Sexo</th>\n",
              "      <th>Tipo Edad Fallecido</th>\n",
              "      <th>Edad Fallecido</th>\n",
              "      <th>Probable Manera Muerte</th>\n",
              "      <th>Tiempo Gestación</th>\n",
              "      <th>Peso</th>\n",
              "      <th>Tipo Documento Madre</th>\n",
              "      <th>Número Documento Madre</th>\n",
              "      <th>Municipio Residencia</th>\n",
              "      <th>Municipio Defunción</th>\n",
              "      <th>Diagnóstico A</th>\n",
              "    </tr>\n",
              "  </thead>\n",
              "  <tbody>\n",
              "    <tr>\n",
              "      <th>1104</th>\n",
              "      <td>2011-02-05 00:00:00</td>\n",
              "      <td>1</td>\n",
              "      <td>MENOR DE 1 AÑO (EN MESES)</td>\n",
              "      <td>4</td>\n",
              "      <td>NATURAL</td>\n",
              "      <td>99.0</td>\n",
              "      <td>1950.0</td>\n",
              "      <td>3</td>\n",
              "      <td>38671277.0</td>\n",
              "      <td>CALI</td>\n",
              "      <td>CALI</td>\n",
              "      <td>FALLA CARDIACA</td>\n",
              "    </tr>\n",
              "  </tbody>\n",
              "</table>\n",
              "</div>\n",
              "    <div class=\"colab-df-buttons\">\n",
              "\n",
              "  <div class=\"colab-df-container\">\n",
              "    <button class=\"colab-df-convert\" onclick=\"convertToInteractive('df-b012148a-6aa6-42e7-b171-8dfa81b9d5c4')\"\n",
              "            title=\"Convert this dataframe to an interactive table.\"\n",
              "            style=\"display:none;\">\n",
              "\n",
              "  <svg xmlns=\"http://www.w3.org/2000/svg\" height=\"24px\" viewBox=\"0 -960 960 960\">\n",
              "    <path d=\"M120-120v-720h720v720H120Zm60-500h600v-160H180v160Zm220 220h160v-160H400v160Zm0 220h160v-160H400v160ZM180-400h160v-160H180v160Zm440 0h160v-160H620v160ZM180-180h160v-160H180v160Zm440 0h160v-160H620v160Z\"/>\n",
              "  </svg>\n",
              "    </button>\n",
              "\n",
              "  <style>\n",
              "    .colab-df-container {\n",
              "      display:flex;\n",
              "      gap: 12px;\n",
              "    }\n",
              "\n",
              "    .colab-df-convert {\n",
              "      background-color: #E8F0FE;\n",
              "      border: none;\n",
              "      border-radius: 50%;\n",
              "      cursor: pointer;\n",
              "      display: none;\n",
              "      fill: #1967D2;\n",
              "      height: 32px;\n",
              "      padding: 0 0 0 0;\n",
              "      width: 32px;\n",
              "    }\n",
              "\n",
              "    .colab-df-convert:hover {\n",
              "      background-color: #E2EBFA;\n",
              "      box-shadow: 0px 1px 2px rgba(60, 64, 67, 0.3), 0px 1px 3px 1px rgba(60, 64, 67, 0.15);\n",
              "      fill: #174EA6;\n",
              "    }\n",
              "\n",
              "    .colab-df-buttons div {\n",
              "      margin-bottom: 4px;\n",
              "    }\n",
              "\n",
              "    [theme=dark] .colab-df-convert {\n",
              "      background-color: #3B4455;\n",
              "      fill: #D2E3FC;\n",
              "    }\n",
              "\n",
              "    [theme=dark] .colab-df-convert:hover {\n",
              "      background-color: #434B5C;\n",
              "      box-shadow: 0px 1px 3px 1px rgba(0, 0, 0, 0.15);\n",
              "      filter: drop-shadow(0px 1px 2px rgba(0, 0, 0, 0.3));\n",
              "      fill: #FFFFFF;\n",
              "    }\n",
              "  </style>\n",
              "\n",
              "    <script>\n",
              "      const buttonEl =\n",
              "        document.querySelector('#df-b012148a-6aa6-42e7-b171-8dfa81b9d5c4 button.colab-df-convert');\n",
              "      buttonEl.style.display =\n",
              "        google.colab.kernel.accessAllowed ? 'block' : 'none';\n",
              "\n",
              "      async function convertToInteractive(key) {\n",
              "        const element = document.querySelector('#df-b012148a-6aa6-42e7-b171-8dfa81b9d5c4');\n",
              "        const dataTable =\n",
              "          await google.colab.kernel.invokeFunction('convertToInteractive',\n",
              "                                                    [key], {});\n",
              "        if (!dataTable) return;\n",
              "\n",
              "        const docLinkHtml = 'Like what you see? Visit the ' +\n",
              "          '<a target=\"_blank\" href=https://colab.research.google.com/notebooks/data_table.ipynb>data table notebook</a>'\n",
              "          + ' to learn more about interactive tables.';\n",
              "        element.innerHTML = '';\n",
              "        dataTable['output_type'] = 'display_data';\n",
              "        await google.colab.output.renderOutput(dataTable, element);\n",
              "        const docLink = document.createElement('div');\n",
              "        docLink.innerHTML = docLinkHtml;\n",
              "        element.appendChild(docLink);\n",
              "      }\n",
              "    </script>\n",
              "  </div>\n",
              "\n",
              "    </div>\n",
              "  </div>\n"
            ]
          },
          "metadata": {},
          "execution_count": 363
        }
      ]
    },
    {
      "cell_type": "code",
      "source": [
        "def_bpnt_cali.loc[def_bpnt_cali['Número Documento Madre'].astype(str) == '38671277',]"
      ],
      "metadata": {
        "colab": {
          "base_uri": "https://localhost:8080/",
          "height": 84
        },
        "id": "mhnmL2hGnBYX",
        "outputId": "a6da33f6-1fb0-4a8d-da48-522ff5a7b9f6"
      },
      "execution_count": 365,
      "outputs": [
        {
          "output_type": "execute_result",
          "data": {
            "text/plain": [
              "Empty DataFrame\n",
              "Columns: [Fecha Defunción, Sexo, Tipo Edad Fallecido, Edad Fallecido, Probable Manera Muerte, Tiempo Gestación, Peso, Tipo Documento Madre, Número Documento Madre, Municipio Residencia, Municipio Defunción, Diagnóstico A]\n",
              "Index: []"
            ],
            "text/html": [
              "\n",
              "  <div id=\"df-7cf5e700-65b3-4113-8b83-3fe0436ca866\" class=\"colab-df-container\">\n",
              "    <div>\n",
              "<style scoped>\n",
              "    .dataframe tbody tr th:only-of-type {\n",
              "        vertical-align: middle;\n",
              "    }\n",
              "\n",
              "    .dataframe tbody tr th {\n",
              "        vertical-align: top;\n",
              "    }\n",
              "\n",
              "    .dataframe thead th {\n",
              "        text-align: right;\n",
              "    }\n",
              "</style>\n",
              "<table border=\"1\" class=\"dataframe\">\n",
              "  <thead>\n",
              "    <tr style=\"text-align: right;\">\n",
              "      <th></th>\n",
              "      <th>Fecha Defunción</th>\n",
              "      <th>Sexo</th>\n",
              "      <th>Tipo Edad Fallecido</th>\n",
              "      <th>Edad Fallecido</th>\n",
              "      <th>Probable Manera Muerte</th>\n",
              "      <th>Tiempo Gestación</th>\n",
              "      <th>Peso</th>\n",
              "      <th>Tipo Documento Madre</th>\n",
              "      <th>Número Documento Madre</th>\n",
              "      <th>Municipio Residencia</th>\n",
              "      <th>Municipio Defunción</th>\n",
              "      <th>Diagnóstico A</th>\n",
              "    </tr>\n",
              "  </thead>\n",
              "  <tbody>\n",
              "  </tbody>\n",
              "</table>\n",
              "</div>\n",
              "    <div class=\"colab-df-buttons\">\n",
              "\n",
              "  <div class=\"colab-df-container\">\n",
              "    <button class=\"colab-df-convert\" onclick=\"convertToInteractive('df-7cf5e700-65b3-4113-8b83-3fe0436ca866')\"\n",
              "            title=\"Convert this dataframe to an interactive table.\"\n",
              "            style=\"display:none;\">\n",
              "\n",
              "  <svg xmlns=\"http://www.w3.org/2000/svg\" height=\"24px\" viewBox=\"0 -960 960 960\">\n",
              "    <path d=\"M120-120v-720h720v720H120Zm60-500h600v-160H180v160Zm220 220h160v-160H400v160Zm0 220h160v-160H400v160ZM180-400h160v-160H180v160Zm440 0h160v-160H620v160ZM180-180h160v-160H180v160Zm440 0h160v-160H620v160Z\"/>\n",
              "  </svg>\n",
              "    </button>\n",
              "\n",
              "  <style>\n",
              "    .colab-df-container {\n",
              "      display:flex;\n",
              "      gap: 12px;\n",
              "    }\n",
              "\n",
              "    .colab-df-convert {\n",
              "      background-color: #E8F0FE;\n",
              "      border: none;\n",
              "      border-radius: 50%;\n",
              "      cursor: pointer;\n",
              "      display: none;\n",
              "      fill: #1967D2;\n",
              "      height: 32px;\n",
              "      padding: 0 0 0 0;\n",
              "      width: 32px;\n",
              "    }\n",
              "\n",
              "    .colab-df-convert:hover {\n",
              "      background-color: #E2EBFA;\n",
              "      box-shadow: 0px 1px 2px rgba(60, 64, 67, 0.3), 0px 1px 3px 1px rgba(60, 64, 67, 0.15);\n",
              "      fill: #174EA6;\n",
              "    }\n",
              "\n",
              "    .colab-df-buttons div {\n",
              "      margin-bottom: 4px;\n",
              "    }\n",
              "\n",
              "    [theme=dark] .colab-df-convert {\n",
              "      background-color: #3B4455;\n",
              "      fill: #D2E3FC;\n",
              "    }\n",
              "\n",
              "    [theme=dark] .colab-df-convert:hover {\n",
              "      background-color: #434B5C;\n",
              "      box-shadow: 0px 1px 3px 1px rgba(0, 0, 0, 0.15);\n",
              "      filter: drop-shadow(0px 1px 2px rgba(0, 0, 0, 0.3));\n",
              "      fill: #FFFFFF;\n",
              "    }\n",
              "  </style>\n",
              "\n",
              "    <script>\n",
              "      const buttonEl =\n",
              "        document.querySelector('#df-7cf5e700-65b3-4113-8b83-3fe0436ca866 button.colab-df-convert');\n",
              "      buttonEl.style.display =\n",
              "        google.colab.kernel.accessAllowed ? 'block' : 'none';\n",
              "\n",
              "      async function convertToInteractive(key) {\n",
              "        const element = document.querySelector('#df-7cf5e700-65b3-4113-8b83-3fe0436ca866');\n",
              "        const dataTable =\n",
              "          await google.colab.kernel.invokeFunction('convertToInteractive',\n",
              "                                                    [key], {});\n",
              "        if (!dataTable) return;\n",
              "\n",
              "        const docLinkHtml = 'Like what you see? Visit the ' +\n",
              "          '<a target=\"_blank\" href=https://colab.research.google.com/notebooks/data_table.ipynb>data table notebook</a>'\n",
              "          + ' to learn more about interactive tables.';\n",
              "        element.innerHTML = '';\n",
              "        dataTable['output_type'] = 'display_data';\n",
              "        await google.colab.output.renderOutput(dataTable, element);\n",
              "        const docLink = document.createElement('div');\n",
              "        docLink.innerHTML = docLinkHtml;\n",
              "        element.appendChild(docLink);\n",
              "      }\n",
              "    </script>\n",
              "  </div>\n",
              "\n",
              "    </div>\n",
              "  </div>\n"
            ]
          },
          "metadata": {},
          "execution_count": 365
        }
      ]
    },
    {
      "cell_type": "code",
      "source": [
        "# LA COMPARACIÓN DE CÉDULAS REPETIDAS DA COMO RESULTADO CIERTOS INDICES PERO NO LO PUDIMOS CORROBORAR."
      ],
      "metadata": {
        "id": "lbPNRq_yo28J"
      },
      "execution_count": null,
      "outputs": []
    }
  ]
}